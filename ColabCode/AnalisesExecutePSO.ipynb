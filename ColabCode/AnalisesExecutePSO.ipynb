{
  "nbformat": 4,
  "nbformat_minor": 0,
  "metadata": {
    "colab": {
      "name": "AnalisesExecutePSO.ipynb",
      "provenance": [],
      "collapsed_sections": [
        "KlxYXBtzIIQf",
        "yt9tuaefSNV1",
        "0Tpa0BMcFBxY",
        "rjKxTLm8IHl7",
        "qPnADjcpISLJ",
        "-EnuMkymIViq",
        "npZyoIchJxre",
        "Hx5SNfhBJh7x",
        "Zlbkg7nqJTl_",
        "1OKMi8PSJOjk",
        "zLEjFFmRBfWx",
        "fbcTXZqM4sgs"
      ]
    },
    "kernelspec": {
      "display_name": "Python 3",
      "name": "python3"
    },
    "language_info": {
      "name": "python"
    }
  },
  "cells": [
    {
      "cell_type": "code",
      "metadata": {
        "id": "mWAiddCATQDX"
      },
      "source": [
        "import numpy as np\n",
        "import seaborn as sns\n",
        "import matplotlib.pyplot as plt\n",
        "%matplotlib inline\n",
        "\n",
        "from matplotlib import cm\n",
        "from matplotlib import animation\n",
        "\n",
        "from matplotlib.ticker import LinearLocator, FormatStrFormatter\n",
        "from mpl_toolkits.mplot3d import Axes3D\n",
        "from IPython.display import HTML"
      ],
      "execution_count": null,
      "outputs": []
    },
    {
      "cell_type": "code",
      "metadata": {
        "colab": {
          "base_uri": "https://localhost:8080/"
        },
        "id": "c_1Dp4vMMkyP",
        "outputId": "b6e14e1b-ae36-4806-9349-2edea6293ba4"
      },
      "source": [
        "#fitness = np.load(\"/content/drive/MyDrive/PSO_execs/FilteredDataSets/fitness.npy\", allow_pickle=True)\n",
        "#fitness = fitness[()]\n",
        "print(fitness[\"problem_3\"])"
      ],
      "execution_count": null,
      "outputs": [
        {
          "output_type": "stream",
          "name": "stdout",
          "text": [
            "{'coef_3': {'approach_1': [13, 14, 12, 14, 11, 13, 11, 15, 14, 10, 11, 10, 11, 11, 11, 11, 11, 15, 9, 16, 13, 15, 14, 9, 11, 13, 14, 14, 12, 10, 11, 10, 11, 11, 11, 15, 12, 12, 11, 15, 13, 11, 12, 13, 11, 13, 11, 12, 14, 13, 12, 10, 11, 11, 11, 16, 12, 15, 9, 15, 13, 11, 14, 15, 11, 13, 11, 15, 14, 13, 11, 10, 11, 11, 11, 16, 16, 15, 11, 16, 13, 11, 12, 12, 11, 13, 10, 14, 14, 16, 12, 10, 11, 11, 11, 8, 12, 15, 13, 13, 13, 15, 16, 15, 11, 13, 11, 15, 12, 12, 12, 10, 11, 11, 11, 16, 12, 12, 13, 15, 13, 11, 12, 14, 11, 13, 11, 12, 14, 12, 11, 10, 11, 11, 11, 16, 13, 14, 13, 15, 13, 11, 14, 14, 11, 13, 13, 12, 12, 10, 11, 10, 11, 11, 11, 16, 12, 15, 9, 16, 15, 11, 9, 14, 11, 13, 13, 15, 14, 14, 15, 10, 13, 11, 11, 16, 12, 14, 9, 16, 12, 15, 14, 14, 12, 13, 14, 14, 14, 13, 14, 10, 11, 11, 11, 16, 12, 12, 9, 16, 13, 10, 13, 13, 12, 13, 11, 15, 14, 14, 11, 10, 11, 11, 11, 11, 11, 14, 11, 13, 13, 11, 12, 16, 12, 13, 11, 15, 14, 10, 11, 10, 11, 11, 11, 11, 12, 14, 13, 15, 13, 11, 12, 14, 11, 13, 12, 12, 12, 10, 13, 10, 11, 11, 11, 11, 16, 15, 9, 14, 13, 10, 14, 14, 11, 13, 10, 12, 12, 10, 15, 10, 11, 11, 11, 8, 16, 15, 11, 13], 'approach_2': [13, 11, 11, 14, 11, 10, 11, 14, 10, 13, 11, 10, 12, 11, 11, 12, 12, 9, 9, 15, 12, 11, 10, 9, 11, 10, 10, 14, 10, 10, 11, 10, 11, 11, 11, 12, 11, 9, 13, 15, 12, 11, 10, 14, 11, 13, 13, 14, 10, 12, 12, 10, 11, 11, 10, 12, 12, 9, 9, 15, 13, 11, 12, 13, 11, 13, 14, 12, 13, 12, 12, 10, 11, 11, 11, 12, 12, 9, 9, 16, 13, 11, 10, 14, 11, 10, 14, 12, 10, 12, 12, 10, 11, 11, 11, 12, 12, 11, 9, 15, 13, 10, 11, 14, 11, 10, 10, 14, 10, 10, 14, 10, 11, 11, 9, 12, 12, 9, 11, 13, 12, 11, 11, 14, 11, 10, 11, 14, 14, 14, 11, 10, 11, 11, 10, 12, 14, 11, 9, 15, 13, 11, 10, 14, 11, 10, 10, 14, 10, 13, 11, 10, 11, 11, 11, 12, 12, 11, 9, 14, 13, 11, 12, 14, 11, 10, 10, 12, 10, 10, 11, 10, 11, 11, 11, 12, 13, 12, 9, 15, 17, 10, 10, 9, 11, 10, 11, 13, 10, 13, 14, 10, 11, 11, 11, 12, 12, 12, 11, 13, 12, 11, 10, 14, 11, 10, 10, 12, 13, 13, 12, 10, 11, 11, 9, 12, 12, 9, 9, 13, 13, 12, 11, 14, 11, 13, 10, 12, 13, 12, 11, 10, 12, 11, 11, 12, 12, 12, 9, 15, 13, 11, 11, 14, 11, 10, 13, 13, 13, 10, 12, 10, 11, 11, 10, 12, 13, 9, 9, 15, 13, 10, 11, 14, 11, 10, 13, 12, 10, 12, 17, 10, 11, 14, 10, 12, 12, 9, 9, 15]}, 'coef_5': {'approach_1': [10, 12, 11, 15, 11, 14, 13, 10, 10, 11, 10, 13, 15, 14, 9, 15, 9, 12, 12, 14, 14, 13, 11, 11, 11, 13, 14, 10, 10, 12, 10, 13, 12, 14, 9, 13, 9, 10, 12, 13, 12, 12, 10, 11, 11, 14, 13, 10, 10, 12, 10, 13, 9, 14, 9, 12, 11, 11, 15, 15, 14, 12, 10, 14, 11, 15, 14, 10, 10, 12, 10, 13, 9, 14, 13, 12, 11, 10, 15, 14, 14, 13, 11, 13, 11, 14, 13, 10, 10, 12, 10, 13, 13, 14, 13, 15, 12, 13, 12, 14, 15, 12, 11, 11, 11, 14, 13, 10, 10, 14, 10, 13, 8, 14, 10, 15, 9, 12, 12, 13, 14, 14, 11, 12, 11, 13, 13, 10, 10, 12, 10, 13, 15, 14, 9, 13, 9, 10, 12, 15, 12, 12, 10, 13, 11, 10, 10, 10, 10, 12, 10, 13, 12, 14, 10, 15, 13, 11, 13, 14, 12, 12, 11, 13, 11, 12, 13, 10, 10, 12, 10, 13, 8, 14, 9, 15, 12, 14, 15, 14, 10, 13, 11, 13, 11, 13, 14, 10, 10, 12, 10, 13, 8, 14, 13, 15, 9, 12, 15, 14, 12, 13, 12, 13, 11, 11, 10, 10, 10, 11, 10, 13, 12, 14, 9, 12, 12, 11, 13, 14, 14, 16, 11, 13, 11, 10, 14, 10, 10, 12, 10, 13, 8, 14, 13, 15, 12, 10, 14, 16, 15, 12, 11, 14, 11, 10, 13, 10, 10, 12, 10, 13, 12, 14, 9, 12, 9, 12, 15, 13, 12, 14, 11, 13, 11, 11, 13, 10, 10, 12, 10, 13, 14, 14, 10, 12, 9, 11, 12, 14], 'approach_2': [10, 12, 11, 11, 10, 10, 10, 8, 10, 12, 10, 10, 8, 9, 13, 12, 9, 11, 13, 12, 11, 12, 11, 15, 10, 13, 10, 8, 10, 13, 10, 10, 15, 9, 13, 10, 11, 11, 11, 12, 11, 11, 11, 13, 10, 14, 11, 8, 10, 11, 10, 10, 12, 11, 11, 13, 14, 12, 13, 12, 12, 12, 10, 15, 10, 12, 10, 8, 10, 12, 10, 10, 12, 14, 11, 12, 9, 10, 15, 11, 12, 11, 11, 11, 10, 14, 10, 8, 10, 11, 10, 9, 11, 11, 9, 13, 9, 11, 12, 11, 11, 11, 11, 11, 10, 10, 12, 10, 10, 11, 10, 10, 14, 9, 9, 12, 14, 11, 12, 11, 10, 14, 11, 13, 10, 13, 14, 10, 10, 12, 10, 10, 12, 11, 10, 15, 9, 11, 12, 12, 11, 14, 11, 11, 10, 10, 10, 8, 10, 11, 10, 9, 12, 13, 13, 12, 12, 11, 12, 12, 11, 16, 11, 11, 14, 13, 14, 8, 10, 14, 10, 10, 8, 9, 13, 12, 12, 13, 14, 12, 11, 12, 11, 13, 10, 10, 14, 8, 10, 11, 10, 10, 12, 11, 9, 13, 9, 12, 13, 12, 11, 14, 11, 12, 10, 14, 14, 8, 10, 15, 10, 10, 8, 14, 9, 13, 14, 10, 14, 11, 11, 11, 11, 11, 10, 14, 14, 8, 10, 12, 10, 10, 12, 11, 11, 13, 12, 10, 12, 12, 11, 12, 11, 15, 10, 12, 10, 8, 10, 11, 10, 10, 12, 14, 9, 12, 11, 14, 13, 12, 11, 11, 12, 12, 10, 13, 10, 10, 10, 12, 10, 9, 13, 11, 9, 13, 12, 12, 13, 12]}, 'coef_6': {'approach_1': [13, 11, 10, 11, 11, 11, 13, 14, 14, 15, 13, 11, 11, 10, 12, 10, 14, 15, 11, 15, 14, 13, 10, 15, 11, 13, 14, 14, 14, 15, 10, 9, 14, 10, 10, 13, 14, 15, 15, 13, 11, 11, 10, 12, 11, 9, 14, 14, 14, 12, 14, 15, 13, 10, 13, 10, 15, 15, 14, 11, 9, 13, 10, 11, 11, 9, 13, 16, 11, 12, 12, 14, 10, 10, 12, 13, 14, 15, 11, 10, 14, 13, 13, 11, 11, 9, 14, 13, 11, 14, 11, 9, 14, 10, 12, 13, 13, 10, 14, 12, 11, 11, 10, 12, 11, 14, 11, 13, 13, 13, 10, 13, 14, 10, 12, 13, 14, 10, 9, 15, 12, 14, 13, 12, 11, 11, 12, 14, 14, 13, 11, 15, 14, 10, 12, 13, 14, 10, 14, 12, 11, 11, 10, 11, 11, 13, 13, 14, 14, 13, 14, 14, 12, 10, 14, 13, 14, 15, 14, 11, 14, 11, 13, 14, 11, 14, 14, 15, 14, 13, 14, 12, 14, 10, 10, 10, 14, 10, 13, 15, 13, 11, 10, 14, 11, 14, 14, 14, 11, 15, 11, 14, 12, 10, 12, 13, 13, 10, 9, 11, 9, 13, 13, 8, 11, 9, 11, 13, 14, 13, 15, 12, 12, 8, 11, 13, 12, 10, 9, 11, 13, 13, 14, 14, 11, 16, 14, 14, 14, 14, 10, 12, 12, 10, 10, 10, 12, 10, 11, 11, 14, 11, 10, 12, 11, 9, 13, 15, 14, 12, 11, 14, 12, 10, 15, 13, 14, 14, 14, 15, 13, 12, 10, 10, 11, 9, 13, 14, 14, 15, 10, 15, 10, 10, 12, 13, 14, 15, 9, 12], 'approach_2': [13, 10, 11, 12, 11, 12, 13, 11, 11, 13, 12, 14, 10, 10, 12, 13, 13, 14, 9, 12, 10, 11, 11, 8, 11, 10, 10, 12, 9, 15, 13, 14, 12, 10, 12, 13, 12, 13, 9, 12, 10, 13, 12, 12, 11, 9, 12, 14, 11, 9, 10, 14, 11, 10, 13, 13, 12, 10, 11, 13, 12, 14, 10, 11, 11, 9, 10, 15, 11, 13, 12, 15, 10, 10, 12, 13, 13, 11, 9, 11, 10, 12, 10, 8, 11, 15, 13, 12, 11, 13, 14, 9, 14, 10, 12, 10, 12, 8, 11, 12, 13, 11, 10, 12, 11, 11, 13, 14, 11, 13, 12, 13, 9, 10, 11, 13, 10, 13, 12, 12, 14, 13, 11, 12, 11, 9, 13, 11, 9, 13, 13, 11, 10, 10, 12, 10, 12, 8, 12, 13, 10, 13, 14, 12, 11, 11, 13, 12, 11, 12, 12, 14, 14, 10, 10, 13, 12, 12, 9, 12, 11, 12, 11, 8, 11, 10, 11, 14, 9, 13, 12, 10, 14, 10, 12, 11, 14, 13, 14, 12, 10, 10, 10, 12, 11, 9, 13, 14, 11, 15, 12, 14, 12, 10, 12, 10, 14, 13, 11, 13, 13, 10, 13, 11, 11, 12, 13, 14, 11, 13, 10, 14, 9, 10, 11, 13, 12, 10, 10, 13, 10, 16, 11, 8, 11, 11, 13, 12, 9, 13, 13, 14, 14, 10, 12, 10, 13, 11, 11, 12, 10, 15, 12, 8, 11, 10, 11, 14, 11, 13, 10, 13, 12, 10, 12, 13, 10, 13, 10, 11, 9, 10, 10, 12, 11, 11, 11, 14, 9, 13, 12, 13, 14, 8, 12, 10, 12, 11, 9, 13]}}\n"
          ]
        }
      ]
    },
    {
      "cell_type": "code",
      "metadata": {
        "id": "Ia61wgIg5C5P"
      },
      "source": [
        "path_base_3 = f\"drive/MyDrive/PSO_execs/Kacem/exec{1}/problem{1}/cof{3}\"\n",
        "p_history1         = f\"{path_base_3}/particles_positions_history{1}_exec{1}.npy\"\n",
        "#p_history2         = f\"{path_base_3}/particles_positions_history{2}_exec{1}.npy\"\n",
        "population_history = np.load(\"/content/drive/MyDrive/PSO_execs/Kacem/exec1/problem1/cof3/particles_positions_history1_exec1.npy\", allow_pickle=True)[()]\n",
        "print(population_history)\n",
        "#gb_hist = population_history[:,-1]"
      ],
      "execution_count": null,
      "outputs": []
    },
    {
      "cell_type": "code",
      "metadata": {
        "id": "eQIy0yhZ3v3Q"
      },
      "source": [
        ""
      ],
      "execution_count": null,
      "outputs": []
    },
    {
      "cell_type": "code",
      "metadata": {
        "id": "4aquEIGf5HfR"
      },
      "source": [
        "# 400 iten (20x20)\n",
        "#ph1 = np.array(population_history[f\"problem_{p_num}\"][f\"coef_{cofs[i]}\"][f\"approach_{1}\"])\n",
        "#ph2 = np.array(population_history[f\"problem_{p_num}\"][f\"coef_{cofs[i]}\"][f\"approach_{2}\"])\n",
        "ph1 = population_history[f\"problem_{3}\"][f\"coef_{3}\"][f\"approach_{1}\"]\n",
        "ph2 = population_history[f\"problem_{3}\"][f\"coef_{3}\"][f\"approach_{2}\"]"
      ],
      "execution_count": null,
      "outputs": []
    },
    {
      "cell_type": "code",
      "metadata": {
        "colab": {
          "base_uri": "https://localhost:8080/"
        },
        "id": "1NMZ56Yr5UO1",
        "outputId": "f132ae28-66c3-4957-de54-86fe1dbdfbe3"
      },
      "source": [
        "#print(population_history[f\"problem_{3}\"][f\"coef_{3}\"][f\"approach_{1}\"])\n",
        "#print(population_history[f\"problem_{3}\"])\n",
        "print(population_history[f\"problem_{3}\"][f\"coef_{3}\"])"
      ],
      "execution_count": null,
      "outputs": [
        {
          "output_type": "stream",
          "name": "stdout",
          "text": [
            "{'coef_3': {'approach_1': [], 'approach_2': []}, 'coef_5': {'approach_1': [], 'approach_2': []}, 'coef_6': {'approach_1': [], 'approach_2': []}}\n"
          ]
        }
      ]
    },
    {
      "cell_type": "code",
      "metadata": {
        "id": "gmyoiOwyScQ3"
      },
      "source": [
        "limits                = [(9,15), (10,23), (6,19), (15,29)]\n",
        "figsize               = (8,5)\n",
        "approach_1_label      = \"PSO Base\"\n",
        "approach_2_label      = \"Inércia Dinâmica\"\n",
        "xlabel                = \"Makespan\"\n",
        "ylabel                = \"Frequência\"\n",
        "sizes                 = [50, 70, 90]\n",
        "cofs                  = [3,  5,  6 ]\n",
        "names_problm          = {1:\"A\", 2:\"B\", 3:\"C\", 4:\"D\"}\n",
        "range_i               = (1,5)\n",
        "range_j               = (0,3)\n",
        "show_plot             = False\n",
        "print_legend          = True\n",
        "save_plot             = True\n",
        "save_plot_format      = \"jpeg\"\n",
        "\n",
        "\n",
        "\n",
        "\n",
        "\n",
        "\n",
        "\n",
        "4\n",
        "\n",
        "\n",
        "\n",
        "\n",
        "\n",
        "\n"
      ],
      "execution_count": null,
      "outputs": []
    },
    {
      "cell_type": "code",
      "metadata": {
        "id": "M1saDrlh-Xvu"
      },
      "source": [
        "#ph1[x] um para cada execução\n",
        "gbest_history1 = [np.array(x)[:,-1] for x in ph1]\n",
        "gbest_history2 = [np.array(x)[:,-1] for x in ph2]\n",
        "gbest_history1_tuple = [[f\"{xx[0]},{xx[1]}\" for xx in x] for x in gbest_history1]\n",
        "gbest_history2_tuple = [[f\"{xx[0]},{xx[1]}\" for xx in x] for x in gbest_history2]\n",
        "\n",
        "gbest_uniques_history1 = [np.unique(x) for x in gbest_history1_tuple]\n",
        "gbest_uniques_history2 = [np.unique(x) for x in gbest_history2_tuple]\n",
        "\n",
        "quant_gbest_uniques_history1 = [len(x) for x in gbest_uniques_history1]\n",
        "quant_gbest_uniques_history2 = [len(x) for x in gbest_uniques_history2]"
      ],
      "execution_count": null,
      "outputs": []
    },
    {
      "cell_type": "code",
      "metadata": {
        "colab": {
          "base_uri": "https://localhost:8080/",
          "height": 282
        },
        "id": "qfEAfeMFdWHD",
        "outputId": "5d6cee13-5260-4e4e-dfc1-cf03e22e389e"
      },
      "source": [
        "# Plot de particulas\n",
        "#ph1 = population_history[f\"problem_{3}\"][f\"coef_{3}\"][f\"approach_{1}\"]\n",
        "path_base_3 = f\"drive/MyDrive/PSO_execs/Kacem/exec{1}/problem{1}/cof{3}\"\n",
        "ph_t = np.load(f\"{path_base_3}/particles_positions_history{1}_exec{1}.npy\")\n",
        "\n",
        "ph1 = ph_t[5]\n",
        "#ph_3_2 = np.load(f\"{path_base_3}/particles_positions_history{2}_exec{1}.npy\")\n",
        "colors = np.ones(len(ph1[0]))\n",
        "colors[len(colors)-1] = 3\n",
        "\n",
        "fig, ax = plt.subplots()\n",
        "ax.set_xlim((0, np.max(ph1)+3))\n",
        "ax.set_ylim((0, np.max(ph1)+3))\n",
        "partcs_x = ph1[:,0]\n",
        "partcs_y = ph1[:,1]\n",
        "ax.scatter(partcs_x, partcs_y)\n",
        "\n",
        "#ani = animation.FuncAnimation(fig, update, frames=len(ph1), interval=200, blit=True)\n",
        "#HTML(ani.to_html5_video())"
      ],
      "execution_count": null,
      "outputs": [
        {
          "output_type": "execute_result",
          "data": {
            "text/plain": [
              "<matplotlib.collections.PathCollection at 0x7f5082bda050>"
            ]
          },
          "metadata": {},
          "execution_count": 44
        },
        {
          "output_type": "display_data",
          "data": {
            "image/png": "[encoded data removed]",
            "text/plain": [
              "<Figure size 432x288 with 1 Axes>"
            ]
          },
          "metadata": {
            "needs_background": "light"
          }
        }
      ]
    },
    {
      "cell_type": "code",
      "metadata": {
        "colab": {
          "base_uri": "https://localhost:8080/",
          "height": 663
        },
        "id": "7qv_rFkkXEZ8",
        "outputId": "b42e9506-1d7e-49d4-dbad-43280a9d6822"
      },
      "source": [
        "# Plot de particulas\n",
        "ph1 = population_history[f\"problem_{4}\"][f\"coef_{3}\"][f\"approach_{2}\"]\n",
        "figsize = (18,10)\n",
        "p_num = 4\n",
        "exec = 0\n",
        "rodadas = [1,5,10,15,20,25]\n",
        "r1 = [1,3,5]\n",
        "r2 = [10,30,35]\n",
        "dimns = int(len(rodadas)/2)\n",
        "\n",
        "fig = plt.figure(figsize=figsize)\n",
        "ax = fig.subplots(nrows=2, ncols=3)\n",
        "fig.suptitle(f\"Problema {p_num}\", fontsize=20)\n",
        "plt.subplots_adjust(top=0.9)\n",
        "\n",
        "\n",
        "for iter in range(3):\n",
        "  positions = ph1[exec][r1[iter]]\n",
        "  gbest = positions[-1]\n",
        "  partcs = np.array(positions[:-1])\n",
        "  partcs_x = partcs[:,0]\n",
        "  partcs_y = partcs[:,1]\n",
        "  ax[0][iter].set_xlim((0, np.max(partcs_x)+3))\n",
        "  ax[0][iter].set_ylim((0, np.max(partcs_y)+3))\n",
        "  for p in range(len(partcs_y)):\n",
        "    ax[0][iter].scatter(partcs_x[p]+np.random.rand(), partcs_y[p]+np.random.rand(), c='#1f77b4')\n",
        "  #\n",
        "  ax[0][iter].scatter(gbest[0], gbest[1], label=\"Gbest\", c='#ff7f0e')\n",
        "  ax[0][iter].set_title(f'Interação: {r1[iter]}')\n",
        "  ax[0][iter].legend(fontsize=10, labelspacing=1)\n",
        "##\n",
        "\n",
        "for iter in range(3):\n",
        "  positions = ph1[exec][r2[iter]]\n",
        "  gbest = positions[-1]\n",
        "  partcs = np.array(positions[:-1])\n",
        "  partcs_x = partcs[:,0]\n",
        "  partcs_y = partcs[:,1]\n",
        "  ax[1][iter].set_xlim((0, np.max(partcs_x)+3))\n",
        "  ax[1][iter].set_ylim((0, np.max(partcs_y)+3))\n",
        "  for p in range(len(partcs_y)):\n",
        "    ax[1][iter].scatter(partcs_x[p]+np.random.rand(), partcs_y[p]+np.random.rand(), c='#1f77b4')\n",
        "  #\n",
        "  ax[1][iter].scatter(gbest[0], gbest[1], label=\"Gbest\", c='#ff7f0e')\n",
        "  ax[1][iter].set_title(f'Interação: {r2[iter]}')\n",
        "  ax[1][iter].legend(fontsize=10, labelspacing=1)\n",
        "##\n",
        "\n",
        "#if save:\n",
        "  #plt.savefig(f\"problem_{p_num}.{format}\")\n",
        "######################################\n",
        "plt.show()"
      ],
      "execution_count": null,
      "outputs": [
        {
          "output_type": "display_data",
          "data": {
            "image/png": "[encoded data removed]",
            "text/plain": [
              "<Figure size 1296x720 with 6 Axes>"
            ]
          },
          "metadata": {
            "needs_background": "light"
          }
        }
      ]
    },
    {
      "cell_type": "code",
      "metadata": {
        "id": "5zXJFFl58X23"
      },
      "source": [
        "fig = plt.figure()\n",
        "ax = fig.subplots()\n",
        "\n",
        "ft1 = handle_population_history(ph1)\n",
        "ft2 = handle_population_history(ph2)\n",
        "\n",
        "ft1u, ft1c = np.unique(ft1, return_counts=True)\n",
        "ft2u, ft2c = np.unique(ft2, return_counts=True)\n",
        "frec1 = dict(zip(ft1u, ft1c))\n",
        "frec2 = dict(zip(ft2u, ft2c))\n",
        "\n",
        "labels = np.unique(np.concatenate((ft1,ft2)))\n",
        "pop1 = np.array([(frec1[x] if x in frec1 else 0) for x in labels])\n",
        "pop2 = np.array([(frec2[x] if x in frec2 else 0) for x in labels])\n",
        "X_axis = np.arange(len(labels))\n",
        "ax.bar(X_axis-0.2, pop1, 0.4, label=\"PSO Base\")\n",
        "ax.bar(X_axis+0.2, pop2, 0.4, label=\"Inércia Dinâmica\")\n",
        "#ax.set_xticks(X_axis)\n",
        "ax.set_xlabel(\"Frequência\")\n",
        "ax.set_ylabel(\"Alterações de gBests\")\n",
        "ax.title.set_text(f\"N x N\")\n",
        "ax.legend(fontsize=10, loc='upper right', labelspacing=1)"
      ],
      "execution_count": null,
      "outputs": []
    },
    {
      "cell_type": "code",
      "metadata": {
        "id": "jpU2rMi5LpPZ"
      },
      "source": [
        "population_history = np.load(\"population_history.npy\", allow_pickle=True)[()]"
      ],
      "execution_count": null,
      "outputs": []
    },
    {
      "cell_type": "code",
      "metadata": {
        "id": "9qoMGxPXOj2V"
      },
      "source": [
        "figsize = (18,10)\n",
        "plot_gbest_parans = {\n",
        "  \"figsize\"     : (18,4),\n",
        "  \"label_1\"     : \"PSO Base\",\n",
        "  \"label_2\"     : \"Inércia Dinâmica\",\n",
        "  \"sizes\"       : [50,70,90],\n",
        "  \"cofs\"        : [3,5,6],\n",
        "  \"xlabel\"      : \"Alterações de gBests\",\n",
        "  \"ylabel\"      : \"Frequência\"\n",
        "}\n",
        "plot_gbest_analise_by_num(4)"
      ],
      "execution_count": null,
      "outputs": []
    },
    {
      "cell_type": "code",
      "metadata": {
        "id": "_JIukciB43fV"
      },
      "source": [
        "def plot_gbest_analise_by_num(p_num, with_legend=True, save=False, format=\"jpg\"):\n",
        "  fig = plt.figure(figsize=figsize)\n",
        "  ax = fig.subplots(nrows=1, ncols=3)\n",
        "  fig.suptitle(f\"Problema {p_num}\", fontsize=20)\n",
        "  plt.subplots_adjust(top=0.85)\n",
        "  ######################################\n",
        "  for i in range(len(plot_gbest_parans[\"sizes\"])):\n",
        "    dt1 = population_history[f\"problem_{p_num}\"][f\"coef_{cofs[i]}\"][f\"approach_{1}\"]\n",
        "    dt2 = population_history[f\"problem_{p_num}\"][f\"coef_{cofs[i]}\"][f\"approach_{2}\"]\n",
        "    ft1 = handle_population_history(dt1)\n",
        "    ft2 = handle_population_history(dt2)\n",
        "    ft1u, ft1c = np.unique(ft1, return_counts=True)\n",
        "    ft2u, ft2c = np.unique(ft2, return_counts=True)\n",
        "    frec1 = dict(zip(ft1u, ft1c))\n",
        "    frec2 = dict(zip(ft2u, ft2c))\n",
        "\n",
        "    label1 = '\\n'.join((\n",
        "      r'%s'                   % (plot_gbest_parans[\"label_1\"]),\n",
        "      r'$\\overline{x}=%.2f$'  % (np.average(ft1)),\n",
        "      r'$\\sigma=%.2f$'        % (np.std(ft1)))\n",
        "    )\n",
        "\n",
        "    label2 = '\\n'.join((\n",
        "      r'%s'                   % (plot_gbest_parans[\"label_2\"]),\n",
        "      r'$\\overline{x}=%.2f$'  % (np.average(ft2)),\n",
        "      r'$\\sigma=%.2f$'        % (np.std(ft2)))\n",
        "    )\n",
        "\n",
        "    labels = np.unique(np.concatenate((ft1,ft2)))\n",
        "    pop1 = [(frec1[x] if x in frec1 else 0) for x in labels]\n",
        "    pop2 = [(frec2[x] if x in frec2 else 0) for x in labels]\n",
        "    X_axis = np.arange(len(labels))\n",
        "    b1 = ax[i].bar(X_axis-0.2, pop1, 0.4, label=label1)\n",
        "    b2 = ax[i].bar(X_axis+0.2, pop2, 0.4, label=label2)\n",
        "    ax[i].set_xlabel(plot_gbest_parans[\"xlabel\"])\n",
        "    ax[i].set_ylabel(plot_gbest_parans[\"ylabel\"])\n",
        "    ax[i].title.set_text(f\"{plot_gbest_parans['sizes'][i]}x{plot_gbest_parans['sizes'][i]}\")\n",
        "    if with_legend:\n",
        "      ax[i].legend(fontsize=10, loc='upper right', labelspacing=1)\n",
        "  if save:\n",
        "    plt.savefig(f\"problem_{p_num}.{format}\")\n",
        "  ######################################\n",
        "  plt.show()\n",
        "####\n",
        "#plot_fitness_analise_by_num(p_num=4, with_legend=True, save=False, format=\"jpg\")"
      ],
      "execution_count": null,
      "outputs": []
    },
    {
      "cell_type": "code",
      "metadata": {
        "id": "EbonF87jU6Qb"
      },
      "source": [
        "def handle_population_history(ph):\n",
        "  gbest_history               = [np.array(x)[:,-1] for x in ph]\n",
        "  gbest_history_tuple         = [[f\"{xx[0]},{xx[1]}\" for xx in x] for x in gbest_history]\n",
        "  gbest_uniques_history       = [np.unique(x) for x in gbest_history_tuple]\n",
        "  quant_gbest_uniques_history = [len(x) for x in gbest_uniques_history]\n",
        "\n",
        "  return quant_gbest_uniques_history\n",
        "###"
      ],
      "execution_count": null,
      "outputs": []
    },
    {
      "cell_type": "markdown",
      "metadata": {
        "id": "Y3mXJCSlSwum"
      },
      "source": [
        "# Plotagem"
      ]
    },
    {
      "cell_type": "markdown",
      "metadata": {
        "id": "Iv0crU1sKAgr"
      },
      "source": [
        "## Parametros"
      ]
    },
    {
      "cell_type": "code",
      "metadata": {
        "id": "pb2yLWVJH1-x"
      },
      "source": [
        "limits                = [(9,15), (10,23), (6,19), (15,29)]\n",
        "figsize               = (22,4)\n",
        "approach_1_label      = \"PSO Base\"\n",
        "approach_2_label      = \"Inércia Dinâmica\"\n",
        "xlabel                = \"Makespan\"\n",
        "ylabel                = \"Frequência\"\n",
        "sizes                 = [50, 70, 90]\n",
        "cofs                  = [3,  5,  6 ]"
      ],
      "execution_count": null,
      "outputs": []
    },
    {
      "cell_type": "markdown",
      "metadata": {
        "id": "bQmj1ZZVKEvv"
      },
      "source": [
        "## Execuções"
      ]
    },
    {
      "cell_type": "code",
      "metadata": {
        "id": "8ubKZPvQV3AX",
        "colab": {
          "base_uri": "https://localhost:8080/",
          "height": 370
        },
        "outputId": "517aaf02-3b69-4f95-ed4b-fbd09537443e"
      },
      "source": [
        "limits                = [(9,15), (10,23), (6,19), (15,29)]\n",
        "figsize               = (8,5)\n",
        "approach_1_label      = \"PSO Base\"\n",
        "approach_2_label      = \"Inércia Dinâmica\"\n",
        "xlabel                = \"Makespan\"\n",
        "ylabel                = \"Frequência\"\n",
        "sizes                 = [50, 70, 90]\n",
        "cofs                  = [3,  5,  6 ]\n",
        "names_problm          = {\n",
        "    1: r\"A ($4 \\times 5$)\", \n",
        "    2: r\"B ($10 \\times 7$)\", \n",
        "    3: r\"C ($10 \\times 10$)\", \n",
        "    4: r\"D ($15 \\times 10$)\"\n",
        "}\n",
        "plot_fitness_analise_one_by_num(p_num=4, cof=0, with_legend=True, save=False, format=\"pgf\")"
      ],
      "execution_count": null,
      "outputs": [
        {
          "output_type": "display_data",
          "data": {
            "image/png": "[encoded data removed]",
            "text/plain": [
              "<Figure size 576x360 with 1 Axes>"
            ]
          },
          "metadata": {
            "needs_background": "light"
          }
        }
      ]
    },
    {
      "cell_type": "code",
      "metadata": {
        "id": "e-ylTxdJ1UNr"
      },
      "source": [
        "def plot_fitness_analise_one_by_num(p_num, cof, with_legend, save, format):\n",
        "  fig = plt.figure(figsize=figsize)\n",
        "  ax = fig.subplots(nrows=1, ncols=1)\n",
        "  fig.suptitle(f\"Problema {names_problm[p_num]}\", fontsize=20)\n",
        "  plt.subplots_adjust(top=0.85)\n",
        "  lim   = limits[p_num-1]\n",
        "\n",
        "  ######################################\n",
        "  ft1 = fitness[f\"problem_{p_num}\"][f\"coef_{cofs[cof]}\"][f\"approach_{1}\"]\n",
        "  ft2 = fitness[f\"problem_{p_num}\"][f\"coef_{cofs[cof]}\"][f\"approach_{2}\"]\n",
        "  ft1u, ft1c = np.unique(ft1, return_counts=True)\n",
        "  ft2u, ft2c = np.unique(ft2, return_counts=True)\n",
        "  frec1 = dict(zip(ft1u, ft1c))\n",
        "  frec2 = dict(zip(ft2u, ft2c))\n",
        "\n",
        "  label1 = '\\n'.join((\n",
        "    r'%s'                   % (approach_1_label),\n",
        "    r'$\\overline{x}=%.2f$'  % (np.average(ft1)),\n",
        "    r'$\\sigma=%.2f$'        % (np.std(ft1)),\n",
        "    r'')\n",
        "  )\n",
        "\n",
        "  label2 = '\\n'.join((\n",
        "    r'%s'                   % (approach_2_label),\n",
        "    r'$\\overline{x}=%.2f$'  % (np.average(ft2)),\n",
        "    r'$\\sigma=%.2f$'        % (np.std(ft2)))\n",
        "  )\n",
        "\n",
        "  labels = np.unique(np.concatenate((ft1,ft2)))\n",
        "  pop1 = [(frec1[x] if x in frec1 else 0) for x in labels]\n",
        "  pop2 = [(frec2[x] if x in frec2 else 0) for x in labels]\n",
        "  X_axis = np.arange(len(labels))\n",
        "  ax.bar(X_axis-0.2, pop1, 0.4, label=label1)\n",
        "  ax.bar(X_axis+0.2, pop2, 0.4, label=label2)\n",
        "  ax.set_xticks(X_axis)\n",
        "  ax.set_xticklabels(labels)\n",
        "  ax.set_xlabel(xlabel)\n",
        "  ax.set_ylabel(ylabel)\n",
        "  ax.title.set_text(f\"{sizes[cof]}x{sizes[cof]}\")\n",
        "\n",
        "  if with_legend:\n",
        "    ax.legend(fontsize=10, loc='upper right')\n",
        "  if save:\n",
        "    if with_legend:\n",
        "      plt.savefig(f\"problem_legended_{p_num}.{format}\")\n",
        "    else:\n",
        "      plt.savefig(f\"problem_{p_num}.{format}\")\n",
        "  ######################################\n",
        "  plt.show()\n",
        "####\n",
        "#plot_fitness_analise_by_num(p_num=4, with_legend=True, save=False, format=\"jpg\")"
      ],
      "execution_count": null,
      "outputs": []
    },
    {
      "cell_type": "code",
      "metadata": {
        "id": "VcPBrKjk9pGl"
      },
      "source": [
        "def plot_fitness_analise_by_num(p_num, with_legend, save, format):\n",
        "  fig = plt.figure(figsize=figsize)\n",
        "  ax = fig.subplots(nrows=1, ncols=3)\n",
        "  fig.suptitle(f\"Problema {names_problm[p_num]}\", fontsize=20)\n",
        "  plt.subplots_adjust(top=0.85)\n",
        "  lim   = limits[p_num-1]\n",
        "  ######################################\n",
        "  for i in range(len(sizes)):\n",
        "    ft1 = fitness[f\"problem_{p_num}\"][f\"coef_{cofs[i]}\"][f\"approach_{1}\"]\n",
        "    ft2 = fitness[f\"problem_{p_num}\"][f\"coef_{cofs[i]}\"][f\"approach_{2}\"]\n",
        "    ft1u, ft1c = np.unique(ft1, return_counts=True)\n",
        "    ft2u, ft2c = np.unique(ft2, return_counts=True)\n",
        "    frec1 = dict(zip(ft1u, ft1c))\n",
        "    frec2 = dict(zip(ft2u, ft2c))\n",
        "\n",
        "    label1 = '\\n'.join((\n",
        "      r'%s'                   % (approach_1_label),\n",
        "      r'$\\overline{x}=%.2f$'  % (np.average(ft1)),\n",
        "      r'$\\sigma=%.2f$'        % (np.std(ft1)),\n",
        "      r'')\n",
        "    )\n",
        "\n",
        "    label2 = '\\n'.join((\n",
        "      r'%s'                   % (approach_2_label),\n",
        "      r'$\\overline{x}=%.2f$'  % (np.average(ft2)),\n",
        "      r'$\\sigma=%.2f$'        % (np.std(ft2)))\n",
        "    )\n",
        "  \n",
        "    labels = np.unique(np.concatenate((ft1,ft2)))\n",
        "    pop1 = [(frec1[x] if x in frec1 else 0) for x in labels]\n",
        "    pop2 = [(frec2[x] if x in frec2 else 0) for x in labels]\n",
        "    X_axis = np.arange(len(labels))\n",
        "    b1 = ax[i].bar(X_axis-0.2, pop1, 0.4, label=label1)\n",
        "    b2 = ax[i].bar(X_axis+0.2, pop2, 0.4, label=label2)\n",
        "    ax[i].set_xticks(X_axis)\n",
        "    ax[i].set_xticklabels(labels)\n",
        "    ax[i].set_xlabel(xlabel)\n",
        "    ax[i].set_ylabel(ylabel)\n",
        "    ax[i].title.set_text(f\"{sizes[i]}x{sizes[i]}\")\n",
        "\n",
        "    #ax[i].bar_label(b1, padding=0)\n",
        "    #ax[i].bar_label(b2, padding=3)\n",
        "\n",
        "    if with_legend:\n",
        "      ax[i].legend(fontsize=10, loc='upper right')\n",
        "  if save:\n",
        "    if with_legend:\n",
        "      plt.savefig(f\"problem_legended_{p_num}.{format}\")\n",
        "    else:\n",
        "      plt.savefig(f\"problem_{p_num}.{format}\")\n",
        "  ######################################\n",
        "  plt.show()\n",
        "####\n",
        "#plot_fitness_analise_by_num(p_num=4, with_legend=True, save=False, format=\"jpg\")"
      ],
      "execution_count": null,
      "outputs": []
    },
    {
      "cell_type": "code",
      "metadata": {
        "id": "n6LPLT9-bzoh",
        "colab": {
          "base_uri": "https://localhost:8080/"
        },
        "outputId": "97f0d7d1-402f-4ccd-ac69-28835c4009f1"
      },
      "source": [
        "p=4\n",
        "c=6\n",
        "a=2\n",
        "get_statistics_totable(fitness, p_num=p, coef=c, approach=a)"
      ],
      "execution_count": null,
      "outputs": [
        {
          "output_type": "stream",
          "name": "stdout",
          "text": [
            "21.954\n",
            "22.0\n",
            "1.533\n",
            "2.351\n",
            "17\n",
            "26\n"
          ]
        }
      ]
    },
    {
      "cell_type": "code",
      "metadata": {
        "id": "bNzxh6R8LHV5"
      },
      "source": [
        "def get_statistics_totable(fitness, p_num, coef, approach):\n",
        "  fit = fitness[f\"problem_{p_num}\"][f\"coef_{coef}\"][f\"approach_{approach}\"]\n",
        "  print(f\"{np.round(np.average(fit),  3)}\")\n",
        "  #print(f\"{np.round(np.mean(fit),     3)}\")\n",
        "  print(f\"{np.round(np.median(fit),   3)}\")\n",
        "  print(f\"{np.round(np.std(fit),      3)}\")\n",
        "  print(f\"{np.round(np.var(fit),      3)}\")\n",
        "  print(f\"{np.min(fit)}\")\n",
        "  print(f\"{np.max(fit)}\")\n",
        "  #print(f\"{len(np.unique(fit))}\")"
      ],
      "execution_count": null,
      "outputs": []
    },
    {
      "cell_type": "code",
      "metadata": {
        "id": "k0PpWlBktBqf"
      },
      "source": [
        "def get_statistics(fitness, p_num, coef, approach):\n",
        "  fit = fitness[f\"problem_{p_num}\"][f\"coef_{coef}\"][f\"approach_{approach}\"]\n",
        "  print(f\"Média .........................=> {np.average(fit)}\")\n",
        "  print(f\"Média Aritmética ..............=> {np.mean(fit)}\")\n",
        "  print(f\"Mediana .......................=> {np.median(fit)}\")\n",
        "  print(f\"Desvio Padrão .................=> {np.std(fit)}\")\n",
        "  print(f\"Variância .....................=> {np.var(fit)}\")\n",
        "  print(f\"Mínimo ........................=> {np.min(fit)}\")\n",
        "  print(f\"Máximo ........................=> {np.max(fit)}\")\n",
        "  print(f\"Valores Únicos ................=> {np.unique(fit)}\")\n",
        "  print(f\"Quantidade de Valores Únicos ..=> {len(np.unique(fit))}\")"
      ],
      "execution_count": null,
      "outputs": []
    },
    {
      "cell_type": "code",
      "metadata": {
        "id": "689dN9tEtPH1"
      },
      "source": [
        "def save_statistics(fitness, p_num, coef, approach):\n",
        "  fit = fitness[f\"problem_{p_num}\"][f\"coef_{coef}\"][f\"approach_{approach}\"]\n",
        "  dic_statics = {\n",
        "    \"Media\"                : {np.average(fit)},\n",
        "    \"MediaArit\"               : {np.mean(fit)},\n",
        "    \"Mediana\"                : {np.median(fit)},\n",
        "    \"DesvioPadrao\"                : {np.std(fit)},\n",
        "    \"Variancia\"                : {np.var(fit)},\n",
        "    \"Minimo\"               : {np.min(fit)},\n",
        "    \"Maximo\"               : {np.max(fit)},\n",
        "    \"ValoresUnicos\"               : {np.unique(fit)},\n",
        "    \"QuantDeValoresUnicos\"               : {len(np.unique(fit))}\n",
        "  }\n",
        "  np.save(f\"problem_{p_num}_coef_{coef}_approach_{approach}\", dic_statics)"
      ],
      "execution_count": null,
      "outputs": []
    },
    {
      "cell_type": "code",
      "metadata": {
        "id": "Edgc6s7gUmgK"
      },
      "source": [
        "#def plot_fitness_analise_by_num(p_num, with_legend, save, format):\n",
        "p_num = 3\n",
        "fig = plt.figure(figsize=(18,6))\n",
        "ax = fig.subplots(nrows=1, ncols=3)\n",
        "fig.suptitle(f\"Problema {p_num}\", fontsize=20)\n",
        "plt.subplots_adjust(top=0.85)\n",
        "lim   = limits[p_num-1]\n",
        "for i in range(3):\n",
        "  ft1 = fitness[f\"problem_{p_num}\"][f\"coef_{cofs[i]}\"][f\"approach_{1}\"]\n",
        "  ft2 = fitness[f\"problem_{p_num}\"][f\"coef_{cofs[i]}\"][f\"approach_{2}\"]\n",
        "  ft1u, ft1c = np.unique(ft1, return_counts=True)\n",
        "  ft2u, ft2c = np.unique(ft2, return_counts=True)\n",
        "  frec1 = dict(zip(ft1u, ft1c))\n",
        "  frec2 = dict(zip(ft2u, ft2c))\n",
        "\n",
        "  label1 = '\\n'.join((\n",
        "    r'%s'                   % (approach_1_label),\n",
        "    r'$\\overline{x}=%.2f$'  % (np.average(ft1)),\n",
        "    r'$\\sigma=%.2f$'        % (np.std(ft1)))\n",
        "  )\n",
        "\n",
        "  label2 = '\\n'.join((\n",
        "    r'%s'                   % (approach_2_label),\n",
        "    r'$\\overline{x}=%.2f$'  % (np.average(ft2)),\n",
        "    r'$\\sigma=%.2f$'        % (np.std(ft2)))\n",
        "  )\n",
        "\n",
        "  labels = np.unique(np.concatenate((ft1,ft2)))\n",
        "  pop1 = np.array([(frec1[x] if x in frec1 else 0) for x in labels])\n",
        "  pop2 = np.array([(frec2[x] if x in frec2 else 0) for x in labels])\n",
        "  X_axis = np.arange(len(labels))\n",
        "  b1 = ax[i].bar(X_axis-0.2, pop1, 0.4, label=label1)\n",
        "  b2 = ax[i].bar(X_axis+0.2, pop2, 0.4, label=label2)\n",
        "  ax[i].set_xticks(X_axis)\n",
        "  ax[i].set_xticklabels(labels)\n",
        "  ax[i].set_ylim([0,100])\n",
        "  ax[i].set_xlabel(xlabel)\n",
        "  ax[i].set_ylabel(ylabel)\n",
        "  ax[i].title.set_text(f\"{sizes[i]}x{sizes[i]}\")\n",
        "  ax[i].legend(fontsize=10, loc='upper right', labelspacing=1)\n",
        "\n",
        "  ax[i].bar_label(b1, padding=0)\n",
        "  ax[i].bar_label(b2, padding=3)\n",
        "###\n",
        "#fig.legend([\"a\"], loc='upper right')\n",
        "#fi.set_xticklabels(\"AAAA\")\n",
        "#fig.supxlabel(\"20\")\n",
        "#.text(0.5,0.5, \"Aaaa\")\n",
        "plt.show()"
      ],
      "execution_count": null,
      "outputs": []
    },
    {
      "cell_type": "markdown",
      "metadata": {
        "id": "KlxYXBtzIIQf"
      },
      "source": [
        "# Função de Plot\n",
        "\n",
        "Docs: [MathTex](https://matplotlib.org/stable/tutorials/text/mathtext.html)  \n",
        "Exemple: [Grouped Bar](https://matplotlib.org/stable/gallery/lines_bars_and_markers/barchart.html)\n"
      ]
    },
    {
      "cell_type": "markdown",
      "metadata": {
        "id": "yt9tuaefSNV1"
      },
      "source": [
        "#Teste Estatisticas"
      ]
    },
    {
      "cell_type": "markdown",
      "metadata": {
        "id": "0Tpa0BMcFBxY"
      },
      "source": [
        "# :: Archived ::"
      ]
    },
    {
      "cell_type": "markdown",
      "metadata": {
        "id": "DTDCjpoXYzct"
      },
      "source": [
        "#Load Data"
      ]
    },
    {
      "cell_type": "code",
      "metadata": {
        "id": "aGA9MuUbHNLy"
      },
      "source": [
        "### Paths ###\n",
        "base_path = \"/content/drive/MyDrive/PSO_execs/FilteredDataSets/\"\n",
        "fitness_path = f\"{base_path}/fitness.npy\""
      ],
      "execution_count": null,
      "outputs": []
    },
    {
      "cell_type": "code",
      "metadata": {
        "id": "QZdUdenPmiOk"
      },
      "source": [
        "np.save(\"fitness.npy\", fitness)"
      ],
      "execution_count": null,
      "outputs": []
    },
    {
      "cell_type": "code",
      "metadata": {
        "id": "0OuhGn55Yhma"
      },
      "source": [
        "#fitness = np.load(fitness_path, allow_pickle=True)[()]"
      ],
      "execution_count": null,
      "outputs": []
    },
    {
      "cell_type": "code",
      "metadata": {
        "colab": {
          "base_uri": "https://localhost:8080/"
        },
        "id": "DPWDIwHUTEOi",
        "outputId": "4f32ee98-343c-4a92-8a97-7f59e6da4e87"
      },
      "source": [
        "print(len(fitness[\"problem_1\"][\"coef_3\"][\"approach_1\"]))"
      ],
      "execution_count": null,
      "outputs": [
        {
          "output_type": "stream",
          "name": "stdout",
          "text": [
            "280\n"
          ]
        }
      ]
    },
    {
      "cell_type": "code",
      "metadata": {
        "id": "3TPOaelHUEZ4"
      },
      "source": [
        "fitness = {\n",
        "  \"problem_1\": {\n",
        "    \"coef_3\": {\"approach_1\": [], \"approach_2\": []},\n",
        "    \"coef_5\": {\"approach_1\": [],\"approach_2\": []},\n",
        "    \"coef_6\": {\"approach_1\": [], \"approach_2\": []}\n",
        "  },\n",
        "  \"problem_2\": {\n",
        "    \"coef_3\": {\"approach_1\": [], \"approach_2\": []},\n",
        "    \"coef_5\": {\"approach_1\": [],\"approach_2\": []},\n",
        "    \"coef_6\": {\"approach_1\": [], \"approach_2\": []}\n",
        "  },\n",
        "  \"problem_3\": {\n",
        "    \"coef_3\": {\"approach_1\": [], \"approach_2\": []},\n",
        "    \"coef_5\": {\"approach_1\": [],\"approach_2\": []},\n",
        "    \"coef_6\": {\"approach_1\": [], \"approach_2\": []}\n",
        "  },\n",
        "  \"problem_4\": {\n",
        "    \"coef_3\": {\"approach_1\": [], \"approach_2\": []},\n",
        "    \"coef_5\": {\"approach_1\": [],\"approach_2\": []},\n",
        "    \"coef_6\": {\"approach_1\": [], \"approach_2\": []}\n",
        "  }\n",
        "}\n",
        "\n",
        "for e in range(1, 21):\n",
        "  for r in range(1, 21):\n",
        "    for i in range(1, 5):\n",
        "      path_base_3 = f\"drive/MyDrive/PSO_execs/Kacem/exec{r}/problem{i}/cof{3}\"\n",
        "      ft_3_1 = np.load(f\"{path_base_3}/fitness_aprout{1}_exec{e}.npy\")\n",
        "      ft_3_2 = np.load(f\"{path_base_3}/fitness_aprout{2}_exec{e}.npy\")\n",
        "      fitness[f\"problem_{i}\"][f\"coef_{3}\"][f\"approach_{1}\"].append(ft_3_1[()]).append(ft_3_1[()])\n",
        "      fitness[f\"problem_{i}\"][f\"coef_{3}\"][f\"approach_{2}\"].append(ft_3_2[()])\n",
        "\n",
        "      path_base_5 = f\"drive/MyDrive/PSO_execs/Kacem/exec{r}/problem{i}/cof{5}\"\n",
        "      ft_5_1 = np.load(f\"{path_base_5}/fitness_aprout{1}_exec{e}.npy\")\n",
        "      ft_5_2 = np.load(f\"{path_base_5}/fitness_aprout{2}_exec{e}.npy\")\n",
        "      fitness[f\"problem_{i}\"][f\"coef_{5}\"][f\"approach_{1}\"].append(ft_5_1[()])\n",
        "      fitness[f\"problem_{i}\"][f\"coef_{5}\"][f\"approach_{2}\"].append(ft_5_2[()])\n",
        "\n",
        "      path_base_6 = f\"drive/MyDrive/PSO_execs/Kacem/exec{r}/problem{i}/cof{6}\"\n",
        "      ft_6_1 = np.load(f\"{path_base_6}/fitness_aprout{1}_exec{e}.npy\")\n",
        "      ft_6_2 = np.load(f\"{path_base_6}/fitness_aprout{2}_exec{e}.npy\")\n",
        "      fitness[f\"problem_{i}\"][f\"coef_{6}\"][f\"approach_{1}\"].append(ft_6_1[()])\n",
        "      fitness[f\"problem_{i}\"][f\"coef_{6}\"][f\"approach_{2}\"].append(ft_6_2[()])\n",
        "    #\n",
        "  #\n",
        "#\n",
        "#np.save(f\"fitness_geral.npy\", data_struc)\n",
        "#fitness"
      ],
      "execution_count": null,
      "outputs": []
    },
    {
      "cell_type": "code",
      "metadata": {
        "id": "8uCNUN4v3wHH"
      },
      "source": [
        "np.save(f\"fitness_geral.npy\", fitness)"
      ],
      "execution_count": null,
      "outputs": []
    },
    {
      "cell_type": "code",
      "metadata": {
        "id": "z8hhVcKz4BJL"
      },
      "source": [
        "fitness = np.load(\"fitness_geral.npy\", allow_pickle=True)[()]\n",
        "print(fitness)"
      ],
      "execution_count": null,
      "outputs": []
    },
    {
      "cell_type": "code",
      "metadata": {
        "id": "T719RIdaeYIv"
      },
      "source": [
        "fitness = np.load(fitness_path, allow_pickle=True)[()]\n",
        "fitness_2 = np.load(\"fitness_2.npy\", allow_pickle=True)[()]"
      ],
      "execution_count": null,
      "outputs": []
    },
    {
      "cell_type": "markdown",
      "metadata": {
        "id": "rjKxTLm8IHl7"
      },
      "source": [
        "#Plot no formato antigo"
      ]
    },
    {
      "cell_type": "markdown",
      "metadata": {
        "id": "qPnADjcpISLJ"
      },
      "source": [
        "##Parametros"
      ]
    },
    {
      "cell_type": "code",
      "metadata": {
        "id": "IhKB91E7IBMn",
        "colab": {
          "base_uri": "https://localhost:8080/",
          "height": 308
        },
        "outputId": "993ebcf2-b46a-4c5a-e9dd-cc5fb8384dfe"
      },
      "source": [
        "limits_p1             = np.arange(9,15)\n",
        "limits_p2             = np.arange(10,23)\n",
        "limits_p3             = np.arange(6,19)\n",
        "limits_p4             = np.arange(15,29)\n",
        "limits                = [limits_p1, limits_p2, limits_p3, limits_p4]\n",
        "figsize               = (18,4)\n",
        "label_back            = \"PSO Base\"\n",
        "label_front           = \"Inércia Dinâmica\"\n",
        "largura_bar_back      = 1.0\n",
        "largura_bar_front     = 0.5\n",
        "edgecolor_front       = \"black\"\n",
        "color_back            = \"red\"\n",
        "color_front           = \"blue\"\n",
        "alpha_back            = 1\n",
        "alpha_front           = 0.7\n",
        "\n",
        "\n",
        "#plot_fitness_analise()\n",
        "#plot_fitness_analise_problema1()\n",
        "plot_fitness_analise_by_num(3)"
      ],
      "execution_count": null,
      "outputs": [
        {
          "output_type": "display_data",
          "data": {
            "image/png": "[encoded data removed]",
            "text/plain": [
              "<Figure size 1296x288 with 3 Axes>"
            ]
          },
          "metadata": {
            "needs_background": "light"
          }
        }
      ]
    },
    {
      "cell_type": "markdown",
      "metadata": {
        "id": "-EnuMkymIViq"
      },
      "source": [
        "##Funções"
      ]
    },
    {
      "cell_type": "markdown",
      "metadata": {
        "id": "npZyoIchJxre"
      },
      "source": [
        "### Com legendas"
      ]
    },
    {
      "cell_type": "code",
      "metadata": {
        "colab": {
          "base_uri": "https://localhost:8080/",
          "height": 133
        },
        "id": "c3rfV-cyxOg-",
        "outputId": "9db83542-3a80-4941-e4b6-9291c7298e89"
      },
      "source": [
        "Formato antigo com legendas\n",
        "def plot_fitness_analise_by_num2(p_num):\n",
        "  fig = plt.figure(figsize=figsize)\n",
        "  ax = fig.subplots(nrows=1, ncols=3)\n",
        "  fig.suptitle(f\"Problema {p_num}\")\n",
        "\n",
        "  lim=limits[p_num-1]\n",
        "  sizes = [50,70,90]\n",
        "  cofs  = [3,5,6]\n",
        "\n",
        "  ######################################\n",
        "  for i in range(len(sizes)):\n",
        "    ft1 = fitness[f\"problem_{p_num}\"][f\"coef_{cofs[i]}\"][f\"approach_{1}\"]\n",
        "    ft2 = fitness[f\"problem_{p_num}\"][f\"coef_{cofs[i]}\"][f\"approach_{2}\"]\n",
        "    mft1 = np.round(np.average(ft1), 2)\n",
        "    mft2 = np.round(np.average(ft2), 2)\n",
        "    dvpft1 = np.round(np.std(ft1), 2)\n",
        "    dvpft2 = np.round(np.std(ft2), 2)\n",
        "    #legs = [f\"m = {mft1}\", f\"m = {mft2}\", f\"σ = {dvpft1}\", f\"σ = {dvpft2}\"]\n",
        "    textstr = '\\n'.join((\n",
        "      r'$\\mathrm{median}=%.2f$' % (mft2, ),\n",
        "      r'$\\sigma=%.2f$' % (dvpft1, ))\n",
        "    )\n",
        "    legs = [f\"m = {mft1}\", f\"m = {mft2}\"]\n",
        "    ax[i].title.set_text(f\"{sizes[i]}x{sizes[i]}\")\n",
        "    ax[i].hist(ft1, bins=lim, alpha=alpha_back,  color=color_back,  rwidth=largura_bar_back,  edgecolor=edgecolor_front)\n",
        "    ax[i].hist(ft2, bins=lim, alpha=alpha_front, color=color_front, rwidth=largura_bar_front, edgecolor=edgecolor_front)\n",
        "    ax[i].set_xlabel('Makespan')\n",
        "    ax[i].set_ylabel('Frequência')\n",
        "    ax[i].legend([label_back, label_front], loc='upper right')\n",
        "    props = dict(boxstyle='round', facecolor='white', alpha=0.5)\n",
        "    ax[i].text(0.05, 0.95, textstr, transform=ax[i].transAxes, fontsize=10,\n",
        "        verticalalignment='top', bbox=props)\n",
        "  ######################################\n",
        "  plt.show()\n",
        "plot_fitness_analise_by_num2(1)"
      ],
      "execution_count": null,
      "outputs": [
        {
          "output_type": "error",
          "ename": "SyntaxError",
          "evalue": "ignored",
          "traceback": [
            "\u001b[0;36m  File \u001b[0;32m\"<ipython-input-11-9b29f9f3b72f>\"\u001b[0;36m, line \u001b[0;32m1\u001b[0m\n\u001b[0;31m    Formato antigo com legendas\u001b[0m\n\u001b[0m                 ^\u001b[0m\n\u001b[0;31mSyntaxError\u001b[0m\u001b[0;31m:\u001b[0m invalid syntax\n"
          ]
        }
      ]
    },
    {
      "cell_type": "markdown",
      "metadata": {
        "id": "Hx5SNfhBJh7x"
      },
      "source": [
        "### Por Numero"
      ]
    },
    {
      "cell_type": "code",
      "metadata": {
        "id": "vgDv0p1jjN1S"
      },
      "source": [
        "#Formato antigo por numero\n",
        "def plot_fitness_analise_by_num(p_num):\n",
        "  fig = plt.figure(figsize=figsize)\n",
        "  ax = fig.subplots(nrows=1, ncols=3)\n",
        "  fig.suptitle(f\"Problema {p_num}\")\n",
        "\n",
        "  lim=limits[p_num-1]\n",
        "  sizes = [50,70,90]\n",
        "  cofs  = [3,5,6]\n",
        "\n",
        "  ######################################\n",
        "  for i in range(len(sizes)):\n",
        "    ft1 = fitness[f\"problem_{p_num}\"][f\"coef_{cofs[i]}\"][f\"approach_{1}\"]\n",
        "    ft2 = fitness[f\"problem_{p_num}\"][f\"coef_{cofs[i]}\"][f\"approach_{2}\"]\n",
        "    mft1 = np.round(np.average(ft1), 2)\n",
        "    mft2 = np.round(np.average(ft2), 2)\n",
        "    dvpft1 = np.round(np.std(ft1), 2)\n",
        "    dvpft2 = np.round(np.std(ft2), 2)\n",
        "    #legs = [f\"m = {mft1}\", f\"m = {mft2}\", f\"σ = {dvpft1}\", f\"σ = {dvpft2}\"]\n",
        "    legs = [f\"m = {mft1}\", f\"m = {mft2}\"]\n",
        "    ax[i].title.set_text(f\"{sizes[i]}x{sizes[i]}\")\n",
        "    ax[i].hist(ft1, bins=lim, alpha=alpha_back,  color=color_back,  rwidth=largura_bar_back,  edgecolor=edgecolor_front)\n",
        "    ax[i].hist(ft2, bins=lim, alpha=alpha_front, color=color_front, rwidth=largura_bar_front, edgecolor=edgecolor_front)\n",
        "    ax[i].set_xlabel('Makespan')\n",
        "    ax[i].set_ylabel('Frequência')\n",
        "    leg_med = ax[i].legend(legs, loc='upper left')\n",
        "    ax[i].legend([label_back, label_front], loc='upper right')\n",
        "    ax[i].add_artist(leg_med)\n",
        "  ######################################\n",
        "  plt.show()\n",
        "#plot_fitness_analise_by_num(1)"
      ],
      "execution_count": null,
      "outputs": []
    },
    {
      "cell_type": "markdown",
      "metadata": {
        "id": "Zlbkg7nqJTl_"
      },
      "source": [
        "### Todos os problemas"
      ]
    },
    {
      "cell_type": "code",
      "metadata": {
        "id": "UKfuY6W9cvuP"
      },
      "source": [
        "#https://matplotlib.org/stable/api/_as_gen/matplotlib.pyplot.hist.html\n",
        "# Formato antigo | todos os problemas\n",
        "def plot_fitness_analise():\n",
        "  fig = plt.figure(figsize=figsize)\n",
        "  ax = fig.subplots(nrows=1, ncols=3)\n",
        "\n",
        "  fig.suptitle(\"Problema 1\")\n",
        "  ######################################\n",
        "  ax[0].title.set_text(\"50x50\")\n",
        "  ax[0].hist(ft_p1_c3_a1, bins=limits_p1, alpha=alpha_back,  color=color_back,  rwidth=largura_bar_back,  label=label_back)\n",
        "  ax[0].hist(ft_p1_c3_a2, bins=limits_p1, alpha=alpha_front, color=color_front, rwidth=largura_bar_front, label=label_front, edgecolor=edgecolor_front)\n",
        "  ax[0].set_xlabel('Makespan')\n",
        "  ax[0].set_ylabel('Frequência')\n",
        "  ax[0].legend(loc='upper right')\n",
        "\n",
        "  ax[1].title.set_text(\"70x70\")\n",
        "  ax[1].hist(ft_p1_c5_a1, bins=limits_p1, alpha=alpha_back,  color=color_back,  rwidth=largura_bar_back,  label=label_back)\n",
        "  ax[1].hist(ft_p1_c5_a2, bins=limits_p1, alpha=alpha_front, color=color_front, rwidth=largura_bar_front, label=label_front, edgecolor=edgecolor_front)\n",
        "  ax[1].set_xlabel('Makespan')\n",
        "  ax[1].set_ylabel('Frequência')\n",
        "  ax[1].legend(loc='upper right')\n",
        "\n",
        "  ax[2].title.set_text(\"90x90\")\n",
        "  ax[2].hist(ft_p1_c6_a1, bins=limits_p1, alpha=alpha_back,  color=color_back,  rwidth=largura_bar_back,  label=label_back)\n",
        "  ax[2].hist(ft_p1_c6_a2, bins=limits_p1, alpha=alpha_front, color=color_front, rwidth=largura_bar_front, label=label_front, edgecolor=edgecolor_front)\n",
        "  ax[2].set_xlabel('Makespan')\n",
        "  ax[2].set_ylabel('Frequência')\n",
        "  ax[2].legend(loc='upper right')\n",
        "  ######################################\n",
        "  plt.show()\n",
        "  ######################################\n",
        "\n",
        "\n",
        "  fig = plt.figure(figsize=figsize)\n",
        "  ax = fig.subplots(nrows=1, ncols=3)\n",
        "  fig.suptitle(\"Problema 2\")\n",
        "  ######################################\n",
        "  ax[0].title.set_text(\"50x50\")\n",
        "  ax[0].hist(ft_p2_c3_a1, bins=limits_p2, alpha=alpha_back,  color=color_back,  rwidth=largura_bar_back,  label=label_back)\n",
        "  ax[0].hist(ft_p2_c3_a2, bins=limits_p2, alpha=alpha_front, color=color_front, rwidth=largura_bar_front, label=label_front, edgecolor=edgecolor_front)\n",
        "  ax[0].set_xlabel('Makespan')\n",
        "  ax[0].set_ylabel('Frequência')\n",
        "  ax[0].legend(loc='upper right')\n",
        "\n",
        "  ax[1].title.set_text(\"70x70\")\n",
        "  ax[1].hist(ft_p2_c5_a1, bins=limits_p2, alpha=alpha_back,  color=color_back,  rwidth=largura_bar_back,  label=label_back)\n",
        "  ax[1].hist(ft_p2_c5_a2, bins=limits_p2, alpha=alpha_front, color=color_front, rwidth=largura_bar_front, label=label_front, edgecolor=edgecolor_front)\n",
        "  ax[1].legend(loc='upper right')\n",
        "\n",
        "  ax[2].title.set_text(\"90x90\")\n",
        "  ax[2].hist(ft_p2_c6_a1, bins=limits_p2, alpha=alpha_back,  color=color_back,  rwidth=largura_bar_back,  label=label_back)\n",
        "  ax[2].hist(ft_p2_c6_a2, bins=limits_p2, alpha=alpha_front, color=color_front, rwidth=largura_bar_front, label=label_front, edgecolor=edgecolor_front)\n",
        "  ax[2].set_xlabel('Makespan')\n",
        "  ax[2].set_ylabel('Frequência')\n",
        "  ax[2].legend(loc='upper right')\n",
        "  ######################################\n",
        "  plt.show()\n",
        "  ######################################\n",
        "\n",
        "  \n",
        "  fig = plt.figure(figsize=figsize)\n",
        "  ax = fig.subplots(nrows=1, ncols=3)\n",
        "  fig.suptitle(\"Problema 3\")\n",
        "  ######################################\n",
        "  ax[0].title.set_text(\"50x50\")\n",
        "  ax[0].hist(ft_p3_c3_a1, bins=limits_p3, alpha=alpha_back,  color=color_back,  rwidth=largura_bar_back,  label=label_back)\n",
        "  ax[0].hist(ft_p3_c3_a2, bins=limits_p3, alpha=alpha_front, color=color_front, rwidth=largura_bar_front, label=label_front, edgecolor=edgecolor_front)\n",
        "  ax[0].set_xlabel('Makespan')\n",
        "  ax[0].set_ylabel('Frequência')\n",
        "  ax[0].legend(loc='upper right')\n",
        "\n",
        "  ax[1].title.set_text(\"70x70\")\n",
        "  ax[1].hist(ft_p3_c5_a1, bins=limits_p3, alpha=alpha_back,  color=color_back,  rwidth=largura_bar_back,  label=label_back)\n",
        "  ax[1].hist(ft_p3_c5_a2, bins=limits_p3, alpha=alpha_front, color=color_front, rwidth=largura_bar_front, label=label_front, edgecolor=edgecolor_front)\n",
        "  ax[1].set_xlabel('Makespan')\n",
        "  ax[1].set_ylabel('Frequência')\n",
        "  ax[1].legend(loc='upper right')\n",
        "\n",
        "  ax[2].title.set_text(\"90x90\")\n",
        "  ax[2].hist(ft_p3_c6_a1, bins=limits_p3, alpha=alpha_back,  color=color_back,  rwidth=largura_bar_back,  label=label_back)\n",
        "  ax[2].hist(ft_p3_c6_a2, bins=limits_p3, alpha=alpha_front, color=color_front, rwidth=largura_bar_front, label=label_front, edgecolor=edgecolor_front)\n",
        "  ax[2].set_xlabel('Makespan')\n",
        "  ax[2].set_ylabel('Frequência')\n",
        "  ax[2].legend(loc='upper right')\n",
        "  ######################################\n",
        "  plt.show()\n",
        "  ######################################\n",
        "\n",
        "\n",
        "  fig = plt.figure(figsize=figsize)\n",
        "  ax = fig.subplots(nrows=1, ncols=3)\n",
        "  fig.suptitle(\"Problema 4\")\n",
        "  ######################################\n",
        "  ax[0].title.set_text(\"50x50\")\n",
        "  ax[0].hist(ft_p4_c3_a1, bins=limits_p4, alpha=alpha_back,  color=color_back,  rwidth=largura_bar_back,  label=label_back)\n",
        "  ax[0].hist(ft_p4_c3_a2, bins=limits_p4, alpha=alpha_front, color=color_front, rwidth=largura_bar_front, label=label_front, edgecolor=edgecolor_front)\n",
        "  ax[0].set_xlabel('Makespan')\n",
        "  ax[0].set_ylabel('Frequência')\n",
        "  ax[0].legend(loc='upper right')\n",
        "\n",
        "  ax[1].title.set_text(\"70x70\")\n",
        "  ax[1].hist(ft_p4_c5_a1, bins=limits_p4, alpha=alpha_back,  color=color_back,  rwidth=largura_bar_back,  label=label_back)\n",
        "  ax[1].hist(ft_p4_c5_a2, bins=limits_p4, alpha=alpha_front, color=color_front, rwidth=largura_bar_front, label=label_front, edgecolor=edgecolor_front)\n",
        "  ax[1].set_xlabel('Makespan')\n",
        "  ax[1].set_ylabel('Frequência')\n",
        "  ax[1].legend(loc='upper right')\n",
        "\n",
        "  ax[2].title.set_text(\"90x90\")\n",
        "  ax[2].hist(ft_p4_c6_a1, bins=limits_p4, alpha=alpha_back,  color=color_back,  rwidth=largura_bar_back,  label=label_back)\n",
        "  ax[2].hist(ft_p4_c6_a2, bins=limits_p4, alpha=alpha_front, color=color_front, rwidth=largura_bar_front, label=label_front, edgecolor=edgecolor_front)\n",
        "  ax[2].set_xlabel('Makespan')\n",
        "  ax[2].set_ylabel('Frequência')\n",
        "  ax[2].legend(loc='upper right')\n",
        "  ######################################\n",
        "  plt.show()"
      ],
      "execution_count": null,
      "outputs": []
    },
    {
      "cell_type": "markdown",
      "metadata": {
        "id": "1OKMi8PSJOjk"
      },
      "source": [
        "### Problema Unico"
      ]
    },
    {
      "cell_type": "code",
      "metadata": {
        "id": "Uhorh3DA6zQr"
      },
      "source": [
        "# Formato antigo | problema unico\n",
        "def plot_fitness_analise_problema1():\n",
        "  fig = plt.figure(figsize=figsize)\n",
        "  ax = fig.subplots(nrows=1, ncols=3)\n",
        "\n",
        "  fig.suptitle(\"Problema 1\")\n",
        "  ######################################\n",
        "  mft_p1_c3_a1 = np.round(sum(ft_p1_c3_a1)/len(ft_p1_c3_a1), 2)\n",
        "  mft_p1_c3_a2 = np.round(sum(ft_p1_c3_a2)/len(ft_p1_c3_a2), 2)\n",
        "  ax[0].title.set_text(\"50x50\")\n",
        "  ax[0].hist(ft_p1_c3_a1, bins=limits_p1, alpha=alpha_back,  color=color_back,  rwidth=largura_bar_back)\n",
        "  ax[0].hist(ft_p1_c3_a2, bins=limits_p1, alpha=alpha_front, color=color_front, rwidth=largura_bar_front, edgecolor=edgecolor_front)\n",
        "  ax[0].set_xlabel('Makespan')\n",
        "  ax[0].set_ylabel('Frequência')\n",
        "  leg1 = ax[0].legend([f\"m = {mft_p1_c3_a1}\", f\"m = {mft_p1_c3_a2}\"], loc='upper left')\n",
        "  ax[0].legend([label_back, label_front], loc='upper right')\n",
        "  #ax[0].legend(loc='upper right')\n",
        "  ax[0].add_artist(leg1)\n",
        "\n",
        "  ax[1].title.set_text(\"70x70\")\n",
        "  mft_p1_c5_a1 = np.round(sum(ft_p1_c5_a1)/len(ft_p1_c5_a1), 2)\n",
        "  mft_p1_c5_a2 = np.round(sum(ft_p1_c5_a2)/len(ft_p1_c5_a2), 2)\n",
        "  ax[1].hist(ft_p1_c5_a1, bins=limits_p1, alpha=alpha_back,  color=color_back,  rwidth=largura_bar_back,  label=label_back, )\n",
        "  ax[1].hist(ft_p1_c5_a2, bins=limits_p1, alpha=alpha_front, color=color_front, rwidth=largura_bar_front, label=label_front, edgecolor=edgecolor_front)\n",
        "  ax[1].set_xlabel('Makespan')\n",
        "  ax[1].set_ylabel('Frequência')\n",
        "  ax[1].legend(loc='upper right')\n",
        "\n",
        "  ax[2].title.set_text(\"90x90\")\n",
        "  ax[2].hist(ft_p1_c6_a1, bins=limits_p1, alpha=alpha_back,  color=color_back,  rwidth=largura_bar_back,  label=label_back)\n",
        "  ax[2].hist(ft_p1_c6_a2, bins=limits_p1, alpha=alpha_front, color=color_front, rwidth=largura_bar_front, label=label_front, edgecolor=edgecolor_front)\n",
        "  ax[2].set_xlabel('Makespan')\n",
        "  ax[2].set_ylabel('Frequência')\n",
        "  ax[2].legend(loc='upper right')\n",
        "  ######################################\n",
        "  plt.show()\n",
        "plot_fitness_analise_problema1()\n"
      ],
      "execution_count": null,
      "outputs": []
    },
    {
      "cell_type": "markdown",
      "metadata": {
        "id": "zLEjFFmRBfWx"
      },
      "source": [
        "##Import and Save Fitness"
      ]
    },
    {
      "cell_type": "code",
      "metadata": {
        "id": "aMRa3qJ-FJBE"
      },
      "source": [
        "#problem_x / coef_x / approach_x\n",
        "#fitness[f\"problem_{}\"][f\"coef_{}\"][f\"approach_{}\"].append()\n",
        "fitness = {\n",
        "\"problem_1\": {\n",
        "  \"coef_3\": {\"approach_1\": [], \"approach_2\": []},\n",
        "  \"coef_5\": {\"approach_1\": [],\"approach_2\": []},\n",
        "  \"coef_6\": {\"approach_1\": [], \"approach_2\": []}},\n",
        "\"problem_2\": {\n",
        "  \"coef_3\": {\"approach_1\": [], \"approach_2\": []},\n",
        "  \"coef_5\": {\"approach_1\": [],\"approach_2\": []},\n",
        "  \"coef_6\": {\"approach_1\": [], \"approach_2\": []}},\n",
        "\"problem_3\": {\n",
        "  \"coef_3\": {\"approach_1\": [], \"approach_2\": []},\n",
        "  \"coef_5\": {\"approach_1\": [],\"approach_2\": []},\n",
        "  \"coef_6\": {\"approach_1\": [], \"approach_2\": []}},\n",
        "\"problem_4\": {\n",
        "  \"coef_3\": {\"approach_1\": [], \"approach_2\": []},\n",
        "  \"coef_5\": {\"approach_1\": [],\"approach_2\": []},\n",
        "  \"coef_6\": {\"approach_1\": [], \"approach_2\": []}}\n",
        "}\n",
        "\n",
        "for e in range(1,15):\n",
        "  for r in range(1, 21):\n",
        "    for i in range(1, 5):\n",
        "      path_base_3 = f\"drive/MyDrive/PSO_execs/Kacem/exec{r}/problem{i}/cof{3}\"\n",
        "      ft_3_1 = np.load(f\"{path_base_3}/fitness_aprout{1}_exec{e}.npy\")\n",
        "      ft_3_2 = np.load(f\"{path_base_3}/fitness_aprout{2}_exec{e}.npy\")\n",
        "      fitness[f\"problem_{i}\"][f\"coef_{3}\"][f\"approach_{1}\"].append(ft_3_1[()])\n",
        "      fitness[f\"problem_{i}\"][f\"coef_{3}\"][f\"approach_{2}\"].append(ft_3_2[()])\n",
        "\n",
        "      path_base_5 = f\"drive/MyDrive/PSO_execs/Kacem/exec{r}/problem{i}/cof{5}\"\n",
        "      ft_5_1 = np.load(f\"{path_base_5}/fitness_aprout{1}_exec{e}.npy\")\n",
        "      ft_5_2 = np.load(f\"{path_base_5}/fitness_aprout{2}_exec{e}.npy\")\n",
        "      fitness[f\"problem_{i}\"][f\"coef_{5}\"][f\"approach_{1}\"].append(ft_5_1[()])\n",
        "      fitness[f\"problem_{i}\"][f\"coef_{5}\"][f\"approach_{2}\"].append(ft_5_2[()])\n",
        "\n",
        "      path_base_6 = f\"drive/MyDrive/PSO_execs/Kacem/exec{r}/problem{i}/cof{6}\"\n",
        "      ft_6_1 = np.load(f\"{path_base_6}/fitness_aprout{1}_exec{e}.npy\")\n",
        "      ft_6_2 = np.load(f\"{path_base_6}/fitness_aprout{2}_exec{e}.npy\")\n",
        "      fitness[f\"problem_{i}\"][f\"coef_{6}\"][f\"approach_{1}\"].append(ft_6_1[()])\n",
        "      fitness[f\"problem_{i}\"][f\"coef_{6}\"][f\"approach_{2}\"].append(ft_6_2[()])\n",
        "    #\n",
        "  #\n",
        "#\n",
        "\n",
        "#ft1 = fitness[f\"problem_{1}\"][f\"coef_{3}\"][f\"approach_{1}\"]\n",
        "#ft2 = fitness[f\"problem_{1}\"][f\"coef_{3}\"][f\"approach_{2}\"]\n",
        "\n",
        "np.save(\"fitness.npy\", fitness)"
      ],
      "execution_count": null,
      "outputs": []
    },
    {
      "cell_type": "code",
      "metadata": {
        "id": "1gTsCZFzang-"
      },
      "source": [
        "fitness_min_max = {\n",
        "    \"ft_p1_c3_a1\":{\"min\": min(ft_p1_c3_a1), \"max\": max(ft_p1_c3_a1)},\n",
        "    \"ft_p1_c3_a2\":{\"min\": min(ft_p1_c3_a2), \"max\": max(ft_p1_c3_a2)},\n",
        "    \"ft_p1_c5_a1\":{\"min\": min(ft_p1_c5_a1), \"max\": max(ft_p1_c5_a1)},\n",
        "    \"ft_p1_c5_a2\":{\"min\": min(ft_p1_c5_a2), \"max\": max(ft_p1_c5_a2)},\n",
        "    \"ft_p1_c6_a1\":{\"min\": min(ft_p1_c6_a1), \"max\": max(ft_p1_c6_a1)},\n",
        "    \"ft_p1_c6_a2\":{\"min\": min(ft_p1_c6_a2), \"max\": max(ft_p1_c6_a2)},\n",
        "    \"ft_p2_c3_a1\":{\"min\": min(ft_p2_c3_a1), \"max\": max(ft_p2_c3_a1)},\n",
        "    \"ft_p2_c3_a2\":{\"min\": min(ft_p2_c3_a2), \"max\": max(ft_p2_c3_a2)},\n",
        "    \"ft_p2_c5_a1\":{\"min\": min(ft_p2_c5_a1), \"max\": max(ft_p2_c5_a1)},\n",
        "    \"ft_p2_c5_a2\":{\"min\": min(ft_p2_c5_a2), \"max\": max(ft_p2_c5_a2)},\n",
        "    \"ft_p2_c6_a1\":{\"min\": min(ft_p2_c6_a1), \"max\": max(ft_p2_c6_a1)},\n",
        "    \"ft_p2_c6_a2\":{\"min\": min(ft_p2_c6_a2), \"max\": max(ft_p2_c6_a2)},\n",
        "    \"ft_p3_c3_a1\":{\"min\": min(ft_p3_c3_a1), \"max\": max(ft_p3_c3_a1)},\n",
        "    \"ft_p3_c3_a2\":{\"min\": min(ft_p3_c3_a2), \"max\": max(ft_p3_c3_a2)},\n",
        "    \"ft_p3_c5_a1\":{\"min\": min(ft_p3_c5_a1), \"max\": max(ft_p3_c5_a1)},\n",
        "    \"ft_p3_c5_a2\":{\"min\": min(ft_p3_c5_a2), \"max\": max(ft_p3_c5_a2)},\n",
        "    \"ft_p3_c6_a1\":{\"min\": min(ft_p3_c6_a1), \"max\": max(ft_p3_c6_a1)},\n",
        "    \"ft_p3_c6_a2\":{\"min\": min(ft_p3_c6_a2), \"max\": max(ft_p3_c6_a2)},\n",
        "    \"ft_p4_c3_a1\":{\"min\": min(ft_p4_c3_a1), \"max\": max(ft_p4_c3_a1)},\n",
        "    \"ft_p4_c3_a2\":{\"min\": min(ft_p4_c3_a2), \"max\": max(ft_p4_c3_a2)},\n",
        "    \"ft_p4_c5_a1\":{\"min\": min(ft_p4_c5_a1), \"max\": max(ft_p4_c5_a1)},\n",
        "    \"ft_p4_c5_a2\":{\"min\": min(ft_p4_c5_a2), \"max\": max(ft_p4_c5_a2)},\n",
        "    \"ft_p4_c6_a1\":{\"min\": min(ft_p4_c6_a1), \"max\": max(ft_p4_c6_a1)},\n",
        "    \"ft_p4_c6_a2\":{\"min\": min(ft_p4_c6_a2), \"max\": max(ft_p4_c6_a2)}\n",
        "}\n",
        "#np.save(\"fitness_min_max.npy\", fitness_min_max)"
      ],
      "execution_count": null,
      "outputs": []
    },
    {
      "cell_type": "code",
      "metadata": {
        "id": "qh_F9uUP0SGO"
      },
      "source": [
        "median_fitness = {\n",
        "  \"problem_1\": {\n",
        "    \"coef_3\": {\"approach_1\": [sum(ft_p1_c3_a1)/len(ft_p1_c3_a1)], \"approach_2\": [sum(ft_p1_c3_a2)/len(ft_p1_c3_a2)]},\n",
        "    \"coef_5\": {\"approach_1\": [sum(ft_p1_c5_a1)/len(ft_p1_c5_a1)], \"approach_2\": [sum(ft_p1_c5_a2)/len(ft_p1_c5_a2)]},\n",
        "    \"coef_6\": {\"approach_1\": [sum(ft_p1_c6_a1)/len(ft_p1_c6_a1)], \"approach_2\": [sum(ft_p1_c6_a2)/len(ft_p1_c6_a2)]}\n",
        "  },\n",
        "  \"problem_2\": {\n",
        "    \"coef_3\": {\"approach_1\": [sum(ft_p2_c3_a1)/len(ft_p2_c3_a1)], \"approach_2\": [sum(ft_p2_c3_a2)/len(ft_p2_c3_a2)]},\n",
        "    \"coef_5\": {\"approach_1\": [sum(ft_p2_c5_a1)/len(ft_p2_c5_a1)], \"approach_2\": [sum(ft_p2_c5_a2)/len(ft_p2_c5_a2)]},\n",
        "    \"coef_6\": {\"approach_1\": [sum(ft_p2_c6_a1)/len(ft_p2_c6_a1)], \"approach_2\": [sum(ft_p2_c6_a2)/len(ft_p2_c6_a2)]}\n",
        "  },\n",
        "  \"problem_3\": {\n",
        "    \"coef_3\": {\"approach_1\": [sum(ft_p3_c3_a1)/len(ft_p3_c3_a1)], \"approach_2\": [sum(ft_p3_c3_a2)/len(ft_p3_c3_a2)]},\n",
        "    \"coef_5\": {\"approach_1\": [sum(ft_p3_c5_a1)/len(ft_p3_c5_a1)], \"approach_2\": [sum(ft_p3_c5_a2)/len(ft_p3_c5_a2)]},\n",
        "    \"coef_6\": {\"approach_1\": [sum(ft_p3_c6_a1)/len(ft_p3_c6_a1)], \"approach_2\": [sum(ft_p3_c6_a2)/len(ft_p3_c6_a2)]}\n",
        "  },\n",
        "  \"problem_4\": {\n",
        "    \"coef_3\": {\"approach_1\": [sum(ft_p4_c3_a1)/len(ft_p4_c3_a1)], \"approach_2\": [sum(ft_p4_c3_a2)/len(ft_p4_c3_a2)]},\n",
        "    \"coef_5\": {\"approach_1\": [sum(ft_p4_c5_a1)/len(ft_p4_c5_a1)], \"approach_2\": [sum(ft_p4_c5_a2)/len(ft_p4_c5_a2)]},\n",
        "    \"coef_6\": {\"approach_1\": [sum(ft_p4_c6_a1)/len(ft_p4_c6_a1)], \"approach_2\": [sum(ft_p4_c6_a2)/len(ft_p4_c6_a2)]}\n",
        "  }\n",
        "}"
      ],
      "execution_count": null,
      "outputs": []
    },
    {
      "cell_type": "markdown",
      "metadata": {
        "id": "fbcTXZqM4sgs"
      },
      "source": [
        "#Aaaa"
      ]
    },
    {
      "cell_type": "code",
      "metadata": {
        "id": "pXLelEPXdJHM"
      },
      "source": [
        "path_base_3 = f\"drive/MyDrive/PSO_execs/Kacem/exec{1}/problem{1}/cof{3}\"\n",
        "p_gbest           = f\"{path_base_3}/gbest_aprout{1}_exec{1}.npy\"\n",
        "p_fitness         = f\"{path_base_3}/fitness_aprout{1}_exec{1}.npy\"\n",
        "p_solution        = f\"{path_base_3}/solution_aprout{1}_exec{1}.npy\"\n",
        "p_history         = f\"{path_base_3}/particles_positions_history{1}_exec{1}.npy\"\n",
        "p_solution_space  = f\"{path_base_3}/solution_space.npy\"\n",
        "p_population      = f\"{path_base_3}/population.npy\"\n",
        "p_gbest_inical    = f\"{path_base_3}/gbest_inical.npy\""
      ],
      "execution_count": null,
      "outputs": []
    },
    {
      "cell_type": "code",
      "metadata": {
        "id": "yzmmU26cazm6"
      },
      "source": [
        "#gb_3_1 = np.load(f\"{path_base_3}/gbest_aprout{1}_exec{1}.npy\")\n",
        "#print(gb_3_1)\n",
        "#his = np.load(f\"{path_base_3}/particles_positions_history{1}_exec{1}.npy\")\n",
        "gbest = np.load(p_gbest)\n",
        "fitness = np.load(p_fitness)\n",
        "solution  = np.load(p_solution)\n",
        "history = np.load(p_history)\n",
        "solution_space  = np.load(p_solution_space)\n",
        "#population  = np.load(p_population, allow_pickle=True)\n",
        "gbest_inical  = np.load(p_gbest_inical)"
      ],
      "execution_count": null,
      "outputs": []
    },
    {
      "cell_type": "code",
      "metadata": {
        "id": "Xs2YJmmzecQj"
      },
      "source": [
        "rodadas = history.shape[0]\n",
        "tamanho_populacao = history.shape[1]-1 # o ultimo é o gbest\n",
        "gb_hist = history[:,-1]\n",
        "\n",
        "print(gb_hist)\n",
        "\n",
        "#print(gb_hist)"
      ],
      "execution_count": null,
      "outputs": []
    },
    {
      "cell_type": "code",
      "metadata": {
        "id": "agICzikBadHZ"
      },
      "source": [
        "population_history = {\n",
        "  \"problem_1\": {\n",
        "    \"coef_3\": {\"approach_1\": [], \"approach_2\": []},\n",
        "    \"coef_5\": {\"approach_1\": [], \"approach_2\": []},\n",
        "    \"coef_6\": {\"approach_1\": [], \"approach_2\": []}\n",
        "  },\n",
        "  \"problem_2\": {\n",
        "    \"coef_3\": {\"approach_1\": [], \"approach_2\": []},\n",
        "    \"coef_5\": {\"approach_1\": [], \"approach_2\": []},\n",
        "    \"coef_6\": {\"approach_1\": [], \"approach_2\": []}\n",
        "  },\n",
        "  \"problem_3\": {\n",
        "    \"coef_3\": {\"approach_1\": [], \"approach_2\": []},\n",
        "    \"coef_5\": {\"approach_1\": [], \"approach_2\": []},\n",
        "    \"coef_6\": {\"approach_1\": [], \"approach_2\": []}\n",
        "  },\n",
        "  \"problem_4\": {\n",
        "    \"coef_3\": {\"approach_1\": [], \"approach_2\": []},\n",
        "    \"coef_5\": {\"approach_1\": [], \"approach_2\": []},\n",
        "    \"coef_6\": {\"approach_1\": [], \"approach_2\": []}\n",
        "  }\n",
        "}\n",
        "\n",
        "for e in range(1, 21):\n",
        "  for r in range(1, 21):\n",
        "    for i in range(1, 5):\n",
        "      path_base_3 = f\"drive/MyDrive/PSO_execs/Kacem/exec{r}/problem{i}/cof{3}\"\n",
        "      ph_3_1 = np.load(f\"{path_base_3}/particles_positions_history{1}_exec{e}.npy\")\n",
        "      ph_3_2 = np.load(f\"{path_base_3}/particles_positions_history{2}_exec{e}.npy\")\n",
        "      population_history[f\"problem_{i}\"][f\"coef_{3}\"][f\"approach_{1}\"].append(ph_3_1[()])\n",
        "      population_history[f\"problem_{i}\"][f\"coef_{3}\"][f\"approach_{2}\"].append(ph_3_2[()])\n",
        "\n",
        "      path_base_5 = f\"drive/MyDrive/PSO_execs/Kacem/exec{r}/problem{i}/cof{5}\"\n",
        "      ph_5_1 = np.load(f\"{path_base_5}/particles_positions_history{1}_exec{e}.npy\")\n",
        "      ph_5_2 = np.load(f\"{path_base_5}/particles_positions_history{2}_exec{e}.npy\")\n",
        "      population_history[f\"problem_{i}\"][f\"coef_{5}\"][f\"approach_{1}\"].append(ph_5_1[()])\n",
        "      population_history[f\"problem_{i}\"][f\"coef_{5}\"][f\"approach_{2}\"].append(ph_5_2[()])\n",
        "\n",
        "      path_base_6 = f\"drive/MyDrive/PSO_execs/Kacem/exec{r}/problem{i}/cof{6}\"\n",
        "      ph_6_1 = np.load(f\"{path_base_6}/particles_positions_history{1}_exec{e}.npy\")\n",
        "      ph_6_2 = np.load(f\"{path_base_6}/particles_positions_history{2}_exec{e}.npy\")\n",
        "      population_history[f\"problem_{i}\"][f\"coef_{6}\"][f\"approach_{1}\"].append(ph_6_1[()])\n",
        "      population_history[f\"problem_{i}\"][f\"coef_{6}\"][f\"approach_{2}\"].append(ph_6_2[()])\n",
        "    #\n",
        "  #\n",
        "#\n",
        "\n",
        "np.save(\"population_history.npy\", population_history)"
      ],
      "execution_count": null,
      "outputs": []
    },
    {
      "cell_type": "code",
      "metadata": {
        "id": "y2bVNqIZ4c2c"
      },
      "source": [
        ""
      ],
      "execution_count": null,
      "outputs": []
    },
    {
      "cell_type": "code",
      "metadata": {
        "id": "V-bqTqJq4Qkt",
        "colab": {
          "base_uri": "https://localhost:8080/"
        },
        "outputId": "77de5056-779d-4297-d39e-a85aeb0ab5ab"
      },
      "source": [
        "population_history = {\n",
        "  \"problem_1\": {\n",
        "    \"coef_3\": {\"approach_1\": [], \"approach_2\": []},\n",
        "    \"coef_5\": {\"approach_1\": [], \"approach_2\": []},\n",
        "    \"coef_6\": {\"approach_1\": [], \"approach_2\": []}\n",
        "  },\n",
        "  \"problem_2\": {\n",
        "    \"coef_3\": {\"approach_1\": [], \"approach_2\": []},\n",
        "    \"coef_5\": {\"approach_1\": [], \"approach_2\": []},\n",
        "    \"coef_6\": {\"approach_1\": [], \"approach_2\": []}\n",
        "  },\n",
        "  \"problem_3\": {\n",
        "    \"coef_3\": {\"approach_1\": [], \"approach_2\": []},\n",
        "    \"coef_5\": {\"approach_1\": [], \"approach_2\": []},\n",
        "    \"coef_6\": {\"approach_1\": [], \"approach_2\": []}\n",
        "  },\n",
        "  \"problem_4\": {\n",
        "    \"coef_3\": {\"approach_1\": [], \"approach_2\": []},\n",
        "    \"coef_5\": {\"approach_1\": [], \"approach_2\": []},\n",
        "    \"coef_6\": {\"approach_1\": [], \"approach_2\": []}\n",
        "  }\n",
        "}\n",
        "path_base_3 = f\"drive/MyDrive/PSO_execs/Kacem/exec{1}/problem{1}/cof{3}\"\n",
        "ph_3_1 = np.load(f\"{path_base_3}/particles_positions_history{1}_exec{1}.npy\")\n",
        "ph_3_2 = np.load(f\"{path_base_3}/particles_positions_history{2}_exec{1}.npy\")\n",
        "print(ph_3_1)\n",
        "population_history[f\"problem_{1}\"][f\"coef_{3}\"][f\"approach_{1}\"].append(ph_3_1[()])\n",
        "population_history[f\"problem_{1}\"][f\"coef_{3}\"][f\"approach_{2}\"].append(ph_3_2[()])\n",
        "#np.save(\"population_history.npy\", population_history)"
      ],
      "execution_count": null,
      "outputs": [
        {
          "output_type": "stream",
          "name": "stdout",
          "text": [
            "[[[19 11]\n",
            "  [24 23]\n",
            "  [25 26]\n",
            "  ...\n",
            "  [47 20]\n",
            "  [22 44]\n",
            "  [22 44]]\n",
            "\n",
            " [[19 19]\n",
            "  [23 28]\n",
            "  [25 31]\n",
            "  ...\n",
            "  [40 26]\n",
            "  [22 44]\n",
            "  [22 44]]\n",
            "\n",
            " [[20 23]\n",
            "  [23 31]\n",
            "  [24 33]\n",
            "  ...\n",
            "  [37 29]\n",
            "  [22 44]\n",
            "  [22 44]]\n",
            "\n",
            " ...\n",
            "\n",
            " [[18 24]\n",
            "  [20 34]\n",
            "  [21 32]\n",
            "  ...\n",
            "  [23 37]\n",
            "  [19 40]\n",
            "  [16 37]]\n",
            "\n",
            " [[18 24]\n",
            "  [20 34]\n",
            "  [21 32]\n",
            "  ...\n",
            "  [23 36]\n",
            "  [19 40]\n",
            "  [16 37]]\n",
            "\n",
            " [[18 24]\n",
            "  [19 34]\n",
            "  [21 32]\n",
            "  ...\n",
            "  [23 36]\n",
            "  [19 40]\n",
            "  [16 37]]]\n"
          ]
        }
      ]
    },
    {
      "cell_type": "code",
      "metadata": {
        "id": "21IGPlxOjFpO"
      },
      "source": [
        "population_history = np.load(\"population_history.npy\", allow_pickle=True)"
      ],
      "execution_count": null,
      "outputs": []
    },
    {
      "cell_type": "markdown",
      "metadata": {
        "id": "QWbP6rp4lLOx"
      },
      "source": [
        "Function to Load and Save a data of executions"
      ]
    },
    {
      "cell_type": "code",
      "metadata": {
        "id": "FSO6RWkFlSJ1"
      },
      "source": [
        "def load_and_save(name):\n",
        "  data_struc = {\n",
        "    \"problem_1\": {\n",
        "      \"coef_3\": {\"approach_1\": [], \"approach_2\": []},\n",
        "      \"coef_5\": {\"approach_1\": [], \"approach_2\": []},\n",
        "      \"coef_6\": {\"approach_1\": [], \"approach_2\": []}\n",
        "    },\n",
        "    \"problem_2\": {\n",
        "      \"coef_3\": {\"approach_1\": [], \"approach_2\": []},\n",
        "      \"coef_5\": {\"approach_1\": [], \"approach_2\": []},\n",
        "      \"coef_6\": {\"approach_1\": [], \"approach_2\": []}\n",
        "    },\n",
        "    \"problem_3\": {\n",
        "      \"coef_3\": {\"approach_1\": [], \"approach_2\": []},\n",
        "      \"coef_5\": {\"approach_1\": [], \"approach_2\": []},\n",
        "      \"coef_6\": {\"approach_1\": [], \"approach_2\": []}\n",
        "    },\n",
        "    \"problem_4\": {\n",
        "      \"coef_3\": {\"approach_1\": [], \"approach_2\": []},\n",
        "      \"coef_5\": {\"approach_1\": [], \"approach_2\": []},\n",
        "      \"coef_6\": {\"approach_1\": [], \"approach_2\": []}\n",
        "    }\n",
        "  }\n",
        "\n",
        "  for e in range(1, 21):\n",
        "    for r in range(1, 21):\n",
        "      for i in range(1, 5):\n",
        "        path_base_3 = f\"drive/MyDrive/PSO_execs/Kacem/exec{r}/problem{i}/cof{3}\"\n",
        "        dt_3_1 = np.load(f\"{path_base_3}/{name}{1}_exec{e}.npy\")\n",
        "        dt_3_2 = np.load(f\"{path_base_3}/{name}{2}_exec{e}.npy\")\n",
        "        data_struc[f\"problem_{i}\"][f\"coef_{3}\"][f\"approach_{1}\"].append(dt_3_1[()])\n",
        "        data_struc[f\"problem_{i}\"][f\"coef_{3}\"][f\"approach_{2}\"].append(dt_3_2[()])\n",
        "\n",
        "        path_base_5 = f\"drive/MyDrive/PSO_execs/Kacem/exec{r}/problem{i}/cof{5}\"\n",
        "        dt_5_1 = np.load(f\"{path_base_5}/{name}{1}_exec{e}.npy\")\n",
        "        dt_5_2 = np.load(f\"{path_base_5}/{name}{2}_exec{e}.npy\")\n",
        "        data_struc[f\"problem_{i}\"][f\"coef_{5}\"][f\"approach_{1}\"].append(dt_5_1[()])\n",
        "        data_struc[f\"problem_{i}\"][f\"coef_{5}\"][f\"approach_{2}\"].append(dt_5_2[()])\n",
        "\n",
        "        path_base_6 = f\"drive/MyDrive/PSO_execs/Kacem/exec{r}/problem{i}/cof{6}\"\n",
        "        dt_6_1 = np.load(f\"{path_base_6}/{name}{1}_exec{e}.npy\")\n",
        "        dt_6_2 = np.load(f\"{path_base_6}/{name}{2}_exec{e}.npy\")\n",
        "        data_struc[f\"problem_{i}\"][f\"coef_{6}\"][f\"approach_{1}\"].append(dt_6_1[()])\n",
        "        data_struc[f\"problem_{i}\"][f\"coef_{6}\"][f\"approach_{2}\"].append(dt_6_2[()])\n",
        "      #\n",
        "    #\n",
        "  #\n",
        "\n",
        "  ###\n",
        "  np.save(f\"{name}.npy\", data_struc)\n",
        "####"
      ],
      "execution_count": null,
      "outputs": []
    },
    {
      "cell_type": "code",
      "metadata": {
        "id": "_bzYUHsDmm82"
      },
      "source": [
        "def load_and_save_cenario(name):\n",
        "  data_struc = {\n",
        "    \"problem_1\": {\n",
        "      \"coef_3\": {\"approach_1\": [], \"approach_2\": []},\n",
        "      \"coef_5\": {\"approach_1\": [], \"approach_2\": []},\n",
        "      \"coef_6\": {\"approach_1\": [], \"approach_2\": []}\n",
        "    },\n",
        "    \"problem_2\": {\n",
        "      \"coef_3\": {\"approach_1\": [], \"approach_2\": []},\n",
        "      \"coef_5\": {\"approach_1\": [], \"approach_2\": []},\n",
        "      \"coef_6\": {\"approach_1\": [], \"approach_2\": []}\n",
        "    },\n",
        "    \"problem_3\": {\n",
        "      \"coef_3\": {\"approach_1\": [], \"approach_2\": []},\n",
        "      \"coef_5\": {\"approach_1\": [], \"approach_2\": []},\n",
        "      \"coef_6\": {\"approach_1\": [], \"approach_2\": []}\n",
        "    },\n",
        "    \"problem_4\": {\n",
        "      \"coef_3\": {\"approach_1\": [], \"approach_2\": []},\n",
        "      \"coef_5\": {\"approach_1\": [], \"approach_2\": []},\n",
        "      \"coef_6\": {\"approach_1\": [], \"approach_2\": []}\n",
        "    }\n",
        "  }\n",
        "\n",
        "  for e in range(1, 21):\n",
        "    for r in range(1, 21):\n",
        "      for i in range(1, 5):\n",
        "        path_base_3 = f\"drive/MyDrive/PSO_execs/Kacem/exec{r}/problem{i}/cof{3}\"\n",
        "        dt_3_1 = np.load(f\"{path_base_3}/{name}.npy\")\n",
        "        dt_3_2 = np.load(f\"{path_base_3}/{name}.npy\")\n",
        "        data_struc[f\"problem_{i}\"][f\"coef_{3}\"][f\"approach_{1}\"].append(dt_3_1[()])\n",
        "        data_struc[f\"problem_{i}\"][f\"coef_{3}\"][f\"approach_{2}\"].append(dt_3_2[()])\n",
        "\n",
        "        path_base_5 = f\"drive/MyDrive/PSO_execs/Kacem/exec{r}/problem{i}/cof{5}\"\n",
        "        dt_5_1 = np.load(f\"{path_base_5}/{name}.npy\")\n",
        "        dt_5_2 = np.load(f\"{path_base_5}/{name}.npy\")\n",
        "        data_struc[f\"problem_{i}\"][f\"coef_{5}\"][f\"approach_{1}\"].append(dt_5_1[()])\n",
        "        data_struc[f\"problem_{i}\"][f\"coef_{5}\"][f\"approach_{2}\"].append(dt_5_2[()])\n",
        "\n",
        "        path_base_6 = f\"drive/MyDrive/PSO_execs/Kacem/exec{r}/problem{i}/cof{6}\"\n",
        "        dt_6_1 = np.load(f\"{path_base_6}/{name}.npy\")\n",
        "        dt_6_2 = np.load(f\"{path_base_6}/{name}.npy\")\n",
        "        data_struc[f\"problem_{i}\"][f\"coef_{6}\"][f\"approach_{1}\"].append(dt_6_1[()])\n",
        "        data_struc[f\"problem_{i}\"][f\"coef_{6}\"][f\"approach_{2}\"].append(dt_6_2[()])\n",
        "      #\n",
        "    #\n",
        "  #\n",
        "\n",
        "  ###\n",
        "  np.save(f\"{name}.npy\", data_struc)\n",
        "####"
      ],
      "execution_count": null,
      "outputs": []
    },
    {
      "cell_type": "code",
      "metadata": {
        "id": "a8FwCXJ-lYej"
      },
      "source": [
        "#load_and_save(\"gbest_aprout\")\n",
        "#load_and_save(\"solution_aprout\")\n",
        "load_and_save_cenario(\"solution_space\")\n",
        "load_and_save_cenario(\"population\")\n",
        "load_and_save_cenario(\"gbest_inical\")"
      ],
      "execution_count": null,
      "outputs": []
    }
  ]
}