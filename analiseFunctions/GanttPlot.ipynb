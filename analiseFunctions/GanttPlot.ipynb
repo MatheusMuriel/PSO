{
  "nbformat": 4,
  "nbformat_minor": 0,
  "metadata": {
    "colab": {
      "name": "GanttPlot.ipynb",
      "provenance": [],
      "collapsed_sections": [
        "5aJdJpuX_e0z",
        "1du5GW5iuwil",
        "Aa2ZLAayNRPd",
        "QbxLICc8NWkp",
        "Y45Zx0jXOoG1"
      ]
    },
    "kernelspec": {
      "display_name": "Python 3",
      "name": "python3"
    },
    "language_info": {
      "name": "python"
    }
  },
  "cells": [
    {
      "cell_type": "code",
      "metadata": {
        "id": "rGfItKAj2uha"
      },
      "source": [
        "#https://matplotlib.org/stable/api/_as_gen/matplotlib.pyplot.barh.html\n",
        "import matplotlib.pyplot as plt\n",
        "import matplotlib.colors as colors\n",
        "import matplotlib.cm as cmx\n",
        "import numpy as np"
      ],
      "execution_count": null,
      "outputs": []
    },
    {
      "cell_type": "code",
      "metadata": {
        "id": "wHUzo5a0rLzs"
      },
      "source": [
        "sol = np.load(\"/content/drive/MyDrive/PSO_execs/Kacem/exec7/problem1/cof5/solution_aprout2_exec13.npy\")\n",
        "decoder_data = np.load(\"/content/drive/MyDrive/PSO_execs/FilteredDataSets/all_decoder_data.npy\", allow_pickle=True)"
      ],
      "execution_count": null,
      "outputs": []
    },
    {
      "cell_type": "code",
      "metadata": {
        "id": "98hmd0mrS672"
      },
      "source": [
        "tp = decode(sol)\n",
        "np.save(\"sttime.npy\", tp[0])\n",
        "np.save(\"edtime.npy\", tp[1])"
      ],
      "execution_count": null,
      "outputs": []
    },
    {
      "cell_type": "code",
      "metadata": {
        "id": "-IBscYBBIVsN"
      },
      "source": [
        "start_time = np.load(\"sttime.npy\")\n",
        "end_time = np.load(\"edtime.npy\")\n",
        "plot_data = dict_to_plot_of_solution(start_time, end_time)\n",
        "np.save(\"plot_data.npy\", plot_data)"
      ],
      "execution_count": null,
      "outputs": []
    },
    {
      "cell_type": "code",
      "metadata": {
        "id": "ylV8QUXgVelY"
      },
      "source": [
        "decode(sol, True)"
      ],
      "execution_count": null,
      "outputs": []
    },
    {
      "cell_type": "code",
      "metadata": {
        "id": "SV7IRY-DIUiB"
      },
      "source": [
        "def dict_to_plot_of_solution(start_time, end_time):\n",
        "  operations = {}\n",
        "  for machine in range( decoder_data[\"quant_of_machines\"] ):\n",
        "    for operation in range( decoder_data[\"half_of_scheduling\"] ):\n",
        "      current_start_time      = start_time[machine][operation]\n",
        "      current_end_time        = end_time[machine][operation]\n",
        "      current_diference_time  = current_end_time - current_start_time\n",
        "      operation_tuple = find_machine_of_a_operation(operation)\n",
        "      operation_data = {\n",
        "        \"id\"              : operation,\n",
        "        \"machine\"         : operation_tuple[0],\n",
        "        \"operation_tuple\" : operation_tuple,\n",
        "        \"start_time\"      : current_start_time,\n",
        "        \"duration\"        : current_diference_time\n",
        "      }\n",
        "      operations[operation] = operation_data\n",
        "  #\n",
        "  return operations"
      ],
      "execution_count": null,
      "outputs": []
    },
    {
      "cell_type": "code",
      "metadata": {
        "id": "DnABPder2E3H"
      },
      "source": [
        "plot_data = np.load(\"plot_data.npy\", allow_pickle=True)[()]"
      ],
      "execution_count": null,
      "outputs": []
    },
    {
      "cell_type": "code",
      "metadata": {
        "colab": {
          "base_uri": "https://localhost:8080/"
        },
        "id": "wll1d4bV9rPY",
        "outputId": "d23887bd-d7d7-4666-a475-3b6b7c696e07"
      },
      "source": [
        "\n",
        "exec        = 1\n",
        "problem     = 1\n",
        "cof         = 5\n",
        "aprout      = 2\n",
        "aprout_exec = 13\n",
        "base = \"/content/drive/MyDrive/PSO_execs/Kacem/\"\n",
        "sol = np.load(f\"{base}/exec{exec}/problem{problem}/cof{cof}/solution_aprout{aprout}_exec{aprout_exec}.npy\")\n",
        "print(sol)"
      ],
      "execution_count": null,
      "outputs": [
        {
          "name": "stdout",
          "output_type": "stream",
          "text": [
            "[5 1 2 1 5 3 3 2 1 4 4 3 3 2 4 3 3 1 4 3 2 2 1 1]\n"
          ]
        }
      ]
    },
    {
      "cell_type": "code",
      "metadata": {
        "colab": {
          "base_uri": "https://localhost:8080/",
          "height": 370
        },
        "id": "lkN6GpfBy5mX",
        "outputId": "bf855a1d-4c60-46af-a342-6cd6372a76e9"
      },
      "source": [
        "# Definições \n",
        "#'binary_r', 'coolwarm', 'gnuplot', 'rainbow', 'plasma', 'jet'\n",
        "figsize         = (10,5)\n",
        "subplots_adjust = 0.85\n",
        "exec            = 1\n",
        "problem         = 1\n",
        "cof             = 5\n",
        "aprout          = 2\n",
        "aprout_exec     = 13\n",
        "size            = 50\n",
        "color_map       = 'jet'\n",
        "tx = 0.08\n",
        "ty = 0.9\n",
        "anotacao = False\n",
        "solution_gantt_plot(size,color_map,exec,problem,cof,aprout,aprout_exec, tx, ty, anotacao)"
      ],
      "execution_count": 490,
      "outputs": [
        {
          "output_type": "display_data",
          "data": {
            "image/png": "[encoded data removed]",
            "text/plain": [
              "<Figure size 720x360 with 1 Axes>"
            ]
          },
          "metadata": {
            "needs_background": "light"
          }
        }
      ]
    },
    {
      "cell_type": "code",
      "metadata": {
        "id": "dDUsM3zPMdsw"
      },
      "source": [
        "#### Isolamento ####\n",
        "def solution_gantt_plot(size,colormap,exec,problem_num,cof,aprout,aprout_exec, tx, ty, anotacao):\n",
        "  base = \"/content/drive/MyDrive/PSO_execs/Kacem/\"\n",
        "  sol = np.load(f\"{base}/exec{exec}/problem{problem_num}/cof{cof}/solution_aprout{aprout}_exec{aprout_exec}.npy\")\n",
        "  decoded = decode(sol,problem_num, False)\n",
        "  start_time  = decoded[0]\n",
        "  end_time    = decoded[1]\n",
        "  cNorm  = colors.Normalize(vmin=0, vmax=decoder_data[problem_num][\"quant_of_jobs\"])\n",
        "  jet = cm = plt.get_cmap(colormap) \n",
        "  scalarMap = cmx.ScalarMappable(norm=cNorm, cmap=jet)\n",
        "  names_aprout = [\"PSO Base\", \"Componente Dinâmico\"]\n",
        "  text = f\"Solution Space: {exec}\\nTamanho: {size}x{size}\\nTécnica: {names_aprout[aprout-1]}\\nExecução: {aprout_exec}\"\n",
        "  plots = {}\n",
        "  for j in range(1, decoder_data[problem_num][\"quant_of_jobs\"]+1):\n",
        "    plots[j] = []\n",
        "  #\n",
        "  fig = plt.figure(figsize=figsize)\n",
        "  ax = fig.subplots()\n",
        "  fig.suptitle(f\"Problema {p_num}\", fontsize=20)\n",
        "  plt.subplots_adjust(top=subplots_adjust)\n",
        "  if anotacao:\n",
        "    fig.text(tx,ty,text, fontsize=12)\n",
        "\n",
        "  for machine in range( decoder_data[problem_num][\"quant_of_machines\"] ):    # 10\n",
        "    for j in range( decoder_data[problem_num][\"half_of_scheduling\"] ):       # 30\n",
        "      current_start_time      = start_time[machine][j]\n",
        "      current_end_time        = end_time[machine][j]\n",
        "      current_diference_time  = current_end_time - current_start_time\n",
        "      if end_time[machine][j] != 0 and end_time[machine][j] - start_time[machine][j] != 0:\n",
        "        operation = find_machine_of_a_operation(j, problem_num)\n",
        "        bar_left  = current_start_time\n",
        "        bar_width = current_diference_time\n",
        "        bar_str   = r'$\\mathrm{O_{%d,%d}}$' % (operation[0], operation[1])\n",
        "        job = operation[0]\n",
        "        plot = ax.barh(\n",
        "          y=machine, \n",
        "          width=bar_width, \n",
        "          left=bar_left, \n",
        "          color=scalarMap.to_rgba(job), \n",
        "          edgecolor='black', \n",
        "        )\n",
        "        ax.text(\n",
        "          x=bar_left + 0.1, \n",
        "          y=machine, \n",
        "          s=bar_str, \n",
        "          fontsize=14,\n",
        "          va=\"center\"\n",
        "        )\n",
        "        plots[job].append(plot)\n",
        "    #\n",
        "  #\n",
        "  #ax.set_title(title)\n",
        "  ax.set_xlabel(\"Tempo\")\n",
        "  ax.set_ylabel(\"Máquina\")\n",
        "  jobs = []\n",
        "  labels = []\n",
        "  for j in range(1, decoder_data[problem_num][\"quant_of_jobs\"]+1):\n",
        "    jobs.append(plots[j][0])\n",
        "    labels.append(r'$Job_{%d}$' % j)\n",
        "  #\n",
        "\n",
        "  machines = []\n",
        "  for m in range(1, decoder_data[problem_num][\"quant_of_machines\"]+1):\n",
        "    machines.append(r'$M_{%d}$' % m)\n",
        "  #\n",
        "  plt.legend(jobs, labels)\n",
        "  plt.yticks(np.arange(machine + 1), machines)\n",
        "\n",
        "\n",
        "  plt.show()\n",
        "#\n",
        "#solution_gantt_plot(size,color_map,exec,problem,cof,aprout,aprout_exec)"
      ],
      "execution_count": 489,
      "outputs": []
    },
    {
      "cell_type": "markdown",
      "metadata": {
        "id": "5aJdJpuX_e0z"
      },
      "source": [
        "##Decoder data"
      ]
    },
    {
      "cell_type": "code",
      "metadata": {
        "id": "q_8xQDqD7ogG"
      },
      "source": [
        "base_path = '/content/drive/MyDrive/PSO_execs/Kacem/exec1'\n",
        "decoder_data = {\n",
        "  1: {\n",
        "    \"quant_of_jobs\":             4,\n",
        "    \"quant_of_machines\":         5,\n",
        "    \"quant_operations_per_jobs\": [3, 3, 4, 2],\n",
        "    \"max_of_operations\":         4,\n",
        "    \"half_of_scheduling\":        12,\n",
        "    \"process_times\":             np.load(f\"{base_path}/problem{1}/cof{3}/decoder_process_times.npy\")\n",
        "  },\n",
        "  2: {\n",
        "    \"quant_of_jobs\":             10,\n",
        "    \"quant_of_machines\":         7,\n",
        "    \"quant_operations_per_jobs\": [3, 2, 3, 3, 3, 3, 3, 3, 3, 3],\n",
        "    \"max_of_operations\":         3,\n",
        "    \"half_of_scheduling\":        29,\n",
        "    \"process_times\":             np.load(f\"{base_path}/problem{4}/cof{3}/decoder_process_times.npy\")\n",
        "  },\n",
        "  3: {\n",
        "    \"quant_of_jobs\":             10,\n",
        "    \"quant_of_machines\":         10,\n",
        "    \"quant_operations_per_jobs\": [3, 3, 3, 3, 3, 3, 3, 3, 3, 3],\n",
        "    \"max_of_operations\":         3,\n",
        "    \"half_of_scheduling\":        30,\n",
        "    \"process_times\":             np.load(f\"{base_path}/problem{4}/cof{3}/decoder_process_times.npy\")\n",
        "  },\n",
        "  4: {\n",
        "    \"quant_of_jobs\":             15,\n",
        "    \"quant_of_machines\":         10,\n",
        "    \"quant_operations_per_jobs\": [4, 4, 4, 4, 4, 2, 2, 4, 4, 4, 4, 4, 4, 4, 4],\n",
        "    \"max_of_operations\":         4,\n",
        "    \"half_of_scheduling\":        56,\n",
        "    \"process_times\":             np.load(f\"{base_path}/problem{4}/cof{3}/decoder_process_times.npy\")\n",
        "  }\n",
        "}\n",
        "#np.save(\"/content/drive/MyDrive/PSO_execs/FilteredDataSets/all_decoder_data.npy\", decoder_data)"
      ],
      "execution_count": null,
      "outputs": []
    },
    {
      "cell_type": "markdown",
      "metadata": {
        "id": "1du5GW5iuwil"
      },
      "source": [
        "#Originais\n"
      ]
    },
    {
      "cell_type": "code",
      "metadata": {
        "id": "nMr3ELwS2P-t"
      },
      "source": [
        "### PLOT Original ###\n",
        "\n",
        "for machine in range( decoder_data[\"quant_of_machines\"] ):    # 10\n",
        "  for j in range( decoder_data[\"half_of_scheduling\"] ):       # 30\n",
        "    current_start_time      = start_time[machine][j]\n",
        "    current_end_time        = end_time[machine][j]\n",
        "    current_diference_time  = current_end_time - current_start_time\n",
        "    #if current_diference_time > 0:\n",
        "    if end_time[machine][j] != 0 and end_time[machine][j] - start_time[machine][j] != 0:\n",
        "      operation = find_machine_of_a_operation(j)\n",
        "      bar_left  = current_start_time\n",
        "      bar_width = current_diference_time\n",
        "      bar_color = colors[operation[0] - 1]\n",
        "      bar_str   = operation\n",
        "      plt.barh(y=machine, width=bar_width, height=0.5, left=bar_left, color=bar_color, edgecolor='black')\n",
        "      plt.text(x=bar_left + 0.1, y=machine, s=bar_str, fontsize=8)\n",
        "#\n",
        "#ax.yticks(np.arange(machine + 1), np.arange(1, machine + 2))\n",
        "#plt.yticks(np.arange(machine + 1), np.arange(1, machine + 2))\n",
        "\n",
        "plt.show()"
      ],
      "execution_count": null,
      "outputs": []
    },
    {
      "cell_type": "markdown",
      "metadata": {
        "id": "_aNbeWaC4CBZ"
      },
      "source": [
        "# Codigos Auxiliares"
      ]
    },
    {
      "cell_type": "markdown",
      "metadata": {
        "id": "RUcfmDRjOevK"
      },
      "source": [
        "### Decode Function"
      ]
    },
    {
      "cell_type": "code",
      "metadata": {
        "id": "DWkIrFccOevN"
      },
      "source": [
        "def decode(scheduling, problem_num, plot_scheduling=False, fig=None):\n",
        "  machines_matrix = np.zeros((decoder_data[problem_num][\"quant_of_jobs\"], decoder_data[problem_num][\"max_of_operations\"]), dtype=int)\n",
        "  times_matrix    = np.zeros((decoder_data[problem_num][\"quant_of_jobs\"], decoder_data[problem_num][\"max_of_operations\"]), dtype=int)\n",
        "\n",
        "  machines_scheduling   = scheduling[:decoder_data[problem_num][\"half_of_scheduling\"]]\n",
        "  operations_scheduling = scheduling[decoder_data[problem_num][\"half_of_scheduling\"]:]\n",
        "\n",
        "  operation_index = 0\n",
        "  for i in range( decoder_data[problem_num][\"quant_of_jobs\"] ):\n",
        "    for j in range( decoder_data[problem_num][\"quant_operations_per_jobs\"][i] ):\n",
        "      count = 0\n",
        "      process_time = decoder_data[problem_num][\"process_times\"][operation_index]\n",
        "\n",
        "      for index in range( len(process_time) ):\n",
        "        if process_time[index] != -1:\n",
        "          count+=1\n",
        "\n",
        "        if count == machines_scheduling[operation_index]:\n",
        "          machines_matrix[i][j] = index+1\n",
        "          times_matrix[i][j]  = process_time[index]\n",
        "          break\n",
        "\n",
        "      operation_index+=1\n",
        "\n",
        "    #print(machines_matrix)\n",
        "    #print(times_matrix)\n",
        "\n",
        "  start_time = np.zeros(\n",
        "    (decoder_data[problem_num][\"quant_of_machines\"], decoder_data[problem_num][\"half_of_scheduling\"]),\n",
        "    dtype=int\n",
        "  )\n",
        "\n",
        "  end_time = np.zeros(\n",
        "    (decoder_data[problem_num][\"quant_of_machines\"], decoder_data[problem_num][\"half_of_scheduling\"]),\n",
        "    dtype=int\n",
        "  )\n",
        "\n",
        "  op_count_dict = {}\n",
        "  machine_operations = np.zeros(decoder_data[problem_num][\"quant_of_machines\"], dtype=int)\n",
        "\n",
        "  for os in operations_scheduling:\n",
        "    if os in op_count_dict:\n",
        "      op_count_dict[os] += 1\n",
        "    else:\n",
        "      op_count_dict[os] = 1\n",
        "    #\n",
        "\n",
        "    operation_count = op_count_dict[os]\n",
        "    operation_index = find_one_operation_in_a_machine(os, operation_count, problem_num)\n",
        "\n",
        "    machine_number     = machines_matrix[os-1][operation_count-1]\n",
        "    pro_time           = times_matrix [os-1][operation_count-1]\n",
        "\n",
        "    machine_operation  = machine_operations[machine_number-1]\n",
        "    current_start_time = start_time[machine_number-1][operation_index]\n",
        "    current_end_time   = end_time  [machine_number-1][operation_index]\n",
        "\n",
        "    previous_operation_index = find_one_operation_in_a_machine(os, operation_count - 1, problem_num)\n",
        "    previous_machine_number = machines_matrix[os-1][operation_count-2]\n",
        "\n",
        "    if machine_operation == 0 and operation_count == 1 :\n",
        "      current_start_time = 0\n",
        "      current_end_time   = pro_time\n",
        "    #\n",
        "\n",
        "    elif machine_operation == 0 and operation_count > 1 :\n",
        "      prev_m_num          = machines_matrix[os-1][operation_count-2]\n",
        "      prev_end_time       = end_time[prev_m_num-1][previous_operation_index]\n",
        "      current_start_time  = prev_end_time\n",
        "      current_end_time    = prev_end_time + pro_time\n",
        "    #\n",
        "\n",
        "    elif machine_operation > 0:\n",
        "      flag=0\n",
        "      prev_end_time = 0\n",
        "\n",
        "      if operation_count == 1 :\n",
        "        free_start = 0\n",
        "      else:\n",
        "        prev_end_time = end_time[previous_machine_number-1][previous_operation_index]\n",
        "        free_start = prev_end_time\n",
        "      #\n",
        "\n",
        "      order_start_time = np.sort(start_time[machine_number-1][end_time[machine_number-1] > 0])\n",
        "      order_end_time   = np.sort(end_time  [machine_number-1][end_time[machine_number-1] > 0])\n",
        "\n",
        "      for index in range(len(order_start_time)):\n",
        "        if order_start_time[index] - free_start >= pro_time:\n",
        "          current_start_time = free_start\n",
        "          current_end_time   = free_start + pro_time\n",
        "          flag = 1\n",
        "          break\n",
        "        #\n",
        "\n",
        "        if order_end_time[index] - free_start >= 0:\n",
        "          free_start = order_end_time[index]\n",
        "        #\n",
        "      #\n",
        "\n",
        "      if flag == 0:\n",
        "        free_start = max(np.max(end_time[machine_number-1]), prev_end_time)\n",
        "        current_start_time = free_start\n",
        "        current_end_time   = free_start + pro_time\n",
        "      #\n",
        "    #\n",
        "\n",
        "    machine_operation += 1\n",
        "\n",
        "    machine_operations[machine_number - 1]          = machine_operation\n",
        "    start_time[machine_number - 1][operation_index] = current_start_time\n",
        "    end_time  [machine_number - 1][operation_index] = current_end_time\n",
        "  #\n",
        "  \n",
        "  #print(scheduling)\n",
        "  if plot_scheduling:\n",
        "    draw_gatt(start_time, end_time, fig)\n",
        "  #\n",
        "\n",
        "  fitness = np.max(end_time)\n",
        "  #return fitness\n",
        "  return (start_time, end_time)\n",
        "#"
      ],
      "execution_count": null,
      "outputs": []
    },
    {
      "cell_type": "markdown",
      "metadata": {
        "id": "Aa2ZLAayNRPd"
      },
      "source": [
        "### Gantt Plot Function\n"
      ]
    },
    {
      "cell_type": "code",
      "metadata": {
        "id": "6oSueSmGNbrd"
      },
      "source": [
        "def draw_gatt(start_time, end_time, fig):\n",
        "  colors = { 0:'red', 1:'blue', 2:'yellow', 3:'orange', \n",
        "    4:'green', 5:'palegoldenrod',6:'purple', 7:'pink', \n",
        "    8:'Thistle', 9:'Magenta',10:'SlateBlue', 11:'RoyalBlue', \n",
        "    12:'Cyan', 13:'Aqua',14:'floralwhite',15:'ghostwhite'\n",
        "  }\n",
        "  #ax = plt.figure()\n",
        "  # i = Machine_index ; j = Operation_index\n",
        "  for i in range( decoder_data[\"quant_of_machines\"] ): # Vai de linha em linha do plot (começando do 0)\n",
        "    for j in range( decoder_data[\"half_of_scheduling\"] ):\n",
        "      current_start_time      = start_time[i][j]\n",
        "      current_end_time        = end_time[i][j]\n",
        "      current_diference_time  = current_end_time - current_start_time\n",
        "      #if current_diference_time > 0:\n",
        "      if end_time[i][j] != 0 and end_time[i][j] - start_time[i][j] != 0:\n",
        "        operation = find_machine_of_a_operation(j)\n",
        "        bar_width = current_diference_time\n",
        "        bar_left = current_start_time\n",
        "        bar_color = colors[operation[0] - 1]\n",
        "        #bar_str = operation[0] # Somente o numero do Job\n",
        "        bar_str = operation     # Numero do Job e da Operação\n",
        "\n",
        "        plt.barh(y=i, width=bar_width, height=0.5, left=bar_left, color=bar_color, edgecolor='black')\n",
        "        plt.text(x=bar_left + 0.1, y=i, s=bar_str, fontsize=8)\n",
        "  #\n",
        "  #ax.yticks(np.arange(i + 1), np.arange(1, i + 2))\n",
        "  plt.yticks(np.arange(i + 1), np.arange(1, i + 2))\n",
        "\n",
        "  plt.show()\n",
        "  pass\n",
        "#"
      ],
      "execution_count": null,
      "outputs": []
    },
    {
      "cell_type": "markdown",
      "metadata": {
        "id": "QbxLICc8NWkp"
      },
      "source": [
        "### Find Operation Function"
      ]
    },
    {
      "cell_type": "code",
      "metadata": {
        "id": "xU0M40s6NcBH"
      },
      "source": [
        "def find_one_operation_in_a_machine(i, j, problem_num):\n",
        "  if i == 1:\n",
        "    op_index = j - 1\n",
        "  else:\n",
        "    op_index = sum(decoder_data[problem_num][\"quant_operations_per_jobs\"][:i - 1]) + j - 1\n",
        "\n",
        "  return op_index\n"
      ],
      "execution_count": null,
      "outputs": []
    },
    {
      "cell_type": "markdown",
      "metadata": {
        "id": "dwI4TUeoOzB2"
      },
      "source": [
        "----"
      ]
    },
    {
      "cell_type": "markdown",
      "metadata": {
        "id": "Y45Zx0jXOoG1"
      },
      "source": [
        "### Find Machine"
      ]
    },
    {
      "cell_type": "code",
      "metadata": {
        "id": "F4LyNNCFOoHl"
      },
      "source": [
        "def find_machine_of_a_operation(operation_index, problem_num):\n",
        "  job_op_list = [\n",
        "      (i + 1, j + 1) for i in range( decoder_data[problem_num][\"quant_of_jobs\"] ) for j in range(decoder_data[problem_num][\"quant_operations_per_jobs\"][i])\n",
        "  ]\n",
        "  job_op = job_op_list[operation_index]\n",
        "  return job_op\n",
        "#"
      ],
      "execution_count": null,
      "outputs": []
    },
    {
      "cell_type": "markdown",
      "metadata": {
        "id": "myFbG8O0OoHt"
      },
      "source": [
        "----"
      ]
    }
  ]
}