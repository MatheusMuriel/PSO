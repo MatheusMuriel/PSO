{
  "nbformat": 4,
  "nbformat_minor": 0,
  "metadata": {
    "colab": {
      "name": "AnalisesExecutePSO.ipynb",
      "provenance": [],
      "collapsed_sections": [
        "DTDCjpoXYzct",
        "rjKxTLm8IHl7",
        "qPnADjcpISLJ",
        "-EnuMkymIViq",
        "npZyoIchJxre",
        "Zlbkg7nqJTl_",
        "1OKMi8PSJOjk",
        "zLEjFFmRBfWx",
        "fbcTXZqM4sgs"
      ]
    },
    "kernelspec": {
      "display_name": "Python 3",
      "name": "python3"
    },
    "language_info": {
      "name": "python"
    }
  },
  "cells": [
    {
      "cell_type": "code",
      "metadata": {
        "id": "mWAiddCATQDX"
      },
      "source": [
        "import numpy as np\n",
        "import seaborn as sns\n",
        "import matplotlib.pyplot as plt\n",
        "%matplotlib inline\n",
        "\n",
        "from matplotlib import cm\n",
        "from matplotlib import animation\n",
        "\n",
        "from matplotlib.ticker import LinearLocator, FormatStrFormatter\n",
        "from mpl_toolkits.mplot3d import Axes3D\n",
        "from IPython.display import HTML"
      ],
      "execution_count": null,
      "outputs": []
    },
    {
      "cell_type": "code",
      "metadata": {
        "id": "Ia61wgIg5C5P"
      },
      "source": [
        "#p_history1         = f\"{path_base_3}/particles_positions_history{1}_exec{1}.npy\"\n",
        "#p_history2         = f\"{path_base_3}/particles_positions_history{2}_exec{1}.npy\"\n",
        "\n",
        "population_history = np.load(\"population_history.npy\", allow_pickle=True)[()]\n",
        "#gb_hist = population_history[:,-1]"
      ],
      "execution_count": 60,
      "outputs": []
    },
    {
      "cell_type": "code",
      "metadata": {
        "id": "4aquEIGf5HfR"
      },
      "source": [
        "# 400 iten (20x20)\n",
        "#ph1 = np.array(population_history[f\"problem_{p_num}\"][f\"coef_{cofs[i]}\"][f\"approach_{1}\"])\n",
        "#ph2 = np.array(population_history[f\"problem_{p_num}\"][f\"coef_{cofs[i]}\"][f\"approach_{2}\"])\n",
        "ph1 = population_history[f\"problem_{p_num}\"][f\"coef_{cofs[i]}\"][f\"approach_{1}\"]\n",
        "ph2 = population_history[f\"problem_{p_num}\"][f\"coef_{cofs[i]}\"][f\"approach_{2}\"]"
      ],
      "execution_count": 117,
      "outputs": []
    },
    {
      "cell_type": "code",
      "metadata": {
        "id": "M1saDrlh-Xvu"
      },
      "source": [
        "#ph1[x] um para cada execução\n",
        "gbest_history1 = [np.array(x)[:,-1] for x in ph1]\n",
        "gbest_history2 = [np.array(x)[:,-1] for x in ph2]\n",
        "gbest_history1_tuple = [[f\"{xx[0]},{xx[1]}\" for xx in x] for x in gbest_history1]\n",
        "gbest_history2_tuple = [[f\"{xx[0]},{xx[1]}\" for xx in x] for x in gbest_history2]\n",
        "\n",
        "gbest_uniques_history1 = [np.unique(x) for x in gbest_history1_tuple]\n",
        "gbest_uniques_history2 = [np.unique(x) for x in gbest_history2_tuple]\n",
        "\n",
        "quant_gbest_uniques_history1 = [len(x) for x in gbest_uniques_history1]\n",
        "quant_gbest_uniques_history2 = [len(x) for x in gbest_uniques_history2]"
      ],
      "execution_count": 228,
      "outputs": []
    },
    {
      "cell_type": "code",
      "metadata": {
        "colab": {
          "base_uri": "https://localhost:8080/"
        },
        "id": "7qv_rFkkXEZ8",
        "outputId": "a962fe48-39ac-41ef-fb29-0f4029378261"
      },
      "source": [
        "print(quant_gbest_uniques_history1)\n",
        "print(quant_gbest_uniques_history2)"
      ],
      "execution_count": 229,
      "outputs": [
        {
          "output_type": "stream",
          "name": "stdout",
          "text": [
            "[2, 2, 3, 2, 1, 5, 3, 3, 2, 2, 4, 3, 3, 1, 5, 3, 2, 1, 5, 3, 1, 3, 3, 3, 1, 4, 3, 3, 2, 2, 4, 4, 1, 1, 4, 2, 2, 1, 4, 3, 2, 3, 3, 4, 1, 4, 2, 3, 2, 3, 2, 1, 2, 1, 4, 3, 2, 1, 3, 3, 2, 2, 2, 2, 1, 4, 3, 2, 3, 4, 4, 2, 2, 1, 5, 2, 3, 1, 4, 3, 1, 3, 3, 2, 1, 5, 2, 3, 4, 3, 4, 2, 1, 1, 4, 2, 3, 2, 3, 3, 3, 4, 3, 5, 1, 4, 4, 4, 2, 2, 3, 3, 1, 1, 3, 2, 2, 2, 6, 3, 3, 3, 3, 4, 1, 3, 3, 4, 2, 3, 3, 1, 1, 1, 3, 2, 2, 2, 4, 2, 2, 3, 3, 2, 1, 3, 3, 3, 2, 3, 3, 2, 2, 1, 5, 2, 3, 1, 3, 4, 1, 2, 3, 4, 1, 5, 2, 3, 2, 2, 2, 3, 1, 1, 6, 3, 2, 2, 4, 3, 2, 3, 3, 4, 1, 3, 2, 2, 4, 2, 3, 2, 2, 1, 4, 2, 3, 2, 4, 4, 2, 4, 3, 2, 1, 5, 4, 5, 2, 2, 3, 3, 2, 2, 4, 2, 3, 2, 4, 3, 2, 3, 3, 3, 1, 2, 2, 4, 2, 5, 3, 3, 2, 1, 4, 3, 3, 2, 2, 4, 1, 4, 3, 4, 1, 3, 3, 3, 2, 4, 3, 2, 2, 1, 4, 2, 2, 2, 4, 3, 2, 3, 5, 3, 1, 5, 3, 3, 2, 3, 3, 1, 2, 1, 5, 2, 2, 1, 4, 5, 1, 2, 3, 2, 1, 4, 3, 4, 3, 2, 4, 2, 2, 1, 4, 2, 2, 2, 2, 3, 1, 3, 3, 2, 1, 3, 3, 3, 1, 4, 5, 1, 1, 2, 3, 2, 2, 2, 5, 4, 2, 3, 3, 4, 1, 3, 2, 3, 2, 3, 3, 2, 1, 1, 5, 2, 2, 2, 5, 3, 2, 3, 3, 2, 1, 4, 3, 2, 2, 3, 4, 3, 2, 1, 4, 2, 3, 2, 4, 3, 3, 3, 3, 2, 1, 3, 3, 3, 2, 2, 2, 3, 2, 1, 3, 2, 2, 1, 4, 3, 2, 4, 4, 2, 1, 3, 2, 3, 2, 4, 2, 1, 2, 2, 3, 2, 2, 1, 4, 5]\n",
            "[2, 2, 3, 4, 1, 4, 5, 4, 4, 4, 4, 2, 3, 1, 3, 2, 4, 2, 5, 3, 4, 4, 4, 2, 1, 5, 4, 5, 4, 3, 3, 2, 2, 1, 4, 2, 3, 3, 7, 4, 3, 3, 2, 4, 1, 5, 3, 2, 4, 5, 5, 2, 3, 1, 6, 2, 3, 2, 2, 3, 2, 2, 3, 2, 1, 4, 4, 3, 3, 4, 4, 1, 2, 1, 3, 2, 3, 2, 5, 3, 2, 3, 3, 3, 1, 2, 2, 3, 3, 2, 3, 4, 1, 1, 3, 3, 3, 3, 4, 2, 2, 2, 3, 4, 1, 4, 3, 4, 3, 2, 2, 3, 3, 1, 4, 2, 4, 2, 4, 4, 1, 3, 4, 5, 1, 3, 3, 6, 2, 5, 4, 3, 3, 1, 3, 4, 3, 3, 4, 3, 4, 2, 3, 4, 1, 4, 4, 4, 3, 3, 3, 2, 1, 1, 4, 2, 3, 3, 6, 2, 3, 4, 4, 2, 1, 5, 6, 4, 2, 3, 5, 4, 1, 1, 3, 3, 2, 2, 4, 3, 4, 2, 3, 4, 1, 4, 4, 4, 4, 3, 3, 2, 2, 1, 3, 4, 2, 2, 5, 3, 2, 2, 3, 2, 1, 4, 3, 2, 4, 2, 5, 2, 3, 1, 3, 2, 3, 2, 5, 3, 3, 1, 4, 2, 1, 5, 5, 4, 3, 3, 3, 2, 1, 1, 3, 3, 3, 2, 4, 4, 3, 2, 3, 2, 1, 6, 4, 4, 3, 2, 3, 2, 2, 1, 5, 2, 4, 2, 6, 3, 2, 4, 3, 4, 1, 4, 4, 4, 4, 2, 3, 2, 1, 2, 6, 4, 3, 2, 5, 4, 3, 2, 3, 4, 1, 4, 3, 5, 5, 3, 5, 2, 2, 1, 4, 3, 5, 2, 4, 3, 2, 3, 3, 5, 1, 3, 4, 4, 4, 3, 3, 3, 2, 1, 6, 2, 3, 2, 5, 4, 2, 3, 4, 5, 1, 6, 3, 4, 5, 5, 4, 2, 2, 1, 5, 3, 3, 3, 4, 4, 2, 3, 3, 2, 1, 5, 4, 3, 4, 2, 4, 1, 2, 1, 4, 2, 3, 4, 5, 3, 3, 4, 2, 5, 1, 4, 3, 5, 2, 4, 4, 3, 3, 1, 3, 4, 3, 2, 4, 3, 4, 3, 3, 4, 2, 6, 5, 3, 4, 3, 3, 2, 2, 1, 4, 3, 3, 2, 3, 3]\n"
          ]
        }
      ]
    },
    {
      "cell_type": "code",
      "metadata": {
        "id": "5zXJFFl58X23"
      },
      "source": [
        "fig = plt.figure()\n",
        "ax = fig.subplots()\n",
        "\n",
        "ft1 = handle_population_history(ph1)\n",
        "ft2 = handle_population_history(ph2)\n",
        "\n",
        "ft1u, ft1c = np.unique(ft1, return_counts=True)\n",
        "ft2u, ft2c = np.unique(ft2, return_counts=True)\n",
        "frec1 = dict(zip(ft1u, ft1c))\n",
        "frec2 = dict(zip(ft2u, ft2c))\n",
        "\n",
        "labels = np.unique(np.concatenate((ft1,ft2)))\n",
        "pop1 = np.array([(frec1[x] if x in frec1 else 0) for x in labels])\n",
        "pop2 = np.array([(frec2[x] if x in frec2 else 0) for x in labels])\n",
        "X_axis = np.arange(len(labels))\n",
        "ax.bar(X_axis-0.2, pop1, 0.4, label=\"PSO Base\")\n",
        "ax.bar(X_axis+0.2, pop2, 0.4, label=\"Inércia Dinâmica\")\n",
        "#ax.set_xticks(X_axis)\n",
        "ax.set_xlabel(\"Frequência\")\n",
        "ax.set_ylabel(\"Alterações de gBests\")\n",
        "ax.title.set_text(f\"N x N\")\n",
        "ax.legend(fontsize=10, loc='upper right', labelspacing=1)"
      ],
      "execution_count": null,
      "outputs": []
    },
    {
      "cell_type": "code",
      "metadata": {
        "colab": {
          "base_uri": "https://localhost:8080/",
          "height": 308
        },
        "id": "9qoMGxPXOj2V",
        "outputId": "b7b4d951-20f4-4919-ed2e-9d4fccbe54b6"
      },
      "source": [
        "plot_gbest_parans = {\n",
        "  \"figsize\"     : (18,4),\n",
        "  \"label_1\"     : \"PSO Base\",\n",
        "  \"label_2\"     : \"Inércia Dinâmica\",\n",
        "  \"sizes\"       : [50,70,90],\n",
        "  \"cofs\"        : [3,5,6],\n",
        "  \"xlabel\"      : \"Alterações de gBests\",\n",
        "  \"ylabel\"      : \"Frequência\"\n",
        "}\n",
        "plot_gbest_analise_by_num(4)"
      ],
      "execution_count": 238,
      "outputs": [
        {
          "output_type": "display_data",
          "data": {
            "image/png": "[encoded data removed]",
            "text/plain": [
              "<Figure size 1296x288 with 3 Axes>"
            ]
          },
          "metadata": {
            "needs_background": "light"
          }
        }
      ]
    },
    {
      "cell_type": "code",
      "metadata": {
        "id": "_JIukciB43fV"
      },
      "source": [
        "def plot_gbest_analise_by_num(p_num, with_legend=True, save=False, format=\"jpg\"):\n",
        "  fig = plt.figure(figsize=figsize)\n",
        "  ax = fig.subplots(nrows=1, ncols=3)\n",
        "  fig.suptitle(f\"Problema {p_num}\", fontsize=20)\n",
        "  plt.subplots_adjust(top=0.85)\n",
        "  ######################################\n",
        "  for i in range(len(plot_gbest_parans[\"sizes\"])):\n",
        "    dt1 = population_history[f\"problem_{p_num}\"][f\"coef_{cofs[i]}\"][f\"approach_{1}\"]\n",
        "    dt2 = population_history[f\"problem_{p_num}\"][f\"coef_{cofs[i]}\"][f\"approach_{2}\"]\n",
        "    ft1 = handle_population_history(dt1)\n",
        "    ft2 = handle_population_history(dt2)\n",
        "    ft1u, ft1c = np.unique(ft1, return_counts=True)\n",
        "    ft2u, ft2c = np.unique(ft2, return_counts=True)\n",
        "    frec1 = dict(zip(ft1u, ft1c))\n",
        "    frec2 = dict(zip(ft2u, ft2c))\n",
        "\n",
        "    label1 = '\\n'.join((\n",
        "      r'%s'                   % (plot_gbest_parans[\"label_1\"]),\n",
        "      r'$\\overline{x}=%.2f$'  % (np.average(ft1)),\n",
        "      r'$\\sigma=%.2f$'        % (np.std(ft1)))\n",
        "    )\n",
        "\n",
        "    label2 = '\\n'.join((\n",
        "      r'%s'                   % (plot_gbest_parans[\"label_2\"]),\n",
        "      r'$\\overline{x}=%.2f$'  % (np.average(ft2)),\n",
        "      r'$\\sigma=%.2f$'        % (np.std(ft2)))\n",
        "    )\n",
        "\n",
        "    labels = np.unique(np.concatenate((ft1,ft2)))\n",
        "    pop1 = [(frec1[x] if x in frec1 else 0) for x in labels]\n",
        "    pop2 = [(frec2[x] if x in frec2 else 0) for x in labels]\n",
        "    X_axis = np.arange(len(labels))\n",
        "    b1 = ax[i].bar(X_axis-0.2, pop1, 0.4, label=label1)\n",
        "    b2 = ax[i].bar(X_axis+0.2, pop2, 0.4, label=label2)\n",
        "    ax[i].set_xlabel(plot_gbest_parans[\"xlabel\"])\n",
        "    ax[i].set_ylabel(plot_gbest_parans[\"ylabel\"])\n",
        "    ax[i].title.set_text(f\"{plot_gbest_parans['sizes'][i]}x{plot_gbest_parans['sizes'][i]}\")\n",
        "    if with_legend:\n",
        "      ax[i].legend(fontsize=10, loc='upper right', labelspacing=1)\n",
        "  if save:\n",
        "    plt.savefig(f\"problem_{p_num}.{format}\")\n",
        "  ######################################\n",
        "  plt.show()\n",
        "####\n",
        "#plot_fitness_analise_by_num(p_num=4, with_legend=True, save=False, format=\"jpg\")"
      ],
      "execution_count": 237,
      "outputs": []
    },
    {
      "cell_type": "code",
      "metadata": {
        "id": "EbonF87jU6Qb"
      },
      "source": [
        "def handle_population_history(ph):\n",
        "  gbest_history               = [np.array(x)[:,-1] for x in ph]\n",
        "  gbest_history_tuple         = [[f\"{xx[0]},{xx[1]}\" for xx in x] for x in gbest_history]\n",
        "  gbest_uniques_history       = [np.unique(x) for x in gbest_history_tuple]\n",
        "  quant_gbest_uniques_history = [len(x) for x in gbest_uniques_history]\n",
        "\n",
        "  return quant_gbest_uniques_history\n",
        "###"
      ],
      "execution_count": 230,
      "outputs": []
    },
    {
      "cell_type": "markdown",
      "metadata": {
        "id": "Y3mXJCSlSwum"
      },
      "source": [
        "# Plotagem"
      ]
    },
    {
      "cell_type": "markdown",
      "metadata": {
        "id": "Iv0crU1sKAgr"
      },
      "source": [
        "## Parametros"
      ]
    },
    {
      "cell_type": "code",
      "metadata": {
        "id": "pb2yLWVJH1-x"
      },
      "source": [
        "limits                = [(9,15), (10,23), (6,19), (15,29)]\n",
        "figsize               = (18,4)\n",
        "approach_1_label      = \"PSO Base\"\n",
        "approach_2_label      = \"Inércia Dinâmica\"\n",
        "xlabel                = \"Makespan\"\n",
        "ylabel                = \"Frequência\"\n",
        "sizes                 = [50, 70, 90]\n",
        "cofs                  = [3,  5,  6 ]"
      ],
      "execution_count": null,
      "outputs": []
    },
    {
      "cell_type": "code",
      "metadata": {
        "colab": {
          "base_uri": "https://localhost:8080/"
        },
        "id": "_i2TNB78VmWr",
        "outputId": "942d9702-9d0b-4006-c252-dbadafab9274"
      },
      "source": [
        "a = 1\n",
        "b = 3\n",
        "c = 1\n",
        "print(len(fitness[f\"problem_{a}\"][f\"coef_{b}\"][f\"approach_{c}\"]))\n",
        "print(len(fitness_2[f\"problem_{a}\"][f\"coef_{b}\"][f\"approach_{c}\"]))"
      ],
      "execution_count": null,
      "outputs": [
        {
          "name": "stdout",
          "output_type": "stream",
          "text": [
            "400\n",
            "120\n"
          ]
        }
      ]
    },
    {
      "cell_type": "markdown",
      "metadata": {
        "id": "bQmj1ZZVKEvv"
      },
      "source": [
        "## Execuções"
      ]
    },
    {
      "cell_type": "code",
      "metadata": {
        "id": "8ubKZPvQV3AX"
      },
      "source": [
        "#plot_fitness_analise_by_num(p_num=1, with_legend=True, save=False)\n",
        "#plot_fitness_analise_by_num(p_num=2, with_legend=True, save=False)\n",
        "#plot_fitness_analise_by_num(p_num=3, with_legend=True, save=False)\n",
        "plot_fitness_analise_by_num(p_num=4, with_legend=True, save=False, format=\"jpg\")"
      ],
      "execution_count": null,
      "outputs": []
    },
    {
      "cell_type": "code",
      "metadata": {
        "id": "VcPBrKjk9pGl"
      },
      "source": [
        "def plot_fitness_analise_by_num(p_num, with_legend, save, format):\n",
        "  fig = plt.figure(figsize=figsize)\n",
        "  ax = fig.subplots(nrows=1, ncols=3)\n",
        "  fig.suptitle(f\"Problema {p_num}\", fontsize=20)\n",
        "  plt.subplots_adjust(top=0.85)\n",
        "  lim   = limits[p_num-1]\n",
        "  ######################################\n",
        "  for i in range(len(sizes)):\n",
        "    ft1 = fitness[f\"problem_{p_num}\"][f\"coef_{cofs[i]}\"][f\"approach_{1}\"]\n",
        "    ft2 = fitness[f\"problem_{p_num}\"][f\"coef_{cofs[i]}\"][f\"approach_{2}\"]\n",
        "    ft1u, ft1c = np.unique(ft1, return_counts=True)\n",
        "    ft2u, ft2c = np.unique(ft2, return_counts=True)\n",
        "    frec1 = dict(zip(ft1u, ft1c))\n",
        "    frec2 = dict(zip(ft2u, ft2c))\n",
        "\n",
        "    label1 = '\\n'.join((\n",
        "      r'%s'                   % (approach_1_label),\n",
        "      r'$\\overline{x}=%.2f$'  % (np.average(ft1)),\n",
        "      r'$\\sigma=%.2f$'        % (np.std(ft1)),\n",
        "      r'')\n",
        "    )\n",
        "\n",
        "    label2 = '\\n'.join((\n",
        "      r'%s'                   % (approach_2_label),\n",
        "      r'$\\overline{x}=%.2f$'  % (np.average(ft2)),\n",
        "      r'$\\sigma=%.2f$'        % (np.std(ft2)))\n",
        "    )\n",
        "  \n",
        "    labels = np.unique(np.concatenate((ft1,ft2)))\n",
        "    pop1 = [(frec1[x] if x in frec1 else 0) for x in labels]\n",
        "    pop2 = [(frec2[x] if x in frec2 else 0) for x in labels]\n",
        "    X_axis = np.arange(len(labels))\n",
        "    b1 = ax[i].bar(X_axis-0.2, pop1, 0.4, label=label1)\n",
        "    b2 = ax[i].bar(X_axis+0.2, pop2, 0.4, label=label2)\n",
        "    ax[i].set_xticks(X_axis)\n",
        "    ax[i].set_xticklabels(labels)\n",
        "    ax[i].set_xlabel(xlabel)\n",
        "    ax[i].set_ylabel(ylabel)\n",
        "    ax[i].title.set_text(f\"{sizes[i]}x{sizes[i]}\")\n",
        "\n",
        "    ax[i].bar_label(b1, padding=0)\n",
        "    ax[i].bar_label(b2, padding=3)\n",
        "\n",
        "    if with_legend:\n",
        "      ax[i].legend(fontsize=10, loc='upper right')\n",
        "  if save:\n",
        "    plt.savefig(f\"problem_{p_num}.{format}\")\n",
        "  ######################################\n",
        "  plt.show()\n",
        "####\n",
        "#plot_fitness_analise_by_num(p_num=4, with_legend=True, save=False, format=\"jpg\")"
      ],
      "execution_count": null,
      "outputs": []
    },
    {
      "cell_type": "code",
      "metadata": {
        "id": "Edgc6s7gUmgK"
      },
      "source": [
        "#def plot_fitness_analise_by_num(p_num, with_legend, save, format):\n",
        "p_num = 3\n",
        "fig = plt.figure(figsize=(18,6))\n",
        "ax = fig.subplots(nrows=1, ncols=3)\n",
        "fig.suptitle(f\"Problema {p_num}\", fontsize=20)\n",
        "plt.subplots_adjust(top=0.85)\n",
        "lim   = limits[p_num-1]\n",
        "for i in range(3):\n",
        "  ft1 = fitness[f\"problem_{p_num}\"][f\"coef_{cofs[i]}\"][f\"approach_{1}\"]\n",
        "  ft2 = fitness[f\"problem_{p_num}\"][f\"coef_{cofs[i]}\"][f\"approach_{2}\"]\n",
        "  ft1u, ft1c = np.unique(ft1, return_counts=True)\n",
        "  ft2u, ft2c = np.unique(ft2, return_counts=True)\n",
        "  frec1 = dict(zip(ft1u, ft1c))\n",
        "  frec2 = dict(zip(ft2u, ft2c))\n",
        "\n",
        "  label1 = '\\n'.join((\n",
        "    r'%s'                   % (approach_1_label),\n",
        "    r'$\\overline{x}=%.2f$'  % (np.average(ft1)),\n",
        "    r'$\\sigma=%.2f$'        % (np.std(ft1)))\n",
        "  )\n",
        "\n",
        "  label2 = '\\n'.join((\n",
        "    r'%s'                   % (approach_2_label),\n",
        "    r'$\\overline{x}=%.2f$'  % (np.average(ft2)),\n",
        "    r'$\\sigma=%.2f$'        % (np.std(ft2)))\n",
        "  )\n",
        "\n",
        "  labels = np.unique(np.concatenate((ft1,ft2)))\n",
        "  pop1 = np.array([(frec1[x] if x in frec1 else 0) for x in labels])\n",
        "  pop2 = np.array([(frec2[x] if x in frec2 else 0) for x in labels])\n",
        "  X_axis = np.arange(len(labels))\n",
        "  b1 = ax[i].bar(X_axis-0.2, pop1, 0.4, label=label1)\n",
        "  b2 = ax[i].bar(X_axis+0.2, pop2, 0.4, label=label2)\n",
        "  ax[i].set_xticks(X_axis)\n",
        "  ax[i].set_xticklabels(labels)\n",
        "  ax[i].set_ylim([0,100])\n",
        "  ax[i].set_xlabel(xlabel)\n",
        "  ax[i].set_ylabel(ylabel)\n",
        "  ax[i].title.set_text(f\"{sizes[i]}x{sizes[i]}\")\n",
        "  ax[i].legend(fontsize=10, loc='upper right', labelspacing=1)\n",
        "\n",
        "  ax[i].bar_label(b1, padding=0)\n",
        "  ax[i].bar_label(b2, padding=3)\n",
        "###\n",
        "#fig.legend([\"a\"], loc='upper right')\n",
        "#fi.set_xticklabels(\"AAAA\")\n",
        "#fig.supxlabel(\"20\")\n",
        "#.text(0.5,0.5, \"Aaaa\")\n",
        "plt.show()"
      ],
      "execution_count": null,
      "outputs": []
    },
    {
      "cell_type": "code",
      "metadata": {
        "id": "n6LPLT9-bzoh"
      },
      "source": [
        "ft1 = fitness[f\"problem_{4}\"][f\"coef_{6}\"][f\"approach_{1}\"]\n",
        "ft2 = fitness[f\"problem_{4}\"][f\"coef_{6}\"][f\"approach_{2}\"]\n",
        "get_statistics(ft1)\n",
        "#get_statistics(ft2)"
      ],
      "execution_count": null,
      "outputs": []
    },
    {
      "cell_type": "code",
      "metadata": {
        "id": "k0PpWlBktBqf"
      },
      "source": [
        "def get_statistics(fit):\n",
        "  print(f\"Média .........................=> {np.average(fit)}\")\n",
        "  print(f\"Média Aritmética ..............=> {np.mean(fit)}\")\n",
        "  print(f\"Mediana .......................=> {np.median(fit)}\")\n",
        "  print(f\"Desvio Padrão .................=> {np.std(fit)}\")\n",
        "  print(f\"Variância .....................=> {np.var(fit)}\")\n",
        "  print(f\"Mínimo ........................=> {np.min(fit)}\")\n",
        "  print(f\"Máximo ........................=> {np.max(fit)}\")\n",
        "  print(f\"Valores Únicos ................=> {np.unique(fit)}\")\n",
        "  print(f\"Quantidade de Valores Únicos ..=> {len(np.unique(fit))}\")"
      ],
      "execution_count": null,
      "outputs": []
    },
    {
      "cell_type": "markdown",
      "metadata": {
        "id": "KlxYXBtzIIQf"
      },
      "source": [
        "# Função de Plot\n",
        "\n",
        "Docs: [MathTex](https://matplotlib.org/stable/tutorials/text/mathtext.html)  \n",
        "Exemple: [Grouped Bar](https://matplotlib.org/stable/gallery/lines_bars_and_markers/barchart.html)\n"
      ]
    },
    {
      "cell_type": "markdown",
      "metadata": {
        "id": "yt9tuaefSNV1"
      },
      "source": [
        "#Teste Estatisticas"
      ]
    },
    {
      "cell_type": "markdown",
      "metadata": {
        "id": "0Tpa0BMcFBxY"
      },
      "source": [
        "# :: Archived ::"
      ]
    },
    {
      "cell_type": "markdown",
      "metadata": {
        "id": "DTDCjpoXYzct"
      },
      "source": [
        "#Load Data"
      ]
    },
    {
      "cell_type": "code",
      "metadata": {
        "id": "aGA9MuUbHNLy"
      },
      "source": [
        "### Paths ###\n",
        "base_path = \"/content/drive/MyDrive/PSO_execs/FilteredDataSets/\"\n",
        "fitness_path = f\"{base_path}/fitness.npy\""
      ],
      "execution_count": null,
      "outputs": []
    },
    {
      "cell_type": "code",
      "metadata": {
        "id": "0OuhGn55Yhma"
      },
      "source": [
        "fitness = np.load(fitness_path, allow_pickle=True)[()]"
      ],
      "execution_count": null,
      "outputs": []
    },
    {
      "cell_type": "code",
      "metadata": {
        "colab": {
          "base_uri": "https://localhost:8080/"
        },
        "id": "DPWDIwHUTEOi",
        "outputId": "4b0f6728-b350-4592-9c63-31e3b961417a"
      },
      "source": [
        "print(len(fitness[\"problem_1\"][\"coef_3\"][\"approach_1\"]))"
      ],
      "execution_count": null,
      "outputs": [
        {
          "name": "stdout",
          "output_type": "stream",
          "text": [
            "280\n"
          ]
        }
      ]
    },
    {
      "cell_type": "code",
      "metadata": {
        "colab": {
          "base_uri": "https://localhost:8080/",
          "height": 202
        },
        "id": "3TPOaelHUEZ4",
        "outputId": "c5a3fc73-eceb-4230-abea-4e8f432860ab"
      },
      "source": [
        "fitness = {\n",
        "  \"problem_1\": {\n",
        "    \"coef_3\": {\"approach_1\": [], \"approach_2\": []},\n",
        "    \"coef_5\": {\"approach_1\": [],\"approach_2\": []},\n",
        "    \"coef_6\": {\"approach_1\": [], \"approach_2\": []}\n",
        "  },\n",
        "  \"problem_2\": {\n",
        "    \"coef_3\": {\"approach_1\": [], \"approach_2\": []},\n",
        "    \"coef_5\": {\"approach_1\": [],\"approach_2\": []},\n",
        "    \"coef_6\": {\"approach_1\": [], \"approach_2\": []}\n",
        "  },\n",
        "  \"problem_3\": {\n",
        "    \"coef_3\": {\"approach_1\": [], \"approach_2\": []},\n",
        "    \"coef_5\": {\"approach_1\": [],\"approach_2\": []},\n",
        "    \"coef_6\": {\"approach_1\": [], \"approach_2\": []}\n",
        "  },\n",
        "  \"problem_4\": {\n",
        "    \"coef_3\": {\"approach_1\": [], \"approach_2\": []},\n",
        "    \"coef_5\": {\"approach_1\": [],\"approach_2\": []},\n",
        "    \"coef_6\": {\"approach_1\": [], \"approach_2\": []}\n",
        "  }\n",
        "}\n",
        "\n",
        "for e in range(1, 21):\n",
        "  for r in range(1, 21):\n",
        "    for i in range(1, 5):\n",
        "      path_base_3 = f\"drive/MyDrive/PSO_execs/Kacem/exec{r}/problem{i}/cof{3}\"\n",
        "      ft_3_1 = np.load(f\"{path_base_3}/fitness_aprout{1}_exec{e}.npy\")\n",
        "      ft_3_2 = np.load(f\"{path_base_3}/fitness_aprout{2}_exec{e}.npy\")\n",
        "      fitness[f\"problem_{i}\"][f\"coef_{3}\"][f\"approach_{1}\"].append(ft_3_1[()])\n",
        "      fitness[f\"problem_{i}\"][f\"coef_{3}\"][f\"approach_{2}\"].append(ft_3_2[()])\n",
        "\n",
        "      path_base_5 = f\"drive/MyDrive/PSO_execs/Kacem/exec{r}/problem{i}/cof{5}\"\n",
        "      ft_5_1 = np.load(f\"{path_base_5}/fitness_aprout{1}_exec{e}.npy\")\n",
        "      ft_5_2 = np.load(f\"{path_base_5}/fitness_aprout{2}_exec{e}.npy\")\n",
        "      fitness[f\"problem_{i}\"][f\"coef_{5}\"][f\"approach_{1}\"].append(ft_5_1[()])\n",
        "      fitness[f\"problem_{i}\"][f\"coef_{5}\"][f\"approach_{2}\"].append(ft_5_2[()])\n",
        "\n",
        "      path_base_6 = f\"drive/MyDrive/PSO_execs/Kacem/exec{r}/problem{i}/cof{6}\"\n",
        "      ft_6_1 = np.load(f\"{path_base_6}/fitness_aprout{1}_exec{e}.npy\")\n",
        "      ft_6_2 = np.load(f\"{path_base_6}/fitness_aprout{2}_exec{e}.npy\")\n",
        "      fitness[f\"problem_{i}\"][f\"coef_{6}\"][f\"approach_{1}\"].append(ft_6_1[()])\n",
        "      fitness[f\"problem_{i}\"][f\"coef_{6}\"][f\"approach_{2}\"].append(ft_6_2[()])\n",
        "    #\n",
        "  #\n",
        "#\n",
        "#np.save(f\"fitness_geral.npy\", data_struc)\n",
        "#fitness"
      ],
      "execution_count": null,
      "outputs": [
        {
          "ename": "NameError",
          "evalue": "ignored",
          "output_type": "error",
          "traceback": [
            "\u001b[0;31m---------------------------------------------------------------------------\u001b[0m",
            "\u001b[0;31mNameError\u001b[0m                                 Traceback (most recent call last)",
            "\u001b[0;32m<ipython-input-32-abf8e0404445>\u001b[0m in \u001b[0;36m<module>\u001b[0;34m()\u001b[0m\n\u001b[1;32m     45\u001b[0m   \u001b[0;31m#\u001b[0m\u001b[0;34m\u001b[0m\u001b[0;34m\u001b[0m\u001b[0;34m\u001b[0m\u001b[0m\n\u001b[1;32m     46\u001b[0m \u001b[0;31m#\u001b[0m\u001b[0;34m\u001b[0m\u001b[0;34m\u001b[0m\u001b[0;34m\u001b[0m\u001b[0m\n\u001b[0;32m---> 47\u001b[0;31m \u001b[0mnp\u001b[0m\u001b[0;34m.\u001b[0m\u001b[0msave\u001b[0m\u001b[0;34m(\u001b[0m\u001b[0;34mf\"fitness_geral.npy\"\u001b[0m\u001b[0;34m,\u001b[0m \u001b[0mdata_struc\u001b[0m\u001b[0;34m)\u001b[0m\u001b[0;34m\u001b[0m\u001b[0;34m\u001b[0m\u001b[0m\n\u001b[0m",
            "\u001b[0;31mNameError\u001b[0m: name 'data_struc' is not defined"
          ]
        }
      ]
    },
    {
      "cell_type": "code",
      "metadata": {
        "id": "8uCNUN4v3wHH"
      },
      "source": [
        "np.save(f\"fitness_geral.npy\", fitness)"
      ],
      "execution_count": null,
      "outputs": []
    },
    {
      "cell_type": "code",
      "metadata": {
        "colab": {
          "base_uri": "https://localhost:8080/"
        },
        "id": "z8hhVcKz4BJL",
        "outputId": "ac15c548-c339-4a9e-91be-04b0964508f3"
      },
      "source": [
        "fitness = np.load(\"fitness_geral.npy\", allow_pickle=True)[()]\n",
        "print(fitness)"
      ],
      "execution_count": null,
      "outputs": [
        {
          "name": "stdout",
          "output_type": "stream",
          "text": [
            "{'problem_1': {'coef_3': {'approach_1': [11, 12, 11, 11, 11, 11, 11, 11, 11, 11, 11, 11, 12, 11, 11, 11, 11, 11, 11, 11, 11, 11, 11, 12, 11, 11, 11, 12, 12, 11, 12, 11, 11, 11, 11, 11, 11, 11, 11, 11, 11, 12, 11, 12, 11, 11, 11, 11, 11, 11, 12, 11, 12, 11, 11, 12, 11, 11, 12, 11, 12, 11, 11, 11, 11, 11, 11, 11, 11, 11, 12, 11, 12, 11, 11, 11, 11, 11, 11, 12, 11, 11, 11, 11, 11, 12, 12, 11, 11, 11, 12, 11, 11, 11, 11, 12, 11, 11, 12, 11, 12, 11, 11, 12, 11, 11, 11, 11, 11, 12, 11, 11, 11, 12, 12, 11, 11, 11, 11, 11, 12, 11, 11, 11, 11, 11, 11, 11, 11, 11, 12, 11, 12, 11, 11, 11, 11, 11, 12, 11, 12, 11, 11, 12, 11, 11, 11, 11, 11, 11, 12, 11, 12, 11, 11, 11, 11, 11, 11, 12, 12, 11, 11, 12, 11, 11, 11, 11, 11, 11, 12, 11, 11, 11, 11, 11, 11, 11, 12, 11, 11, 11, 11, 12, 11, 12, 11, 11, 11, 11, 12, 11, 11, 11, 11, 12, 11, 11, 12, 11, 12, 12, 11, 11, 11, 12, 11, 11, 11, 12, 12, 11, 11, 11, 11, 11, 11, 12, 12, 11, 11, 13, 11, 12, 11, 12, 11, 11, 11, 11, 12, 11, 11, 11, 11, 11, 11, 11, 12, 11, 12, 11, 11, 12, 11, 11, 12, 11, 11, 11, 12, 11, 12, 11, 11, 12, 11, 11, 12, 11, 12, 11, 11, 12, 11, 11, 11, 11, 11, 11, 12, 11, 11, 12, 11, 11, 11, 12, 12, 12, 12, 12, 11, 12, 11, 11, 12, 12, 11, 12, 12, 11, 11, 11, 11, 11, 11, 11, 11, 11, 11, 11, 11, 12, 11, 11, 12, 11, 11, 11, 12, 11, 11, 12, 11, 11, 11, 11, 12, 12, 11, 11, 11, 12, 11, 12, 11, 11, 11, 11, 12, 11, 11, 11, 12, 11, 11, 12, 12, 11, 11, 11, 11, 11, 11, 12, 12, 11, 11, 11, 12, 11, 12, 12, 11, 11, 11, 11, 11, 11, 11, 12, 11, 11, 11, 11, 12, 11, 11, 11, 12, 11, 11, 11, 11, 11, 11, 11, 12, 11, 11, 11, 11, 11, 11, 11, 11, 11, 12, 12, 12, 11, 11, 11, 11, 11, 11, 11, 12, 11], 'approach_2': [11, 11, 11, 11, 11, 11, 11, 11, 11, 11, 11, 11, 11, 11, 11, 11, 11, 11, 11, 11, 11, 11, 11, 11, 11, 12, 11, 11, 11, 11, 11, 11, 11, 11, 11, 12, 11, 11, 11, 11, 11, 11, 11, 11, 11, 11, 11, 11, 11, 11, 11, 11, 11, 11, 11, 12, 11, 11, 12, 11, 11, 11, 11, 11, 11, 11, 11, 11, 11, 11, 12, 11, 11, 11, 11, 11, 11, 11, 11, 11, 11, 11, 11, 11, 11, 11, 11, 11, 11, 11, 12, 11, 11, 11, 11, 11, 11, 11, 11, 11, 11, 11, 11, 11, 11, 11, 11, 11, 11, 11, 12, 11, 11, 11, 11, 11, 11, 11, 11, 11, 11, 11, 11, 11, 11, 11, 11, 11, 11, 11, 12, 11, 11, 11, 11, 11, 11, 11, 11, 11, 11, 11, 11, 11, 11, 11, 11, 11, 11, 11, 12, 11, 11, 11, 11, 11, 11, 11, 11, 11, 11, 11, 11, 11, 11, 11, 11, 11, 11, 11, 12, 11, 11, 11, 11, 11, 11, 11, 11, 11, 11, 11, 11, 11, 11, 11, 11, 11, 11, 11, 12, 11, 11, 11, 11, 11, 11, 11, 11, 11, 12, 11, 11, 11, 11, 11, 11, 11, 11, 11, 11, 11, 11, 11, 11, 12, 11, 11, 11, 11, 11, 11, 11, 11, 11, 12, 11, 11, 11, 11, 12, 11, 11, 11, 11, 11, 11, 11, 12, 11, 11, 11, 11, 11, 11, 11, 11, 11, 11, 11, 12, 11, 11, 11, 11, 11, 11, 11, 11, 11, 11, 11, 11, 11, 11, 11, 11, 11, 11, 11, 12, 11, 11, 11, 11, 11, 11, 11, 11, 11, 11, 11, 11, 11, 11, 12, 11, 11, 11, 11, 12, 11, 11, 11, 11, 11, 11, 11, 11, 11, 11, 11, 11, 11, 11, 11, 11, 11, 11, 11, 11, 11, 11, 11, 11, 11, 11, 11, 12, 11, 12, 11, 11, 11, 11, 11, 11, 11, 11, 11, 12, 11, 11, 11, 11, 11, 11, 11, 12, 11, 11, 11, 11, 11, 11, 11, 11, 11, 11, 11, 12, 11, 11, 11, 11, 11, 11, 11, 11, 11, 11, 11, 11, 11, 11, 11, 11, 11, 11, 11, 11, 11, 11, 11, 11, 11, 11, 11, 11, 11, 11, 11, 11, 11, 11, 12, 11, 11, 11, 11, 12, 11, 11, 11, 11, 12, 11, 11, 11, 11]}, 'coef_5': {'approach_1': [11, 12, 11, 11, 11, 11, 11, 11, 11, 12, 11, 11, 11, 11, 12, 12, 11, 11, 11, 12, 12, 12, 11, 11, 11, 11, 11, 11, 11, 11, 11, 11, 12, 11, 11, 11, 11, 11, 11, 11, 11, 11, 11, 12, 12, 11, 11, 11, 11, 12, 11, 11, 12, 11, 12, 11, 11, 11, 11, 12, 11, 12, 11, 12, 11, 11, 11, 11, 11, 12, 11, 11, 11, 11, 12, 11, 11, 11, 11, 12, 11, 11, 11, 11, 11, 11, 11, 11, 11, 12, 11, 11, 12, 11, 11, 11, 11, 11, 11, 11, 12, 11, 11, 11, 12, 11, 11, 11, 11, 11, 11, 11, 11, 11, 11, 11, 11, 11, 11, 11, 11, 12, 11, 11, 11, 11, 11, 11, 11, 12, 11, 11, 11, 11, 11, 11, 11, 11, 11, 11, 12, 12, 12, 11, 11, 11, 11, 11, 11, 12, 11, 11, 11, 11, 12, 11, 11, 11, 11, 11, 11, 12, 11, 11, 11, 11, 11, 11, 11, 11, 11, 11, 11, 11, 12, 11, 11, 12, 11, 12, 11, 12, 11, 11, 12, 11, 11, 11, 11, 12, 11, 11, 12, 11, 12, 11, 11, 11, 11, 12, 11, 12, 11, 11, 11, 11, 11, 11, 11, 11, 11, 11, 12, 11, 12, 11, 12, 12, 11, 11, 11, 11, 11, 11, 11, 11, 11, 11, 12, 11, 11, 11, 12, 11, 12, 11, 11, 11, 11, 11, 11, 12, 11, 11, 11, 11, 11, 11, 11, 12, 11, 11, 11, 11, 12, 11, 12, 11, 11, 11, 11, 12, 11, 11, 11, 11, 11, 11, 12, 11, 11, 11, 12, 11, 11, 11, 11, 11, 11, 11, 11, 11, 11, 11, 11, 11, 11, 11, 11, 12, 11, 11, 11, 11, 12, 11, 11, 11, 11, 12, 11, 12, 12, 11, 11, 11, 11, 11, 11, 11, 11, 11, 11, 11, 12, 12, 12, 11, 11, 12, 11, 12, 11, 11, 11, 11, 11, 11, 11, 11, 11, 11, 11, 12, 12, 11, 12, 11, 11, 12, 12, 12, 11, 11, 12, 11, 11, 11, 11, 12, 11, 11, 11, 11, 12, 11, 12, 11, 11, 11, 11, 12, 11, 11, 12, 11, 11, 11, 11, 12, 11, 11, 12, 11, 12, 11, 12, 11, 11, 12, 11, 12, 11, 11, 11, 11, 11, 11, 12, 11, 11, 11, 11, 11, 12, 11, 12, 11, 11, 12], 'approach_2': [11, 12, 11, 11, 11, 11, 11, 11, 11, 11, 11, 11, 11, 11, 11, 11, 11, 11, 11, 11, 11, 12, 11, 11, 11, 11, 11, 11, 11, 11, 11, 11, 11, 11, 11, 11, 11, 11, 11, 11, 11, 11, 11, 11, 11, 11, 11, 11, 12, 11, 11, 11, 11, 11, 12, 11, 11, 11, 11, 11, 11, 12, 11, 12, 11, 11, 11, 11, 12, 11, 11, 11, 11, 11, 12, 11, 11, 11, 11, 11, 11, 11, 11, 11, 11, 12, 11, 11, 11, 11, 11, 11, 11, 11, 11, 11, 11, 11, 11, 11, 11, 11, 11, 11, 11, 11, 11, 11, 11, 11, 11, 11, 11, 11, 12, 11, 11, 11, 11, 11, 12, 11, 11, 11, 11, 11, 11, 11, 11, 11, 11, 11, 11, 11, 12, 11, 11, 11, 11, 11, 11, 11, 11, 11, 11, 11, 11, 11, 11, 11, 11, 11, 11, 11, 12, 11, 11, 11, 11, 11, 11, 11, 11, 12, 11, 11, 11, 11, 11, 11, 11, 11, 11, 11, 12, 11, 11, 11, 11, 11, 11, 11, 11, 12, 12, 11, 11, 11, 11, 11, 11, 11, 11, 11, 11, 11, 11, 11, 11, 11, 11, 11, 11, 11, 11, 12, 11, 11, 11, 11, 11, 11, 11, 11, 12, 11, 11, 11, 11, 11, 11, 12, 11, 11, 12, 11, 11, 11, 11, 11, 11, 11, 11, 11, 12, 11, 11, 11, 11, 11, 12, 11, 11, 11, 11, 11, 11, 11, 12, 11, 11, 11, 11, 11, 11, 11, 11, 11, 11, 11, 11, 11, 11, 12, 11, 11, 11, 11, 11, 11, 11, 11, 11, 11, 12, 11, 11, 11, 11, 11, 11, 12, 11, 11, 11, 12, 11, 11, 11, 11, 11, 11, 11, 11, 11, 11, 11, 11, 11, 11, 12, 12, 11, 11, 11, 12, 11, 11, 11, 11, 11, 11, 11, 11, 11, 11, 11, 11, 11, 11, 11, 12, 11, 11, 11, 11, 11, 11, 11, 11, 11, 11, 11, 11, 12, 11, 11, 11, 11, 11, 12, 11, 11, 11, 11, 11, 11, 11, 12, 12, 11, 11, 11, 11, 11, 11, 11, 12, 11, 11, 11, 12, 11, 11, 11, 11, 11, 11, 11, 11, 11, 11, 11, 11, 12, 11, 11, 11, 11, 11, 11, 12, 11, 12, 11, 11, 11, 11, 11, 11, 11, 11, 11, 11, 12, 11, 11, 11, 11, 11]}, 'coef_6': {'approach_1': [11, 11, 11, 11, 11, 12, 11, 11, 11, 11, 11, 11, 12, 11, 11, 11, 11, 11, 11, 11, 12, 11, 11, 11, 11, 11, 11, 11, 12, 11, 11, 11, 11, 11, 11, 11, 11, 11, 11, 11, 12, 11, 11, 11, 11, 12, 11, 11, 12, 11, 11, 11, 11, 11, 11, 11, 11, 11, 11, 11, 11, 12, 11, 11, 11, 12, 11, 11, 11, 11, 11, 12, 11, 11, 11, 11, 11, 11, 11, 11, 12, 11, 11, 11, 11, 12, 11, 11, 12, 11, 11, 11, 11, 11, 11, 11, 13, 11, 11, 11, 11, 11, 11, 11, 11, 11, 11, 11, 11, 11, 11, 11, 11, 11, 11, 11, 12, 11, 11, 11, 11, 11, 11, 11, 11, 11, 11, 11, 12, 11, 11, 11, 11, 11, 11, 11, 13, 11, 11, 11, 11, 12, 11, 11, 11, 11, 11, 11, 12, 11, 11, 11, 11, 11, 11, 11, 11, 11, 11, 11, 11, 11, 11, 11, 11, 11, 11, 11, 11, 11, 11, 11, 11, 11, 11, 11, 11, 11, 11, 11, 11, 11, 11, 11, 12, 12, 12, 11, 11, 11, 11, 11, 11, 11, 11, 11, 11, 11, 11, 11, 11, 11, 11, 11, 11, 11, 11, 11, 11, 11, 12, 11, 11, 11, 11, 11, 11, 11, 11, 11, 12, 11, 11, 11, 11, 12, 11, 11, 12, 11, 11, 11, 11, 11, 11, 11, 11, 11, 11, 11, 11, 11, 11, 11, 11, 11, 11, 11, 12, 11, 11, 11, 11, 11, 11, 11, 12, 11, 11, 11, 12, 12, 11, 11, 12, 11, 11, 11, 12, 11, 11, 11, 11, 11, 11, 11, 11, 11, 11, 11, 12, 11, 11, 11, 11, 12, 11, 11, 11, 11, 11, 11, 11, 11, 11, 11, 11, 11, 11, 11, 11, 11, 11, 11, 12, 11, 11, 11, 12, 11, 11, 11, 11, 11, 11, 11, 11, 11, 11, 11, 11, 11, 12, 11, 11, 11, 11, 11, 11, 11, 11, 11, 11, 12, 11, 11, 11, 11, 11, 11, 12, 12, 11, 11, 11, 11, 11, 11, 11, 11, 11, 11, 11, 11, 11, 11, 11, 11, 11, 11, 11, 11, 11, 11, 11, 11, 11, 11, 12, 11, 11, 11, 11, 11, 11, 11, 12, 11, 11, 11, 11, 11, 11, 11, 11, 12, 11, 11, 11, 11, 11, 11, 11, 11, 11, 11, 13, 11, 11, 11], 'approach_2': [11, 11, 11, 11, 11, 12, 11, 11, 11, 11, 11, 11, 11, 11, 11, 11, 11, 11, 11, 11, 11, 11, 11, 11, 11, 11, 11, 11, 11, 11, 11, 11, 11, 11, 11, 11, 11, 11, 11, 11, 12, 11, 11, 11, 11, 12, 11, 11, 11, 11, 11, 11, 11, 11, 11, 11, 11, 11, 11, 11, 11, 11, 11, 11, 11, 11, 11, 11, 11, 11, 11, 11, 11, 11, 11, 11, 11, 11, 11, 11, 11, 11, 11, 11, 11, 12, 11, 11, 11, 11, 11, 11, 11, 11, 11, 11, 11, 11, 11, 11, 11, 11, 11, 11, 11, 11, 11, 11, 11, 11, 11, 11, 11, 11, 11, 11, 11, 11, 11, 11, 11, 11, 11, 11, 11, 11, 11, 11, 11, 11, 11, 11, 11, 11, 11, 11, 11, 11, 11, 11, 11, 11, 11, 11, 11, 11, 11, 11, 11, 11, 11, 11, 11, 11, 11, 11, 11, 11, 11, 11, 11, 11, 11, 11, 11, 12, 11, 11, 11, 11, 11, 11, 11, 11, 11, 11, 11, 11, 11, 11, 11, 11, 11, 11, 11, 11, 11, 11, 11, 11, 11, 11, 12, 11, 11, 11, 11, 11, 11, 11, 11, 11, 11, 11, 11, 11, 11, 11, 12, 11, 11, 11, 11, 11, 11, 11, 11, 11, 11, 11, 11, 11, 11, 11, 11, 12, 11, 11, 11, 11, 11, 12, 11, 11, 11, 11, 11, 11, 11, 11, 11, 11, 11, 11, 11, 11, 11, 11, 11, 11, 11, 11, 11, 11, 11, 11, 11, 11, 11, 11, 12, 11, 11, 11, 11, 11, 11, 11, 11, 11, 11, 11, 11, 11, 11, 11, 11, 11, 11, 11, 11, 11, 11, 11, 11, 11, 11, 11, 11, 11, 11, 11, 11, 11, 11, 11, 11, 11, 11, 11, 11, 11, 11, 11, 11, 11, 11, 11, 11, 11, 11, 11, 11, 11, 11, 11, 11, 11, 11, 11, 11, 11, 11, 11, 11, 11, 11, 11, 11, 11, 11, 11, 11, 11, 11, 11, 11, 11, 11, 11, 11, 11, 11, 11, 11, 11, 11, 11, 12, 11, 11, 12, 11, 11, 11, 11, 12, 11, 11, 11, 11, 12, 11, 11, 11, 11, 11, 11, 11, 11, 11, 11, 11, 11, 11, 11, 11, 11, 11, 11, 11, 11, 11, 11, 11, 11, 11, 11, 11, 11, 11, 11, 11, 11, 11, 11, 11, 11, 11, 11]}}, 'problem_2': {'coef_3': {'approach_1': [21, 20, 18, 19, 18, 18, 20, 17, 20, 19, 20, 18, 17, 16, 19, 19, 18, 19, 16, 20, 20, 20, 18, 17, 16, 18, 18, 17, 20, 18, 17, 18, 17, 16, 19, 19, 18, 18, 16, 20, 17, 20, 18, 19, 18, 18, 19, 17, 20, 21, 20, 18, 19, 16, 19, 19, 18, 18, 16, 20, 17, 20, 18, 17, 16, 18, 18, 17, 20, 19, 17, 18, 19, 16, 19, 19, 18, 18, 16, 21, 20, 18, 21, 19, 16, 18, 18, 17, 21, 19, 17, 18, 17, 16, 19, 19, 18, 18, 17, 20, 17, 20, 18, 17, 16, 18, 19, 17, 20, 21, 20, 18, 19, 16, 19, 19, 18, 16, 16, 20, 21, 20, 21, 19, 16, 18, 18, 17, 20, 17, 17, 17, 17, 16, 19, 19, 18, 18, 16, 20, 21, 17, 17, 18, 16, 18, 19, 17, 20, 18, 20, 18, 17, 16, 19, 19, 18, 18, 16, 20, 21, 13, 17, 19, 16, 18, 19, 17, 20, 19, 20, 18, 17, 16, 19, 19, 18, 18, 16, 20, 17, 13, 21, 19, 16, 18, 18, 17, 20, 19, 17, 18, 17, 16, 19, 19, 18, 18, 17, 20, 17, 18, 17, 18, 16, 18, 18, 17, 20, 18, 17, 18, 17, 16, 19, 19, 19, 16, 16, 20, 20, 20, 21, 20, 18, 18, 18, 17, 20, 18, 20, 18, 17, 16, 19, 19, 18, 16, 16, 20, 21, 13, 17, 18, 18, 18, 18, 17, 20, 17, 19, 18, 19, 16, 19, 19, 18, 20, 16, 20, 17, 13, 18, 19, 16, 18, 18, 17, 20, 21, 17, 17, 19, 16, 19, 19, 18, 18, 16, 20, 21, 20, 18, 17, 16, 18, 18, 17, 20, 19, 20, 18, 17, 16, 19, 21, 18, 19, 16, 20, 21, 13, 21, 18, 16, 18, 20, 17, 20, 17, 17, 18, 17, 16, 19, 19, 18, 18, 16, 20, 20, 20, 20, 17, 16, 18, 18, 17, 20, 19, 17, 18, 17, 16, 19, 19, 18, 20, 16, 20, 17, 13, 18, 18, 16, 18, 19, 17, 20, 17, 20, 18, 17, 16, 19, 19, 18, 16, 16, 20, 21, 20, 17, 19, 16, 18, 18, 17, 21, 19, 20, 18, 19, 16, 20, 19, 18, 20, 16, 20, 20, 20, 21, 20, 16, 18, 18, 17, 20, 17, 20, 18, 17, 16, 19, 21, 18, 19, 17, 20], 'approach_2': [17, 19, 18, 19, 16, 18, 18, 17, 20, 20, 17, 19, 19, 16, 18, 15, 18, 16, 16, 20, 17, 16, 19, 18, 16, 18, 20, 17, 19, 18, 17, 16, 17, 16, 18, 19, 18, 18, 16, 20, 17, 16, 18, 18, 18, 18, 18, 17, 19, 21, 17, 16, 17, 16, 18, 20, 18, 18, 16, 18, 17, 16, 19, 20, 16, 18, 20, 17, 19, 19, 19, 19, 17, 16, 18, 15, 18, 18, 16, 18, 20, 16, 17, 18, 16, 18, 18, 17, 19, 21, 17, 18, 19, 16, 18, 15, 16, 16, 16, 16, 17, 16, 21, 20, 16, 18, 18, 17, 19, 21, 17, 18, 17, 16, 18, 20, 16, 18, 17, 18, 18, 16, 19, 17, 18, 18, 18, 17, 19, 19, 17, 18, 17, 16, 18, 19, 18, 16, 16, 16, 17, 16, 18, 19, 16, 18, 18, 17, 19, 20, 17, 18, 16, 16, 17, 15, 16, 18, 16, 16, 17, 16, 19, 18, 16, 18, 18, 17, 19, 19, 17, 19, 19, 16, 17, 20, 16, 18, 16, 20, 17, 16, 19, 17, 16, 18, 18, 17, 19, 17, 17, 18, 17, 16, 18, 20, 16, 18, 16, 16, 17, 16, 19, 17, 16, 18, 18, 17, 17, 21, 17, 19, 17, 16, 17, 15, 16, 18, 16, 16, 17, 16, 19, 17, 16, 18, 18, 17, 20, 18, 17, 18, 17, 16, 17, 15, 16, 16, 16, 20, 17, 16, 18, 19, 16, 18, 18, 17, 19, 21, 18, 16, 17, 16, 16, 19, 16, 18, 16, 16, 19, 13, 18, 20, 18, 17, 18, 17, 19, 21, 17, 19, 18, 16, 18, 19, 16, 18, 16, 18, 17, 16, 17, 16, 16, 18, 20, 17, 19, 21, 17, 18, 17, 16, 18, 19, 19, 18, 18, 16, 18, 16, 14, 18, 18, 18, 18, 17, 19, 19, 17, 19, 17, 16, 17, 15, 19, 18, 17, 20, 17, 16, 18, 19, 16, 18, 18, 17, 19, 20, 17, 18, 16, 16, 18, 19, 16, 18, 16, 18, 17, 16, 19, 19, 16, 18, 18, 17, 20, 17, 17, 16, 17, 16, 18, 19, 16, 18, 17, 16, 17, 16, 18, 20, 16, 18, 20, 17, 19, 19, 18, 19, 17, 16, 18, 20, 16, 18, 16, 16, 17, 16, 19, 20, 16, 18, 20, 17, 19, 19, 17, 19, 17, 16, 18, 20, 16, 16, 16, 16]}, 'coef_5': {'approach_1': [21, 18, 17, 18, 15, 18, 19, 16, 18, 19, 19, 19, 20, 17, 18, 19, 20, 18, 20, 17, 20, 18, 18, 16, 17, 18, 19, 16, 18, 18, 19, 19, 20, 17, 19, 19, 19, 19, 13, 17, 20, 18, 17, 19, 15, 18, 19, 16, 17, 20, 18, 19, 18, 18, 19, 19, 20, 19, 20, 17, 17, 18, 18, 16, 16, 17, 19, 16, 17, 18, 17, 20, 20, 18, 18, 20, 18, 19, 13, 20, 16, 18, 17, 18, 16, 14, 19, 16, 18, 20, 18, 20, 16, 17, 19, 19, 19, 16, 16, 18, 18, 18, 17, 16, 16, 17, 20, 16, 18, 17, 17, 20, 20, 19, 18, 19, 20, 18, 20, 19, 18, 18, 17, 16, 15, 21, 17, 16, 18, 20, 18, 20, 16, 17, 19, 18, 19, 16, 20, 19, 17, 18, 18, 17, 18, 18, 21, 16, 18, 19, 18, 20, 18, 20, 18, 21, 20, 16, 20, 19, 20, 18, 18, 16, 15, 17, 17, 16, 19, 18, 19, 20, 18, 18, 18, 20, 20, 16, 13, 20, 16, 18, 17, 16, 16, 18, 22, 16, 18, 18, 18, 20, 18, 19, 19, 19, 19, 16, 16, 18, 18, 18, 17, 18, 16, 18, 19, 16, 18, 20, 18, 20, 16, 21, 18, 19, 19, 18, 20, 20, 19, 18, 17, 16, 20, 18, 19, 16, 18, 16, 17, 20, 16, 21, 18, 19, 19, 16, 16, 20, 18, 18, 17, 16, 19, 18, 19, 16, 18, 21, 17, 20, 20, 21, 18, 19, 20, 19, 16, 20, 18, 18, 17, 18, 15, 18, 19, 16, 18, 19, 18, 20, 20, 20, 18, 17, 20, 19, 13, 17, 18, 18, 17, 16, 19, 18, 19, 16, 20, 20, 17, 20, 20, 18, 19, 19, 20, 19, 13, 19, 16, 18, 20, 16, 17, 18, 19, 16, 18, 18, 18, 20, 20, 18, 18, 20, 19, 16, 16, 18, 16, 18, 17, 16, 15, 18, 17, 16, 18, 18, 18, 19, 18, 19, 19, 20, 20, 18, 20, 19, 18, 18, 19, 16, 17, 21, 21, 16, 18, 19, 18, 20, 16, 20, 18, 20, 20, 19, 20, 17, 16, 18, 17, 16, 17, 18, 20, 16, 18, 18, 17, 21, 20, 20, 18, 20, 20, 18, 16, 20, 16, 18, 17, 18, 19, 18, 19, 16, 18, 20, 17, 20, 17, 18, 19, 19, 19, 16, 13, 20], 'approach_2': [16, 18, 18, 16, 19, 17, 19, 16, 18, 18, 18, 17, 19, 19, 17, 17, 20, 18, 19, 18, 18, 18, 16, 19, 16, 18, 17, 16, 18, 18, 17, 15, 19, 18, 18, 17, 18, 18, 19, 18, 15, 18, 17, 20, 16, 18, 17, 16, 20, 18, 18, 16, 15, 17, 15, 17, 18, 18, 13, 17, 18, 18, 16, 19, 16, 17, 18, 16, 18, 18, 20, 15, 19, 18, 15, 17, 22, 19, 13, 19, 16, 18, 17, 16, 15, 18, 17, 16, 18, 19, 17, 16, 17, 17, 17, 18, 18, 19, 16, 17, 16, 18, 16, 17, 17, 18, 14, 16, 18, 19, 17, 16, 16, 17, 15, 18, 19, 18, 16, 17, 17, 18, 17, 17, 15, 18, 20, 16, 18, 17, 18, 16, 16, 18, 18, 19, 18, 18, 13, 17, 16, 18, 17, 19, 15, 18, 17, 16, 20, 16, 17, 15, 16, 18, 19, 19, 18, 19, 20, 17, 18, 18, 17, 16, 17, 17, 19, 16, 18, 19, 17, 16, 19, 18, 18, 20, 19, 18, 20, 19, 16, 18, 16, 16, 20, 18, 19, 16, 18, 18, 17, 18, 16, 17, 15, 19, 19, 16, 19, 17, 17, 18, 17, 19, 15, 18, 18, 16, 18, 18, 20, 20, 16, 17, 17, 17, 18, 18, 16, 19, 16, 18, 19, 16, 20, 17, 14, 16, 18, 18, 17, 16, 19, 17, 17, 17, 18, 16, 18, 17, 17, 18, 19, 17, 19, 18, 18, 16, 18, 18, 18, 15, 19, 18, 17, 19, 18, 16, 13, 17, 17, 18, 16, 17, 16, 19, 14, 16, 17, 20, 18, 16, 17, 20, 17, 18, 20, 16, 20, 18, 18, 18, 19, 16, 16, 18, 20, 16, 20, 18, 17, 15, 15, 18, 19, 20, 19, 18, 20, 17, 15, 18, 16, 19, 20, 18, 18, 16, 18, 20, 17, 19, 19, 18, 17, 18, 18, 19, 16, 18, 17, 18, 19, 16, 16, 18, 18, 16, 20, 18, 19, 18, 15, 19, 15, 17, 18, 18, 13, 17, 16, 18, 18, 19, 16, 18, 18, 16, 18, 18, 17, 16, 19, 19, 17, 19, 18, 18, 13, 18, 18, 18, 17, 16, 15, 17, 14, 16, 18, 19, 18, 15, 16, 17, 17, 17, 18, 16, 16, 17, 15, 18, 17, 17, 16, 18, 18, 16, 20, 19, 17, 16, 15, 18, 19, 17, 18, 18, 18, 18]}, 'coef_6': {'approach_1': [18, 19, 20, 18, 19, 18, 19, 18, 19, 16, 21, 17, 19, 19, 19, 19, 19, 17, 20, 17, 18, 15, 17, 16, 21, 18, 18, 18, 20, 17, 19, 19, 18, 19, 19, 19, 19, 17, 17, 18, 18, 17, 20, 19, 21, 18, 19, 18, 19, 19, 20, 17, 18, 18, 18, 21, 19, 15, 18, 18, 18, 18, 20, 19, 19, 18, 19, 18, 16, 17, 21, 20, 16, 19, 20, 19, 19, 17, 19, 18, 18, 18, 20, 19, 19, 18, 19, 18, 19, 17, 15, 17, 18, 21, 19, 18, 19, 17, 19, 19, 18, 18, 17, 20, 17, 18, 16, 20, 20, 17, 21, 17, 18, 17, 18, 21, 19, 17, 19, 18, 18, 19, 17, 18, 17, 18, 19, 18, 18, 19, 21, 17, 18, 19, 19, 19, 19, 17, 18, 17, 18, 17, 20, 18, 21, 18, 15, 18, 16, 17, 21, 17, 18, 19, 16, 21, 19, 17, 19, 18, 18, 15, 20, 18, 19, 18, 19, 18, 18, 18, 22, 19, 18, 19, 16, 19, 19, 17, 18, 18, 18, 17, 20, 18, 17, 18, 18, 18, 18, 16, 19, 18, 16, 19, 19, 19, 19, 17, 18, 18, 18, 18, 20, 16, 19, 18, 19, 18, 20, 17, 20, 17, 18, 19, 16, 18, 19, 17, 18, 18, 17, 19, 20, 19, 21, 18, 19, 18, 17, 16, 19, 17, 18, 20, 19, 19, 19, 17, 18, 18, 18, 18, 20, 19, 17, 18, 19, 18, 20, 17, 21, 18, 18, 19, 17, 18, 20, 17, 20, 17, 18, 15, 17, 19, 17, 18, 20, 18, 18, 17, 20, 18, 18, 19, 18, 18, 19, 17, 17, 19, 18, 15, 20, 18, 18, 18, 19, 18, 19, 18, 15, 17, 16, 18, 19, 19, 19, 17, 19, 18, 18, 15, 20, 19, 21, 18, 16, 18, 19, 18, 20, 17, 18, 17, 19, 20, 19, 17, 19, 18, 18, 20, 20, 16, 17, 18, 19, 18, 20, 18, 19, 17, 18, 17, 17, 19, 19, 17, 18, 18, 17, 18, 20, 18, 19, 18, 19, 18, 17, 17, 15, 17, 19, 19, 18, 19, 20, 17, 18, 18, 18, 17, 17, 18, 21, 18, 17, 17, 20, 16, 19, 17, 16, 19, 16, 19, 19, 17, 18, 18, 18, 20, 17, 19, 21, 18, 16, 17, 20, 16, 21, 17, 19, 19, 19, 20, 19, 17, 18, 19], 'approach_2': [18, 17, 20, 16, 16, 18, 19, 19, 18, 16, 18, 19, 17, 14, 18, 18, 20, 17, 18, 15, 18, 17, 20, 18, 16, 18, 17, 17, 18, 16, 18, 17, 16, 17, 16, 21, 20, 17, 17, 17, 18, 17, 20, 17, 17, 17, 16, 16, 16, 16, 15, 17, 17, 14, 17, 18, 18, 15, 18, 18, 18, 19, 17, 19, 17, 18, 17, 17, 18, 16, 15, 17, 16, 14, 16, 18, 18, 15, 17, 18, 18, 15, 19, 18, 18, 18, 19, 17, 16, 16, 18, 20, 16, 15, 17, 18, 20, 17, 18, 18, 18, 19, 15, 18, 18, 18, 16, 17, 18, 16, 15, 17, 16, 17, 16, 18, 19, 17, 17, 18, 17, 20, 20, 18, 21, 17, 15, 16, 18, 16, 15, 17, 16, 18, 18, 18, 20, 17, 18, 15, 18, 19, 17, 18, 16, 18, 15, 16, 20, 16, 18, 17, 16, 17, 17, 20, 19, 15, 17, 17, 18, 15, 19, 18, 17, 17, 17, 17, 18, 16, 18, 17, 19, 17, 19, 18, 18, 15, 18, 18, 18, 18, 15, 18, 19, 18, 15, 17, 17, 16, 18, 19, 16, 18, 17, 21, 18, 13, 17, 15, 18, 17, 17, 18, 16, 17, 17, 18, 17, 16, 18, 18, 19, 15, 19, 19, 19, 15, 17, 18, 18, 18, 20, 18, 19, 17, 15, 16, 17, 16, 18, 17, 19, 14, 16, 17, 19, 15, 18, 18, 18, 15, 19, 19, 19, 17, 15, 18, 17, 16, 18, 18, 18, 14, 16, 19, 18, 15, 17, 18, 18, 18, 19, 18, 19, 18, 15, 18, 18, 16, 18, 18, 16, 18, 16, 18, 18, 15, 17, 17, 18, 19, 20, 19, 17, 18, 19, 17, 18, 16, 15, 16, 18, 17, 18, 19, 19, 15, 17, 17, 18, 19, 19, 18, 18, 18, 15, 17, 16, 16, 15, 17, 16, 18, 16, 18, 20, 15, 18, 18, 18, 17, 20, 18, 17, 17, 15, 17, 16, 16, 18, 16, 16, 14, 17, 19, 15, 17, 17, 18, 18, 18, 18, 18, 17, 17, 17, 16, 16, 16, 18, 18, 19, 17, 16, 17, 18, 17, 18, 18, 18, 18, 17, 18, 19, 20, 17, 18, 18, 16, 18, 17, 16, 14, 16, 18, 18, 15, 17, 17, 18, 19, 20, 18, 16, 18, 19, 17, 16, 16, 18, 17, 19, 15, 19, 18, 18, 15, 17, 17]}}, 'problem_3': {'coef_3': {'approach_1': [13, 14, 12, 14, 11, 13, 11, 15, 14, 10, 11, 10, 11, 11, 11, 11, 11, 15, 9, 16, 13, 15, 14, 9, 11, 13, 14, 14, 12, 10, 11, 10, 11, 11, 11, 15, 12, 12, 11, 15, 13, 11, 12, 13, 11, 13, 11, 12, 14, 13, 12, 10, 11, 11, 11, 16, 12, 15, 9, 15, 13, 11, 14, 15, 11, 13, 11, 15, 14, 13, 11, 10, 11, 11, 11, 16, 16, 15, 11, 16, 13, 11, 12, 12, 11, 13, 10, 14, 14, 16, 12, 10, 11, 11, 11, 8, 12, 15, 13, 13, 13, 15, 16, 15, 11, 13, 11, 15, 12, 12, 12, 10, 11, 11, 11, 16, 12, 12, 13, 15, 13, 11, 12, 14, 11, 13, 11, 12, 14, 12, 11, 10, 11, 11, 11, 16, 13, 14, 13, 15, 13, 11, 14, 14, 11, 13, 13, 12, 12, 10, 11, 10, 11, 11, 11, 16, 12, 15, 9, 16, 15, 11, 9, 14, 11, 13, 13, 15, 14, 14, 15, 10, 13, 11, 11, 16, 12, 14, 9, 16, 12, 15, 14, 14, 12, 13, 14, 14, 14, 13, 14, 10, 11, 11, 11, 16, 12, 12, 9, 16, 13, 10, 13, 13, 12, 13, 11, 15, 14, 14, 11, 10, 11, 11, 11, 11, 11, 14, 11, 13, 13, 11, 12, 16, 12, 13, 11, 15, 14, 10, 11, 10, 11, 11, 11, 11, 12, 14, 13, 15, 13, 11, 12, 14, 11, 13, 12, 12, 12, 10, 13, 10, 11, 11, 11, 11, 16, 15, 9, 14, 13, 10, 14, 14, 11, 13, 10, 12, 12, 10, 15, 10, 11, 11, 11, 8, 16, 15, 11, 13, 13, 10, 16, 14, 11, 13, 11, 12, 14, 10, 14, 10, 13, 11, 11, 11, 12, 14, 9, 16, 13, 16, 12, 9, 11, 13, 11, 12, 14, 10, 11, 10, 11, 11, 11, 16, 13, 14, 9, 16, 13, 10, 9, 14, 12, 13, 13, 14, 12, 10, 14, 10, 11, 11, 11, 15, 13, 15, 9, 13, 13, 11, 13, 14, 11, 13, 13, 12, 14, 14, 12, 10, 11, 14, 11, 16, 11, 13, 9, 13, 12, 15, 16, 14, 11, 13, 13, 15, 14, 12, 11, 10, 11, 11, 11, 15, 12, 14, 9, 15, 13, 14, 12, 12, 12, 13, 14, 15, 14, 13, 12, 10, 11, 11, 11, 15, 12, 14, 11, 13], 'approach_2': [13, 11, 11, 14, 11, 10, 11, 14, 10, 13, 11, 10, 12, 11, 11, 12, 12, 9, 9, 15, 12, 11, 10, 9, 11, 10, 10, 14, 10, 10, 11, 10, 11, 11, 11, 12, 11, 9, 13, 15, 12, 11, 10, 14, 11, 13, 13, 14, 10, 12, 12, 10, 11, 11, 10, 12, 12, 9, 9, 15, 13, 11, 12, 13, 11, 13, 14, 12, 13, 12, 12, 10, 11, 11, 11, 12, 12, 9, 9, 16, 13, 11, 10, 14, 11, 10, 14, 12, 10, 12, 12, 10, 11, 11, 11, 12, 12, 11, 9, 15, 13, 10, 11, 14, 11, 10, 10, 14, 10, 10, 14, 10, 11, 11, 9, 12, 12, 9, 11, 13, 12, 11, 11, 14, 11, 10, 11, 14, 14, 14, 11, 10, 11, 11, 10, 12, 14, 11, 9, 15, 13, 11, 10, 14, 11, 10, 10, 14, 10, 13, 11, 10, 11, 11, 11, 12, 12, 11, 9, 14, 13, 11, 12, 14, 11, 10, 10, 12, 10, 10, 11, 10, 11, 11, 11, 12, 13, 12, 9, 15, 17, 10, 10, 9, 11, 10, 11, 13, 10, 13, 14, 10, 11, 11, 11, 12, 12, 12, 11, 13, 12, 11, 10, 14, 11, 10, 10, 12, 13, 13, 12, 10, 11, 11, 9, 12, 12, 9, 9, 13, 13, 12, 11, 14, 11, 13, 10, 12, 13, 12, 11, 10, 12, 11, 11, 12, 12, 12, 9, 15, 13, 11, 11, 14, 11, 10, 13, 13, 13, 10, 12, 10, 11, 11, 10, 12, 13, 9, 9, 15, 13, 10, 11, 14, 11, 10, 13, 12, 10, 12, 17, 10, 11, 14, 10, 12, 12, 9, 9, 15, 14, 11, 12, 14, 11, 10, 10, 12, 10, 13, 12, 10, 11, 11, 10, 12, 12, 9, 9, 15, 14, 10, 12, 12, 12, 10, 10, 12, 10, 12, 17, 10, 12, 11, 11, 12, 12, 9, 9, 15, 13, 11, 10, 14, 11, 13, 14, 12, 13, 13, 11, 10, 11, 11, 9, 8, 12, 9, 9, 16, 14, 10, 11, 14, 11, 10, 10, 14, 10, 10, 11, 10, 11, 11, 9, 12, 12, 9, 11, 15, 13, 11, 10, 14, 11, 13, 14, 14, 10, 13, 11, 10, 11, 11, 11, 12, 12, 9, 11, 16, 13, 11, 12, 12, 11, 13, 10, 13, 10, 12, 12, 10, 11, 11, 10, 12, 12, 9, 9, 16]}, 'coef_5': {'approach_1': [10, 12, 11, 15, 11, 14, 13, 10, 10, 11, 10, 13, 15, 14, 9, 15, 9, 12, 12, 14, 14, 13, 11, 11, 11, 13, 14, 10, 10, 12, 10, 13, 12, 14, 9, 13, 9, 10, 12, 13, 12, 12, 10, 11, 11, 14, 13, 10, 10, 12, 10, 13, 9, 14, 9, 12, 11, 11, 15, 15, 14, 12, 10, 14, 11, 15, 14, 10, 10, 12, 10, 13, 9, 14, 13, 12, 11, 10, 15, 14, 14, 13, 11, 13, 11, 14, 13, 10, 10, 12, 10, 13, 13, 14, 13, 15, 12, 13, 12, 14, 15, 12, 11, 11, 11, 14, 13, 10, 10, 14, 10, 13, 8, 14, 10, 15, 9, 12, 12, 13, 14, 14, 11, 12, 11, 13, 13, 10, 10, 12, 10, 13, 15, 14, 9, 13, 9, 10, 12, 15, 12, 12, 10, 13, 11, 10, 10, 10, 10, 12, 10, 13, 12, 14, 10, 15, 13, 11, 13, 14, 12, 12, 11, 13, 11, 12, 13, 10, 10, 12, 10, 13, 8, 14, 9, 15, 12, 14, 15, 14, 10, 13, 11, 13, 11, 13, 14, 10, 10, 12, 10, 13, 8, 14, 13, 15, 9, 12, 15, 14, 12, 13, 12, 13, 11, 11, 10, 10, 10, 11, 10, 13, 12, 14, 9, 12, 12, 11, 13, 14, 14, 16, 11, 13, 11, 10, 14, 10, 10, 12, 10, 13, 8, 14, 13, 15, 12, 10, 14, 16, 15, 12, 11, 14, 11, 10, 13, 10, 10, 12, 10, 13, 12, 14, 9, 12, 9, 12, 15, 13, 12, 14, 11, 13, 11, 11, 13, 10, 10, 12, 10, 13, 14, 14, 10, 12, 9, 11, 12, 14, 12, 15, 11, 15, 11, 14, 14, 10, 10, 11, 10, 13, 12, 14, 10, 12, 12, 12, 14, 15, 14, 16, 11, 13, 11, 11, 14, 10, 10, 11, 10, 13, 12, 14, 13, 15, 9, 17, 14, 15, 14, 12, 11, 13, 11, 14, 14, 10, 10, 11, 10, 13, 9, 14, 9, 12, 15, 14, 14, 13, 14, 14, 11, 11, 11, 11, 13, 10, 10, 12, 10, 13, 8, 14, 10, 15, 14, 11, 12, 15, 12, 14, 11, 12, 11, 14, 13, 10, 10, 12, 10, 13, 12, 14, 9, 13, 9, 11, 16, 17, 12, 13, 11, 13, 11, 15, 14, 10, 10, 12, 10, 13, 12, 12, 13, 12, 12, 11, 12, 15], 'approach_2': [10, 12, 11, 11, 10, 10, 10, 8, 10, 12, 10, 10, 8, 9, 13, 12, 9, 11, 13, 12, 11, 12, 11, 15, 10, 13, 10, 8, 10, 13, 10, 10, 15, 9, 13, 10, 11, 11, 11, 12, 11, 11, 11, 13, 10, 14, 11, 8, 10, 11, 10, 10, 12, 11, 11, 13, 14, 12, 13, 12, 12, 12, 10, 15, 10, 12, 10, 8, 10, 12, 10, 10, 12, 14, 11, 12, 9, 10, 15, 11, 12, 11, 11, 11, 10, 14, 10, 8, 10, 11, 10, 9, 11, 11, 9, 13, 9, 11, 12, 11, 11, 11, 11, 11, 10, 10, 12, 10, 10, 11, 10, 10, 14, 9, 9, 12, 14, 11, 12, 11, 10, 14, 11, 13, 10, 13, 14, 10, 10, 12, 10, 10, 12, 11, 10, 15, 9, 11, 12, 12, 11, 14, 11, 11, 10, 10, 10, 8, 10, 11, 10, 9, 12, 13, 13, 12, 12, 11, 12, 12, 11, 16, 11, 11, 14, 13, 14, 8, 10, 14, 10, 10, 8, 9, 13, 12, 12, 13, 14, 12, 11, 12, 11, 13, 10, 10, 14, 8, 10, 11, 10, 10, 12, 11, 9, 13, 9, 12, 13, 12, 11, 14, 11, 12, 10, 14, 14, 8, 10, 15, 10, 10, 8, 14, 9, 13, 14, 10, 14, 11, 11, 11, 11, 11, 10, 14, 14, 8, 10, 12, 10, 10, 12, 11, 11, 13, 12, 10, 12, 12, 11, 12, 11, 15, 10, 12, 10, 8, 10, 11, 10, 10, 12, 14, 9, 12, 11, 14, 13, 12, 11, 11, 12, 12, 10, 13, 10, 10, 10, 12, 10, 9, 13, 11, 9, 13, 12, 12, 13, 12, 11, 12, 12, 11, 10, 13, 10, 10, 10, 12, 10, 12, 9, 14, 10, 13, 14, 10, 11, 12, 11, 16, 11, 11, 10, 14, 10, 8, 10, 12, 10, 10, 14, 9, 9, 12, 14, 13, 13, 15, 11, 16, 11, 12, 10, 13, 14, 8, 10, 12, 10, 12, 12, 9, 11, 13, 9, 10, 11, 12, 11, 12, 11, 15, 10, 10, 10, 8, 10, 12, 10, 10, 9, 11, 13, 13, 9, 10, 13, 12, 12, 12, 10, 11, 10, 14, 12, 10, 10, 14, 10, 9, 11, 9, 10, 12, 12, 10, 13, 11, 11, 12, 11, 13, 10, 14, 10, 8, 10, 12, 10, 10, 11, 9, 9, 12, 12, 11, 13, 12]}, 'coef_6': {'approach_1': [13, 11, 10, 11, 11, 11, 13, 14, 14, 15, 13, 11, 11, 10, 12, 10, 14, 15, 11, 15, 14, 13, 10, 15, 11, 13, 14, 14, 14, 15, 10, 9, 14, 10, 10, 13, 14, 15, 15, 13, 11, 11, 10, 12, 11, 9, 14, 14, 14, 12, 14, 15, 13, 10, 13, 10, 15, 15, 14, 11, 9, 13, 10, 11, 11, 9, 13, 16, 11, 12, 12, 14, 10, 10, 12, 13, 14, 15, 11, 10, 14, 13, 13, 11, 11, 9, 14, 13, 11, 14, 11, 9, 14, 10, 12, 13, 13, 10, 14, 12, 11, 11, 10, 12, 11, 14, 11, 13, 13, 13, 10, 13, 14, 10, 12, 13, 14, 10, 9, 15, 12, 14, 13, 12, 11, 11, 12, 14, 14, 13, 11, 15, 14, 10, 12, 13, 14, 10, 14, 12, 11, 11, 10, 11, 11, 13, 13, 14, 14, 13, 14, 14, 12, 10, 14, 13, 14, 15, 14, 11, 14, 11, 13, 14, 11, 14, 14, 15, 14, 13, 14, 12, 14, 10, 10, 10, 14, 10, 13, 15, 13, 11, 10, 14, 11, 14, 14, 14, 11, 15, 11, 14, 12, 10, 12, 13, 13, 10, 9, 11, 9, 13, 13, 8, 11, 9, 11, 13, 14, 13, 15, 12, 12, 8, 11, 13, 12, 10, 9, 11, 13, 13, 14, 14, 11, 16, 14, 14, 14, 14, 10, 12, 12, 10, 10, 10, 12, 10, 11, 11, 14, 11, 10, 12, 11, 9, 13, 15, 14, 12, 11, 14, 12, 10, 15, 13, 14, 14, 14, 15, 13, 12, 10, 10, 11, 9, 13, 14, 14, 15, 10, 15, 10, 10, 12, 13, 14, 15, 9, 12, 14, 14, 13, 11, 11, 14, 13, 13, 13, 13, 11, 13, 10, 10, 12, 13, 14, 10, 11, 11, 14, 14, 10, 11, 11, 16, 12, 12, 15, 12, 10, 15, 14, 8, 13, 13, 14, 10, 13, 11, 11, 10, 10, 14, 11, 14, 14, 15, 14, 12, 15, 14, 14, 10, 12, 13, 14, 10, 14, 12, 9, 13, 10, 11, 11, 11, 13, 11, 14, 15, 13, 12, 12, 10, 10, 13, 13, 10, 14, 10, 11, 12, 14, 11, 11, 14, 13, 15, 14, 13, 16, 9, 12, 10, 14, 13, 14, 15, 14, 13, 9, 12, 13, 16, 11, 13, 16, 15, 14, 13, 14, 15, 12, 8, 11, 13, 14, 15, 16, 11], 'approach_2': [13, 10, 11, 12, 11, 12, 13, 11, 11, 13, 12, 14, 10, 10, 12, 13, 13, 14, 9, 12, 10, 11, 11, 8, 11, 10, 10, 12, 9, 15, 13, 14, 12, 10, 12, 13, 12, 13, 9, 12, 10, 13, 12, 12, 11, 9, 12, 14, 11, 9, 10, 14, 11, 10, 13, 13, 12, 10, 11, 13, 12, 14, 10, 11, 11, 9, 10, 15, 11, 13, 12, 15, 10, 10, 12, 13, 13, 11, 9, 11, 10, 12, 10, 8, 11, 15, 13, 12, 11, 13, 14, 9, 14, 10, 12, 10, 12, 8, 11, 12, 13, 11, 10, 12, 11, 11, 13, 14, 11, 13, 12, 13, 9, 10, 11, 13, 10, 13, 12, 12, 14, 13, 11, 12, 11, 9, 13, 11, 9, 13, 13, 11, 10, 10, 12, 10, 12, 8, 12, 13, 10, 13, 14, 12, 11, 11, 13, 12, 11, 12, 12, 14, 14, 10, 10, 13, 12, 12, 9, 12, 11, 12, 11, 8, 11, 10, 11, 14, 9, 13, 12, 10, 14, 10, 12, 11, 14, 13, 14, 12, 10, 10, 10, 12, 11, 9, 13, 14, 11, 15, 12, 14, 12, 10, 12, 10, 14, 13, 11, 13, 13, 10, 13, 11, 11, 12, 13, 14, 11, 13, 10, 14, 9, 10, 11, 13, 12, 10, 10, 13, 10, 16, 11, 8, 11, 11, 13, 12, 9, 13, 13, 14, 14, 10, 12, 10, 13, 11, 11, 12, 10, 15, 12, 8, 11, 10, 11, 14, 11, 13, 10, 13, 12, 10, 12, 13, 10, 13, 10, 11, 9, 10, 10, 12, 11, 11, 11, 14, 9, 13, 12, 13, 14, 8, 12, 10, 12, 11, 9, 13, 11, 14, 11, 12, 11, 9, 13, 11, 9, 14, 12, 12, 10, 10, 10, 11, 10, 10, 10, 11, 9, 14, 10, 12, 11, 9, 11, 12, 9, 13, 11, 11, 12, 10, 10, 13, 13, 10, 12, 13, 12, 11, 11, 12, 11, 13, 13, 14, 9, 13, 12, 14, 9, 10, 12, 10, 13, 11, 14, 12, 10, 10, 10, 8, 11, 10, 13, 13, 11, 13, 11, 15, 9, 10, 11, 13, 12, 11, 10, 13, 10, 12, 10, 12, 11, 12, 12, 11, 12, 13, 12, 11, 9, 10, 12, 11, 10, 11, 12, 12, 11, 13, 10, 12, 9, 10, 13, 11, 11, 12, 11, 14, 9, 10, 14, 10, 13, 13, 9, 13]}}, 'problem_4': {'coef_3': {'approach_1': [26, 24, 25, 25, 23, 24, 19, 25, 23, 24, 24, 24, 21, 25, 22, 24, 23, 22, 23, 25, 26, 23, 24, 25, 19, 28, 19, 27, 25, 24, 24, 22, 24, 25, 22, 23, 23, 26, 23, 25, 25, 22, 25, 22, 23, 24, 25, 25, 25, 23, 25, 24, 20, 25, 22, 24, 23, 24, 23, 25, 26, 24, 25, 24, 24, 25, 23, 25, 23, 22, 25, 25, 26, 25, 25, 23, 23, 24, 21, 25, 21, 24, 25, 22, 23, 24, 25, 25, 24, 28, 27, 26, 21, 25, 23, 23, 23, 24, 24, 25, 26, 23, 22, 22, 23, 24, 23, 25, 23, 28, 25, 24, 20, 25, 25, 23, 23, 22, 23, 25, 26, 23, 22, 25, 23, 24, 25, 25, 24, 28, 25, 24, 24, 25, 25, 23, 23, 24, 23, 25, 25, 24, 22, 25, 23, 25, 26, 26, 25, 24, 27, 26, 21, 25, 22, 23, 23, 25, 23, 25, 21, 24, 22, 25, 19, 24, 23, 26, 24, 22, 24, 22, 20, 25, 25, 24, 23, 23, 23, 25, 25, 23, 25, 25, 22, 24, 23, 26, 25, 22, 24, 24, 24, 25, 22, 24, 23, 25, 23, 25, 26, 24, 24, 24, 19, 24, 26, 25, 24, 22, 22, 24, 20, 25, 22, 25, 23, 23, 23, 25, 26, 24, 26, 25, 22, 22, 25, 25, 24, 22, 27, 22, 25, 25, 23, 23, 23, 25, 25, 25, 26, 24, 25, 22, 24, 25, 24, 25, 25, 28, 27, 24, 23, 25, 23, 23, 23, 24, 23, 25, 26, 24, 26, 24, 23, 24, 19, 25, 24, 22, 25, 22, 24, 25, 22, 23, 23, 24, 24, 25, 25, 23, 22, 25, 19, 22, 23, 25, 23, 28, 24, 22, 21, 25, 25, 24, 23, 23, 23, 25, 26, 24, 25, 25, 19, 24, 25, 25, 25, 22, 27, 24, 24, 25, 22, 23, 23, 22, 23, 25, 26, 24, 22, 25, 19, 24, 23, 25, 24, 22, 24, 24, 25, 25, 23, 23, 23, 24, 21, 25, 26, 24, 26, 21, 22, 22, 19, 25, 23, 25, 24, 24, 21, 25, 22, 24, 23, 26, 25, 25, 21, 23, 26, 24, 23, 24, 25, 25, 25, 24, 24, 24, 20, 25, 25, 24, 23, 22, 21, 25, 21, 24, 22, 25, 23, 26, 24, 25, 24, 23, 27, 26, 23, 25, 23, 23, 23, 23, 23, 25], 'approach_2': [24, 23, 20, 22, 19, 23, 24, 23, 21, 22, 23, 22, 25, 25, 22, 21, 21, 22, 21, 25, 24, 23, 22, 22, 23, 23, 23, 23, 25, 24, 22, 23, 24, 25, 22, 21, 21, 22, 21, 25, 22, 24, 24, 21, 19, 23, 23, 23, 23, 22, 23, 22, 21, 25, 22, 21, 21, 25, 21, 22, 22, 24, 22, 23, 23, 26, 19, 24, 21, 22, 22, 23, 20, 25, 23, 21, 23, 23, 24, 25, 21, 24, 22, 22, 23, 23, 19, 23, 24, 22, 25, 23, 20, 24, 23, 21, 21, 24, 21, 25, 25, 22, 20, 21, 22, 25, 23, 24, 21, 22, 23, 24, 21, 25, 23, 21, 21, 24, 21, 25, 26, 23, 22, 23, 22, 23, 23, 23, 23, 22, 25, 24, 20, 24, 25, 21, 22, 24, 21, 25, 22, 24, 20, 21, 22, 23, 23, 23, 23, 22, 25, 24, 20, 24, 22, 21, 23, 22, 21, 25, 26, 23, 23, 23, 19, 23, 23, 24, 21, 22, 24, 25, 20, 24, 23, 21, 22, 22, 21, 25, 24, 22, 23, 25, 22, 24, 23, 23, 24, 24, 23, 23, 24, 24, 22, 21, 22, 24, 21, 25, 19, 22, 20, 22, 19, 24, 24, 23, 21, 22, 22, 22, 20, 24, 22, 21, 21, 25, 21, 25, 21, 22, 20, 23, 22, 24, 19, 23, 23, 22, 25, 24, 21, 21, 22, 21, 21, 22, 21, 25, 22, 22, 22, 22, 23, 24, 23, 23, 24, 22, 25, 23, 23, 24, 23, 24, 23, 26, 21, 25, 22, 22, 20, 24, 19, 23, 24, 22, 24, 22, 22, 24, 21, 25, 22, 21, 23, 24, 21, 25, 22, 23, 22, 23, 23, 23, 24, 25, 23, 22, 25, 24, 20, 24, 22, 21, 21, 24, 21, 25, 21, 24, 22, 22, 23, 25, 19, 23, 23, 22, 25, 23, 24, 25, 22, 21, 21, 23, 22, 25, 24, 24, 20, 23, 23, 23, 24, 23, 21, 22, 22, 22, 20, 25, 22, 21, 23, 24, 21, 25, 22, 22, 22, 22, 23, 24, 23, 24, 21, 22, 22, 22, 21, 24, 22, 21, 22, 22, 21, 25, 26, 24, 20, 25, 22, 24, 23, 23, 24, 24, 25, 23, 20, 25, 22, 21, 21, 22, 21, 25, 22, 23, 25, 23, 23, 26, 24, 23, 21, 22, 25, 23, 24, 25, 22, 21, 21, 24, 21, 25]}, 'coef_5': {'approach_1': [24, 22, 22, 24, 22, 24, 21, 23, 24, 25, 25, 22, 27, 21, 19, 22, 25, 24, 24, 21, 24, 22, 22, 24, 22, 24, 21, 21, 22, 22, 27, 22, 23, 21, 19, 25, 24, 25, 25, 24, 24, 22, 24, 24, 22, 24, 21, 21, 24, 22, 24, 23, 26, 21, 19, 22, 24, 27, 23, 23, 24, 23, 24, 21, 20, 24, 25, 25, 24, 22, 25, 23, 23, 21, 23, 22, 22, 23, 24, 24, 24, 22, 20, 24, 22, 24, 23, 26, 24, 22, 25, 23, 25, 21, 19, 25, 22, 23, 25, 23, 24, 24, 24, 24, 22, 24, 23, 25, 23, 22, 25, 23, 25, 21, 23, 21, 22, 23, 25, 23, 24, 22, 22, 24, 23, 24, 21, 21, 24, 25, 24, 23, 27, 21, 23, 21, 22, 24, 23, 23, 24, 21, 22, 24, 22, 23, 24, 23, 20, 25, 24, 23, 27, 21, 19, 23, 25, 23, 26, 23, 24, 24, 24, 24, 23, 24, 24, 25, 24, 25, 25, 23, 26, 21, 19, 25, 25, 23, 24, 21, 24, 23, 22, 24, 20, 24, 21, 21, 22, 25, 25, 23, 26, 21, 23, 25, 22, 24, 24, 25, 24, 22, 24, 24, 20, 24, 21, 21, 22, 23, 24, 23, 27, 21, 23, 23, 24, 24, 25, 23, 24, 28, 22, 24, 22, 24, 21, 21, 22, 25, 25, 23, 26, 21, 23, 22, 22, 23, 24, 23, 24, 22, 24, 24, 22, 24, 21, 21, 22, 25, 25, 22, 27, 21, 19, 24, 25, 23, 25, 21, 24, 22, 22, 24, 20, 24, 25, 21, 22, 22, 24, 23, 25, 21, 23, 23, 23, 23, 23, 24, 24, 22, 24, 24, 20, 24, 21, 25, 24, 22, 26, 23, 23, 21, 19, 21, 22, 24, 24, 21, 24, 24, 24, 21, 22, 24, 21, 25, 24, 22, 28, 23, 27, 21, 23, 21, 26, 24, 25, 21, 24, 25, 24, 24, 22, 24, 21, 24, 22, 25, 25, 23, 26, 21, 23, 24, 22, 23, 24, 25, 24, 25, 24, 21, 20, 24, 21, 21, 24, 25, 24, 22, 23, 21, 19, 24, 22, 25, 25, 21, 24, 24, 22, 24, 20, 24, 21, 23, 22, 22, 25, 22, 27, 21, 23, 24, 22, 23, 24, 23, 24, 22, 22, 24, 22, 23, 21, 21, 22, 22, 27, 22, 25, 21, 23, 21, 22, 25, 25, 23], 'approach_2': [20, 21, 22, 24, 22, 21, 21, 23, 20, 22, 21, 23, 21, 21, 20, 23, 21, 23, 23, 23, 23, 22, 23, 24, 20, 21, 21, 22, 20, 22, 24, 23, 22, 21, 20, 22, 21, 22, 25, 23, 23, 22, 21, 24, 23, 21, 21, 21, 20, 27, 24, 23, 22, 21, 20, 19, 24, 24, 23, 23, 21, 22, 19, 24, 22, 22, 21, 22, 20, 23, 24, 23, 22, 21, 22, 21, 22, 23, 24, 23, 20, 21, 21, 24, 20, 23, 21, 23, 20, 23, 24, 23, 21, 21, 20, 22, 24, 24, 24, 22, 23, 22, 22, 24, 20, 21, 22, 22, 20, 25, 21, 23, 21, 21, 23, 21, 22, 23, 23, 23, 21, 21, 22, 24, 22, 21, 21, 21, 20, 22, 24, 22, 25, 21, 22, 22, 24, 23, 24, 21, 22, 21, 21, 24, 20, 21, 21, 21, 20, 26, 21, 23, 25, 21, 20, 24, 22, 23, 23, 23, 22, 21, 22, 24, 22, 21, 24, 23, 20, 22, 25, 23, 22, 21, 20, 22, 24, 23, 24, 23, 23, 22, 21, 24, 22, 21, 21, 22, 20, 25, 24, 23, 22, 21, 22, 22, 22, 23, 24, 22, 22, 22, 22, 24, 20, 21, 21, 23, 20, 23, 21, 22, 22, 21, 20, 22, 25, 23, 24, 23, 22, 21, 22, 24, 20, 22, 21, 21, 20, 26, 23, 22, 22, 21, 20, 21, 22, 22, 23, 22, 22, 24, 21, 24, 20, 22, 21, 22, 20, 22, 25, 22, 23, 21, 23, 23, 22, 23, 24, 21, 22, 22, 19, 24, 20, 24, 21, 23, 20, 22, 25, 23, 21, 21, 22, 22, 22, 22, 24, 23, 22, 21, 23, 24, 22, 24, 24, 23, 20, 22, 21, 23, 22, 21, 19, 22, 21, 23, 24, 23, 22, 22, 22, 24, 22, 21, 21, 22, 20, 22, 21, 23, 21, 21, 22, 23, 20, 23, 25, 22, 21, 21, 22, 24, 23, 23, 21, 21, 20, 23, 24, 23, 21, 21, 19, 21, 21, 23, 23, 23, 20, 22, 22, 24, 22, 21, 21, 22, 20, 22, 24, 23, 22, 21, 20, 21, 24, 24, 23, 23, 22, 21, 22, 24, 22, 22, 21, 21, 20, 22, 21, 22, 21, 21, 23, 21, 22, 23, 24, 22, 22, 22, 19, 24, 20, 21, 21, 21, 20, 25, 23, 22, 21, 21, 23, 25, 20, 23, 25, 20]}, 'coef_6': {'approach_1': [22, 24, 21, 21, 21, 21, 22, 22, 24, 21, 25, 21, 20, 19, 25, 22, 25, 25, 22, 20, 22, 24, 21, 21, 21, 25, 25, 21, 21, 21, 24, 23, 25, 22, 25, 22, 25, 25, 23, 24, 22, 25, 21, 21, 21, 23, 21, 23, 24, 21, 23, 21, 23, 24, 25, 22, 22, 25, 24, 21, 22, 24, 21, 21, 21, 25, 25, 22, 21, 21, 24, 23, 25, 23, 23, 22, 21, 25, 21, 23, 22, 23, 21, 21, 21, 25, 22, 21, 23, 21, 24, 21, 26, 19, 21, 22, 25, 25, 23, 23, 22, 25, 21, 21, 21, 25, 21, 23, 25, 21, 23, 21, 26, 22, 21, 22, 25, 25, 21, 21, 22, 24, 21, 21, 21, 21, 25, 23, 24, 21, 23, 23, 24, 23, 25, 22, 25, 28, 24, 23, 22, 23, 19, 21, 21, 25, 21, 21, 23, 21, 23, 23, 25, 22, 21, 22, 25, 25, 22, 25, 22, 23, 21, 21, 21, 25, 24, 21, 21, 21, 24, 21, 23, 25, 21, 22, 23, 25, 22, 21, 22, 25, 21, 21, 21, 25, 22, 23, 21, 21, 24, 21, 24, 25, 25, 22, 25, 22, 22, 21, 22, 23, 21, 21, 21, 21, 22, 22, 21, 21, 23, 21, 26, 19, 25, 22, 23, 25, 22, 23, 22, 23, 21, 21, 21, 25, 22, 23, 23, 21, 23, 21, 23, 25, 25, 22, 23, 24, 21, 23, 22, 23, 21, 21, 21, 25, 25, 23, 23, 21, 23, 23, 23, 19, 21, 22, 23, 25, 21, 20, 22, 25, 21, 21, 21, 25, 22, 23, 23, 21, 24, 21, 20, 23, 24, 22, 23, 25, 21, 20, 22, 24, 21, 21, 21, 21, 25, 21, 25, 21, 21, 21, 20, 23, 25, 22, 25, 22, 21, 20, 22, 25, 21, 21, 21, 25, 22, 24, 25, 21, 23, 21, 24, 25, 23, 22, 22, 25, 22, 25, 22, 23, 19, 21, 21, 23, 22, 23, 24, 21, 25, 26, 20, 23, 27, 22, 23, 22, 22, 23, 22, 23, 19, 21, 21, 21, 22, 21, 25, 21, 25, 24, 25, 26, 23, 22, 23, 22, 24, 25, 22, 23, 21, 21, 21, 21, 24, 21, 21, 21, 24, 23, 23, 19, 23, 22, 25, 24, 22, 20, 22, 25, 21, 21, 21, 25, 22, 23, 22, 21, 23, 21, 23, 23, 23, 22, 21, 23, 21, 21], 'approach_2': [22, 24, 21, 21, 21, 25, 22, 23, 22, 21, 22, 23, 24, 22, 19, 21, 22, 22, 24, 24, 21, 25, 21, 21, 21, 22, 22, 22, 23, 21, 17, 22, 24, 19, 19, 22, 24, 21, 24, 23, 21, 23, 21, 21, 21, 25, 22, 23, 21, 20, 17, 24, 20, 24, 19, 22, 24, 22, 22, 22, 22, 23, 21, 21, 21, 21, 22, 23, 22, 21, 24, 23, 26, 21, 23, 22, 24, 21, 22, 21, 22, 23, 21, 21, 21, 21, 22, 23, 22, 21, 23, 20, 20, 21, 24, 20, 22, 21, 22, 22, 22, 25, 21, 21, 21, 25, 22, 23, 23, 21, 22, 25, 23, 22, 19, 22, 18, 21, 22, 21, 22, 23, 21, 21, 21, 25, 22, 23, 20, 21, 24, 21, 23, 22, 22, 22, 18, 21, 24, 22, 22, 23, 21, 21, 21, 21, 23, 21, 22, 21, 22, 23, 24, 22, 22, 22, 23, 25, 22, 20, 22, 23, 21, 21, 21, 23, 22, 21, 24, 21, 22, 21, 23, 19, 19, 22, 24, 21, 24, 23, 21, 25, 21, 21, 21, 25, 22, 23, 24, 21, 22, 21, 23, 24, 19, 20, 21, 22, 22, 20, 22, 25, 21, 21, 21, 25, 22, 21, 25, 21, 24, 21, 23, 23, 19, 22, 22, 21, 24, 20, 22, 25, 21, 21, 21, 25, 22, 23, 22, 21, 23, 22, 23, 21, 19, 22, 18, 22, 22, 20, 22, 25, 21, 21, 21, 21, 25, 23, 23, 21, 24, 20, 23, 22, 22, 20, 22, 22, 22, 23, 22, 25, 21, 21, 21, 23, 22, 23, 21, 21, 23, 23, 24, 22, 19, 22, 22, 22, 24, 23, 22, 24, 21, 21, 21, 25, 21, 23, 25, 21, 23, 21, 26, 19, 22, 22, 22, 22, 24, 20, 22, 23, 21, 21, 21, 24, 22, 23, 24, 21, 23, 21, 23, 23, 21, 22, 22, 23, 22, 23, 22, 23, 21, 21, 21, 21, 22, 23, 22, 21, 21, 23, 24, 22, 23, 22, 21, 18, 24, 20, 22, 23, 21, 21, 21, 24, 22, 21, 21, 21, 22, 21, 20, 19, 23, 21, 22, 22, 22, 25, 22, 25, 21, 21, 21, 25, 22, 21, 22, 20, 24, 20, 25, 22, 19, 22, 18, 25, 24, 20, 22, 23, 21, 21, 21, 21, 22, 23, 22, 21, 23, 21, 23, 19, 22, 22, 22, 22, 22, 21]}}}\n"
          ]
        }
      ]
    },
    {
      "cell_type": "code",
      "metadata": {
        "id": "T719RIdaeYIv"
      },
      "source": [
        "fitness = np.load(fitness_path, allow_pickle=True)[()]\n",
        "fitness_2 = np.load(\"fitness_2.npy\", allow_pickle=True)[()]"
      ],
      "execution_count": null,
      "outputs": []
    },
    {
      "cell_type": "markdown",
      "metadata": {
        "id": "rjKxTLm8IHl7"
      },
      "source": [
        "#Plot no formato antigo"
      ]
    },
    {
      "cell_type": "markdown",
      "metadata": {
        "id": "qPnADjcpISLJ"
      },
      "source": [
        "##Parametros"
      ]
    },
    {
      "cell_type": "code",
      "metadata": {
        "id": "IhKB91E7IBMn"
      },
      "source": [
        "limits_p1             = np.arange(9,15)\n",
        "limits_p2             = np.arange(10,23)\n",
        "limits_p3             = np.arange(6,19)\n",
        "limits_p4             = np.arange(15,29)\n",
        "limits                = [limits_p1, limits_p2, limits_p3, limits_p4]\n",
        "figsize               = (18,4)\n",
        "label_back            = \"PSO Base\"\n",
        "label_front           = \"Inércia Dinâmica\"\n",
        "largura_bar_back      = 1.0\n",
        "largura_bar_front     = 0.5\n",
        "edgecolor_front       = \"black\"\n",
        "color_back            = \"red\"\n",
        "color_front           = \"blue\"\n",
        "alpha_back            = 1\n",
        "alpha_front           = 0.7\n",
        "\n",
        "\n",
        "#plot_fitness_analise()\n",
        "#plot_fitness_analise_problema1()\n",
        "#plot_fitness_analise_by_num(4)"
      ],
      "execution_count": null,
      "outputs": []
    },
    {
      "cell_type": "markdown",
      "metadata": {
        "id": "-EnuMkymIViq"
      },
      "source": [
        "##Funções"
      ]
    },
    {
      "cell_type": "markdown",
      "metadata": {
        "id": "npZyoIchJxre"
      },
      "source": [
        "### Com legendas"
      ]
    },
    {
      "cell_type": "code",
      "metadata": {
        "colab": {
          "base_uri": "https://localhost:8080/"
        },
        "id": "c3rfV-cyxOg-",
        "outputId": "f88a82c3-ff81-4c16-9fdc-2ad3e915cc5f"
      },
      "source": [
        "Formato antigo com legendas\n",
        "def plot_fitness_analise_by_num2(p_num):\n",
        "  fig = plt.figure(figsize=figsize)\n",
        "  ax = fig.subplots(nrows=1, ncols=3)\n",
        "  fig.suptitle(f\"Problema {p_num}\")\n",
        "\n",
        "  lim=limits[p_num-1]\n",
        "  sizes = [50,70,90]\n",
        "  cofs  = [3,5,6]\n",
        "\n",
        "  ######################################\n",
        "  for i in range(len(sizes)):\n",
        "    ft1 = fitness[f\"problem_{p_num}\"][f\"coef_{cofs[i]}\"][f\"approach_{1}\"]\n",
        "    ft2 = fitness[f\"problem_{p_num}\"][f\"coef_{cofs[i]}\"][f\"approach_{2}\"]\n",
        "    mft1 = np.round(np.average(ft1), 2)\n",
        "    mft2 = np.round(np.average(ft2), 2)\n",
        "    dvpft1 = np.round(np.std(ft1), 2)\n",
        "    dvpft2 = np.round(np.std(ft2), 2)\n",
        "    #legs = [f\"m = {mft1}\", f\"m = {mft2}\", f\"σ = {dvpft1}\", f\"σ = {dvpft2}\"]\n",
        "    textstr = '\\n'.join((\n",
        "      r'$\\mathrm{median}=%.2f$' % (mft2, ),\n",
        "      r'$\\sigma=%.2f$' % (dvpft1, ))\n",
        "    )\n",
        "    legs = [f\"m = {mft1}\", f\"m = {mft2}\"]\n",
        "    ax[i].title.set_text(f\"{sizes[i]}x{sizes[i]}\")\n",
        "    ax[i].hist(ft1, bins=lim, alpha=alpha_back,  color=color_back,  rwidth=largura_bar_back,  edgecolor=edgecolor_front)\n",
        "    ax[i].hist(ft2, bins=lim, alpha=alpha_front, color=color_front, rwidth=largura_bar_front, edgecolor=edgecolor_front)\n",
        "    ax[i].set_xlabel('Makespan')\n",
        "    ax[i].set_ylabel('Frequência')\n",
        "    ax[i].legend([label_back, label_front], loc='upper right')\n",
        "    props = dict(boxstyle='round', facecolor='white', alpha=0.5)\n",
        "    ax[i].text(0.05, 0.95, textstr, transform=ax[i].transAxes, fontsize=10,\n",
        "        verticalalignment='top', bbox=props)\n",
        "  ######################################\n",
        "  plt.show()\n",
        "plot_fitness_analise_by_num2(1)"
      ],
      "execution_count": null,
      "outputs": [
        {
          "data": {
            "image/png": "[encoded data removed]",
            "text/plain": [
              "<Figure size 1296x288 with 3 Axes>"
            ]
          },
          "metadata": {},
          "output_type": "display_data"
        }
      ]
    },
    {
      "cell_type": "markdown",
      "metadata": {
        "id": "Hx5SNfhBJh7x"
      },
      "source": [
        "### Por Numero"
      ]
    },
    {
      "cell_type": "code",
      "metadata": {
        "id": "vgDv0p1jjN1S"
      },
      "source": [
        "#Formato antigo por numero\n",
        "def plot_fitness_analise_by_num(p_num):\n",
        "  fig = plt.figure(figsize=figsize)\n",
        "  ax = fig.subplots(nrows=1, ncols=3)\n",
        "  fig.suptitle(f\"Problema {p_num}\")\n",
        "\n",
        "  lim=limits[p_num-1]\n",
        "  sizes = [50,70,90]\n",
        "  cofs  = [3,5,6]\n",
        "\n",
        "  ######################################\n",
        "  for i in range(len(sizes)):\n",
        "    ft1 = fitness[f\"problem_{p_num}\"][f\"coef_{cofs[i]}\"][f\"approach_{1}\"]\n",
        "    ft2 = fitness[f\"problem_{p_num}\"][f\"coef_{cofs[i]}\"][f\"approach_{2}\"]\n",
        "    mft1 = np.round(np.average(ft1), 2)\n",
        "    mft2 = np.round(np.average(ft2), 2)\n",
        "    dvpft1 = np.round(np.std(ft1), 2)\n",
        "    dvpft2 = np.round(np.std(ft2), 2)\n",
        "    #legs = [f\"m = {mft1}\", f\"m = {mft2}\", f\"σ = {dvpft1}\", f\"σ = {dvpft2}\"]\n",
        "    legs = [f\"m = {mft1}\", f\"m = {mft2}\"]\n",
        "    ax[i].title.set_text(f\"{sizes[i]}x{sizes[i]}\")\n",
        "    ax[i].hist(ft1, bins=lim, alpha=alpha_back,  color=color_back,  rwidth=largura_bar_back,  edgecolor=edgecolor_front)\n",
        "    ax[i].hist(ft2, bins=lim, alpha=alpha_front, color=color_front, rwidth=largura_bar_front, edgecolor=edgecolor_front)\n",
        "    ax[i].set_xlabel('Makespan')\n",
        "    ax[i].set_ylabel('Frequência')\n",
        "    leg_med = ax[i].legend(legs, loc='upper left')\n",
        "    ax[i].legend([label_back, label_front], loc='upper right')\n",
        "    ax[i].add_artist(leg_med)\n",
        "  ######################################\n",
        "  plt.show()\n",
        "#plot_fitness_analise_by_num(1)"
      ],
      "execution_count": null,
      "outputs": []
    },
    {
      "cell_type": "markdown",
      "metadata": {
        "id": "Zlbkg7nqJTl_"
      },
      "source": [
        "### Todos os problemas"
      ]
    },
    {
      "cell_type": "code",
      "metadata": {
        "id": "UKfuY6W9cvuP"
      },
      "source": [
        "#https://matplotlib.org/stable/api/_as_gen/matplotlib.pyplot.hist.html\n",
        "# Formato antigo | todos os problemas\n",
        "def plot_fitness_analise():\n",
        "  fig = plt.figure(figsize=figsize)\n",
        "  ax = fig.subplots(nrows=1, ncols=3)\n",
        "\n",
        "  fig.suptitle(\"Problema 1\")\n",
        "  ######################################\n",
        "  ax[0].title.set_text(\"50x50\")\n",
        "  ax[0].hist(ft_p1_c3_a1, bins=limits_p1, alpha=alpha_back,  color=color_back,  rwidth=largura_bar_back,  label=label_back)\n",
        "  ax[0].hist(ft_p1_c3_a2, bins=limits_p1, alpha=alpha_front, color=color_front, rwidth=largura_bar_front, label=label_front, edgecolor=edgecolor_front)\n",
        "  ax[0].set_xlabel('Makespan')\n",
        "  ax[0].set_ylabel('Frequência')\n",
        "  ax[0].legend(loc='upper right')\n",
        "\n",
        "  ax[1].title.set_text(\"70x70\")\n",
        "  ax[1].hist(ft_p1_c5_a1, bins=limits_p1, alpha=alpha_back,  color=color_back,  rwidth=largura_bar_back,  label=label_back)\n",
        "  ax[1].hist(ft_p1_c5_a2, bins=limits_p1, alpha=alpha_front, color=color_front, rwidth=largura_bar_front, label=label_front, edgecolor=edgecolor_front)\n",
        "  ax[1].set_xlabel('Makespan')\n",
        "  ax[1].set_ylabel('Frequência')\n",
        "  ax[1].legend(loc='upper right')\n",
        "\n",
        "  ax[2].title.set_text(\"90x90\")\n",
        "  ax[2].hist(ft_p1_c6_a1, bins=limits_p1, alpha=alpha_back,  color=color_back,  rwidth=largura_bar_back,  label=label_back)\n",
        "  ax[2].hist(ft_p1_c6_a2, bins=limits_p1, alpha=alpha_front, color=color_front, rwidth=largura_bar_front, label=label_front, edgecolor=edgecolor_front)\n",
        "  ax[2].set_xlabel('Makespan')\n",
        "  ax[2].set_ylabel('Frequência')\n",
        "  ax[2].legend(loc='upper right')\n",
        "  ######################################\n",
        "  plt.show()\n",
        "  ######################################\n",
        "\n",
        "\n",
        "  fig = plt.figure(figsize=figsize)\n",
        "  ax = fig.subplots(nrows=1, ncols=3)\n",
        "  fig.suptitle(\"Problema 2\")\n",
        "  ######################################\n",
        "  ax[0].title.set_text(\"50x50\")\n",
        "  ax[0].hist(ft_p2_c3_a1, bins=limits_p2, alpha=alpha_back,  color=color_back,  rwidth=largura_bar_back,  label=label_back)\n",
        "  ax[0].hist(ft_p2_c3_a2, bins=limits_p2, alpha=alpha_front, color=color_front, rwidth=largura_bar_front, label=label_front, edgecolor=edgecolor_front)\n",
        "  ax[0].set_xlabel('Makespan')\n",
        "  ax[0].set_ylabel('Frequência')\n",
        "  ax[0].legend(loc='upper right')\n",
        "\n",
        "  ax[1].title.set_text(\"70x70\")\n",
        "  ax[1].hist(ft_p2_c5_a1, bins=limits_p2, alpha=alpha_back,  color=color_back,  rwidth=largura_bar_back,  label=label_back)\n",
        "  ax[1].hist(ft_p2_c5_a2, bins=limits_p2, alpha=alpha_front, color=color_front, rwidth=largura_bar_front, label=label_front, edgecolor=edgecolor_front)\n",
        "  ax[1].legend(loc='upper right')\n",
        "\n",
        "  ax[2].title.set_text(\"90x90\")\n",
        "  ax[2].hist(ft_p2_c6_a1, bins=limits_p2, alpha=alpha_back,  color=color_back,  rwidth=largura_bar_back,  label=label_back)\n",
        "  ax[2].hist(ft_p2_c6_a2, bins=limits_p2, alpha=alpha_front, color=color_front, rwidth=largura_bar_front, label=label_front, edgecolor=edgecolor_front)\n",
        "  ax[2].set_xlabel('Makespan')\n",
        "  ax[2].set_ylabel('Frequência')\n",
        "  ax[2].legend(loc='upper right')\n",
        "  ######################################\n",
        "  plt.show()\n",
        "  ######################################\n",
        "\n",
        "  \n",
        "  fig = plt.figure(figsize=figsize)\n",
        "  ax = fig.subplots(nrows=1, ncols=3)\n",
        "  fig.suptitle(\"Problema 3\")\n",
        "  ######################################\n",
        "  ax[0].title.set_text(\"50x50\")\n",
        "  ax[0].hist(ft_p3_c3_a1, bins=limits_p3, alpha=alpha_back,  color=color_back,  rwidth=largura_bar_back,  label=label_back)\n",
        "  ax[0].hist(ft_p3_c3_a2, bins=limits_p3, alpha=alpha_front, color=color_front, rwidth=largura_bar_front, label=label_front, edgecolor=edgecolor_front)\n",
        "  ax[0].set_xlabel('Makespan')\n",
        "  ax[0].set_ylabel('Frequência')\n",
        "  ax[0].legend(loc='upper right')\n",
        "\n",
        "  ax[1].title.set_text(\"70x70\")\n",
        "  ax[1].hist(ft_p3_c5_a1, bins=limits_p3, alpha=alpha_back,  color=color_back,  rwidth=largura_bar_back,  label=label_back)\n",
        "  ax[1].hist(ft_p3_c5_a2, bins=limits_p3, alpha=alpha_front, color=color_front, rwidth=largura_bar_front, label=label_front, edgecolor=edgecolor_front)\n",
        "  ax[1].set_xlabel('Makespan')\n",
        "  ax[1].set_ylabel('Frequência')\n",
        "  ax[1].legend(loc='upper right')\n",
        "\n",
        "  ax[2].title.set_text(\"90x90\")\n",
        "  ax[2].hist(ft_p3_c6_a1, bins=limits_p3, alpha=alpha_back,  color=color_back,  rwidth=largura_bar_back,  label=label_back)\n",
        "  ax[2].hist(ft_p3_c6_a2, bins=limits_p3, alpha=alpha_front, color=color_front, rwidth=largura_bar_front, label=label_front, edgecolor=edgecolor_front)\n",
        "  ax[2].set_xlabel('Makespan')\n",
        "  ax[2].set_ylabel('Frequência')\n",
        "  ax[2].legend(loc='upper right')\n",
        "  ######################################\n",
        "  plt.show()\n",
        "  ######################################\n",
        "\n",
        "\n",
        "  fig = plt.figure(figsize=figsize)\n",
        "  ax = fig.subplots(nrows=1, ncols=3)\n",
        "  fig.suptitle(\"Problema 4\")\n",
        "  ######################################\n",
        "  ax[0].title.set_text(\"50x50\")\n",
        "  ax[0].hist(ft_p4_c3_a1, bins=limits_p4, alpha=alpha_back,  color=color_back,  rwidth=largura_bar_back,  label=label_back)\n",
        "  ax[0].hist(ft_p4_c3_a2, bins=limits_p4, alpha=alpha_front, color=color_front, rwidth=largura_bar_front, label=label_front, edgecolor=edgecolor_front)\n",
        "  ax[0].set_xlabel('Makespan')\n",
        "  ax[0].set_ylabel('Frequência')\n",
        "  ax[0].legend(loc='upper right')\n",
        "\n",
        "  ax[1].title.set_text(\"70x70\")\n",
        "  ax[1].hist(ft_p4_c5_a1, bins=limits_p4, alpha=alpha_back,  color=color_back,  rwidth=largura_bar_back,  label=label_back)\n",
        "  ax[1].hist(ft_p4_c5_a2, bins=limits_p4, alpha=alpha_front, color=color_front, rwidth=largura_bar_front, label=label_front, edgecolor=edgecolor_front)\n",
        "  ax[1].set_xlabel('Makespan')\n",
        "  ax[1].set_ylabel('Frequência')\n",
        "  ax[1].legend(loc='upper right')\n",
        "\n",
        "  ax[2].title.set_text(\"90x90\")\n",
        "  ax[2].hist(ft_p4_c6_a1, bins=limits_p4, alpha=alpha_back,  color=color_back,  rwidth=largura_bar_back,  label=label_back)\n",
        "  ax[2].hist(ft_p4_c6_a2, bins=limits_p4, alpha=alpha_front, color=color_front, rwidth=largura_bar_front, label=label_front, edgecolor=edgecolor_front)\n",
        "  ax[2].set_xlabel('Makespan')\n",
        "  ax[2].set_ylabel('Frequência')\n",
        "  ax[2].legend(loc='upper right')\n",
        "  ######################################\n",
        "  plt.show()"
      ],
      "execution_count": null,
      "outputs": []
    },
    {
      "cell_type": "markdown",
      "metadata": {
        "id": "1OKMi8PSJOjk"
      },
      "source": [
        "### Problema Unico"
      ]
    },
    {
      "cell_type": "code",
      "metadata": {
        "id": "Uhorh3DA6zQr"
      },
      "source": [
        "# Formato antigo | problema unico\n",
        "def plot_fitness_analise_problema1():\n",
        "  fig = plt.figure(figsize=figsize)\n",
        "  ax = fig.subplots(nrows=1, ncols=3)\n",
        "\n",
        "  fig.suptitle(\"Problema 1\")\n",
        "  ######################################\n",
        "  mft_p1_c3_a1 = np.round(sum(ft_p1_c3_a1)/len(ft_p1_c3_a1), 2)\n",
        "  mft_p1_c3_a2 = np.round(sum(ft_p1_c3_a2)/len(ft_p1_c3_a2), 2)\n",
        "  ax[0].title.set_text(\"50x50\")\n",
        "  ax[0].hist(ft_p1_c3_a1, bins=limits_p1, alpha=alpha_back,  color=color_back,  rwidth=largura_bar_back)\n",
        "  ax[0].hist(ft_p1_c3_a2, bins=limits_p1, alpha=alpha_front, color=color_front, rwidth=largura_bar_front, edgecolor=edgecolor_front)\n",
        "  ax[0].set_xlabel('Makespan')\n",
        "  ax[0].set_ylabel('Frequência')\n",
        "  leg1 = ax[0].legend([f\"m = {mft_p1_c3_a1}\", f\"m = {mft_p1_c3_a2}\"], loc='upper left')\n",
        "  ax[0].legend([label_back, label_front], loc='upper right')\n",
        "  #ax[0].legend(loc='upper right')\n",
        "  ax[0].add_artist(leg1)\n",
        "\n",
        "  ax[1].title.set_text(\"70x70\")\n",
        "  mft_p1_c5_a1 = np.round(sum(ft_p1_c5_a1)/len(ft_p1_c5_a1), 2)\n",
        "  mft_p1_c5_a2 = np.round(sum(ft_p1_c5_a2)/len(ft_p1_c5_a2), 2)\n",
        "  ax[1].hist(ft_p1_c5_a1, bins=limits_p1, alpha=alpha_back,  color=color_back,  rwidth=largura_bar_back,  label=label_back, )\n",
        "  ax[1].hist(ft_p1_c5_a2, bins=limits_p1, alpha=alpha_front, color=color_front, rwidth=largura_bar_front, label=label_front, edgecolor=edgecolor_front)\n",
        "  ax[1].set_xlabel('Makespan')\n",
        "  ax[1].set_ylabel('Frequência')\n",
        "  ax[1].legend(loc='upper right')\n",
        "\n",
        "  ax[2].title.set_text(\"90x90\")\n",
        "  ax[2].hist(ft_p1_c6_a1, bins=limits_p1, alpha=alpha_back,  color=color_back,  rwidth=largura_bar_back,  label=label_back)\n",
        "  ax[2].hist(ft_p1_c6_a2, bins=limits_p1, alpha=alpha_front, color=color_front, rwidth=largura_bar_front, label=label_front, edgecolor=edgecolor_front)\n",
        "  ax[2].set_xlabel('Makespan')\n",
        "  ax[2].set_ylabel('Frequência')\n",
        "  ax[2].legend(loc='upper right')\n",
        "  ######################################\n",
        "  plt.show()\n",
        "plot_fitness_analise_problema1()\n"
      ],
      "execution_count": null,
      "outputs": []
    },
    {
      "cell_type": "markdown",
      "metadata": {
        "id": "zLEjFFmRBfWx"
      },
      "source": [
        "##Import and Save Fitness"
      ]
    },
    {
      "cell_type": "code",
      "metadata": {
        "id": "aMRa3qJ-FJBE"
      },
      "source": [
        "#problem_x / coef_x / approach_x\n",
        "#fitness[f\"problem_{}\"][f\"coef_{}\"][f\"approach_{}\"].append()\n",
        "fitness = {\n",
        "\"problem_1\": {\n",
        "  \"coef_3\": {\"approach_1\": [], \"approach_2\": []},\n",
        "  \"coef_5\": {\"approach_1\": [],\"approach_2\": []},\n",
        "  \"coef_6\": {\"approach_1\": [], \"approach_2\": []}},\n",
        "\"problem_2\": {\n",
        "  \"coef_3\": {\"approach_1\": [], \"approach_2\": []},\n",
        "  \"coef_5\": {\"approach_1\": [],\"approach_2\": []},\n",
        "  \"coef_6\": {\"approach_1\": [], \"approach_2\": []}},\n",
        "\"problem_3\": {\n",
        "  \"coef_3\": {\"approach_1\": [], \"approach_2\": []},\n",
        "  \"coef_5\": {\"approach_1\": [],\"approach_2\": []},\n",
        "  \"coef_6\": {\"approach_1\": [], \"approach_2\": []}},\n",
        "\"problem_4\": {\n",
        "  \"coef_3\": {\"approach_1\": [], \"approach_2\": []},\n",
        "  \"coef_5\": {\"approach_1\": [],\"approach_2\": []},\n",
        "  \"coef_6\": {\"approach_1\": [], \"approach_2\": []}}\n",
        "}\n",
        "\n",
        "for e in range(1,15):\n",
        "  for r in range(1, 21):\n",
        "    for i in range(1, 5):\n",
        "      path_base_3 = f\"drive/MyDrive/PSO_execs/Kacem/exec{r}/problem{i}/cof{3}\"\n",
        "      ft_3_1 = np.load(f\"{path_base_3}/fitness_aprout{1}_exec{e}.npy\")\n",
        "      ft_3_2 = np.load(f\"{path_base_3}/fitness_aprout{2}_exec{e}.npy\")\n",
        "      fitness[f\"problem_{i}\"][f\"coef_{3}\"][f\"approach_{1}\"].append(ft_3_1[()])\n",
        "      fitness[f\"problem_{i}\"][f\"coef_{3}\"][f\"approach_{2}\"].append(ft_3_2[()])\n",
        "\n",
        "      path_base_5 = f\"drive/MyDrive/PSO_execs/Kacem/exec{r}/problem{i}/cof{5}\"\n",
        "      ft_5_1 = np.load(f\"{path_base_5}/fitness_aprout{1}_exec{e}.npy\")\n",
        "      ft_5_2 = np.load(f\"{path_base_5}/fitness_aprout{2}_exec{e}.npy\")\n",
        "      fitness[f\"problem_{i}\"][f\"coef_{5}\"][f\"approach_{1}\"].append(ft_5_1[()])\n",
        "      fitness[f\"problem_{i}\"][f\"coef_{5}\"][f\"approach_{2}\"].append(ft_5_2[()])\n",
        "\n",
        "      path_base_6 = f\"drive/MyDrive/PSO_execs/Kacem/exec{r}/problem{i}/cof{6}\"\n",
        "      ft_6_1 = np.load(f\"{path_base_6}/fitness_aprout{1}_exec{e}.npy\")\n",
        "      ft_6_2 = np.load(f\"{path_base_6}/fitness_aprout{2}_exec{e}.npy\")\n",
        "      fitness[f\"problem_{i}\"][f\"coef_{6}\"][f\"approach_{1}\"].append(ft_6_1[()])\n",
        "      fitness[f\"problem_{i}\"][f\"coef_{6}\"][f\"approach_{2}\"].append(ft_6_2[()])\n",
        "    #\n",
        "  #\n",
        "#\n",
        "\n",
        "#ft1 = fitness[f\"problem_{1}\"][f\"coef_{3}\"][f\"approach_{1}\"]\n",
        "#ft2 = fitness[f\"problem_{1}\"][f\"coef_{3}\"][f\"approach_{2}\"]\n",
        "\n",
        "np.save(\"fitness.npy\", fitness)"
      ],
      "execution_count": null,
      "outputs": []
    },
    {
      "cell_type": "code",
      "metadata": {
        "id": "1gTsCZFzang-"
      },
      "source": [
        "fitness_min_max = {\n",
        "    \"ft_p1_c3_a1\":{\"min\": min(ft_p1_c3_a1), \"max\": max(ft_p1_c3_a1)},\n",
        "    \"ft_p1_c3_a2\":{\"min\": min(ft_p1_c3_a2), \"max\": max(ft_p1_c3_a2)},\n",
        "    \"ft_p1_c5_a1\":{\"min\": min(ft_p1_c5_a1), \"max\": max(ft_p1_c5_a1)},\n",
        "    \"ft_p1_c5_a2\":{\"min\": min(ft_p1_c5_a2), \"max\": max(ft_p1_c5_a2)},\n",
        "    \"ft_p1_c6_a1\":{\"min\": min(ft_p1_c6_a1), \"max\": max(ft_p1_c6_a1)},\n",
        "    \"ft_p1_c6_a2\":{\"min\": min(ft_p1_c6_a2), \"max\": max(ft_p1_c6_a2)},\n",
        "    \"ft_p2_c3_a1\":{\"min\": min(ft_p2_c3_a1), \"max\": max(ft_p2_c3_a1)},\n",
        "    \"ft_p2_c3_a2\":{\"min\": min(ft_p2_c3_a2), \"max\": max(ft_p2_c3_a2)},\n",
        "    \"ft_p2_c5_a1\":{\"min\": min(ft_p2_c5_a1), \"max\": max(ft_p2_c5_a1)},\n",
        "    \"ft_p2_c5_a2\":{\"min\": min(ft_p2_c5_a2), \"max\": max(ft_p2_c5_a2)},\n",
        "    \"ft_p2_c6_a1\":{\"min\": min(ft_p2_c6_a1), \"max\": max(ft_p2_c6_a1)},\n",
        "    \"ft_p2_c6_a2\":{\"min\": min(ft_p2_c6_a2), \"max\": max(ft_p2_c6_a2)},\n",
        "    \"ft_p3_c3_a1\":{\"min\": min(ft_p3_c3_a1), \"max\": max(ft_p3_c3_a1)},\n",
        "    \"ft_p3_c3_a2\":{\"min\": min(ft_p3_c3_a2), \"max\": max(ft_p3_c3_a2)},\n",
        "    \"ft_p3_c5_a1\":{\"min\": min(ft_p3_c5_a1), \"max\": max(ft_p3_c5_a1)},\n",
        "    \"ft_p3_c5_a2\":{\"min\": min(ft_p3_c5_a2), \"max\": max(ft_p3_c5_a2)},\n",
        "    \"ft_p3_c6_a1\":{\"min\": min(ft_p3_c6_a1), \"max\": max(ft_p3_c6_a1)},\n",
        "    \"ft_p3_c6_a2\":{\"min\": min(ft_p3_c6_a2), \"max\": max(ft_p3_c6_a2)},\n",
        "    \"ft_p4_c3_a1\":{\"min\": min(ft_p4_c3_a1), \"max\": max(ft_p4_c3_a1)},\n",
        "    \"ft_p4_c3_a2\":{\"min\": min(ft_p4_c3_a2), \"max\": max(ft_p4_c3_a2)},\n",
        "    \"ft_p4_c5_a1\":{\"min\": min(ft_p4_c5_a1), \"max\": max(ft_p4_c5_a1)},\n",
        "    \"ft_p4_c5_a2\":{\"min\": min(ft_p4_c5_a2), \"max\": max(ft_p4_c5_a2)},\n",
        "    \"ft_p4_c6_a1\":{\"min\": min(ft_p4_c6_a1), \"max\": max(ft_p4_c6_a1)},\n",
        "    \"ft_p4_c6_a2\":{\"min\": min(ft_p4_c6_a2), \"max\": max(ft_p4_c6_a2)}\n",
        "}\n",
        "#np.save(\"fitness_min_max.npy\", fitness_min_max)"
      ],
      "execution_count": null,
      "outputs": []
    },
    {
      "cell_type": "code",
      "metadata": {
        "id": "qh_F9uUP0SGO"
      },
      "source": [
        "median_fitness = {\n",
        "  \"problem_1\": {\n",
        "    \"coef_3\": {\"approach_1\": [sum(ft_p1_c3_a1)/len(ft_p1_c3_a1)], \"approach_2\": [sum(ft_p1_c3_a2)/len(ft_p1_c3_a2)]},\n",
        "    \"coef_5\": {\"approach_1\": [sum(ft_p1_c5_a1)/len(ft_p1_c5_a1)], \"approach_2\": [sum(ft_p1_c5_a2)/len(ft_p1_c5_a2)]},\n",
        "    \"coef_6\": {\"approach_1\": [sum(ft_p1_c6_a1)/len(ft_p1_c6_a1)], \"approach_2\": [sum(ft_p1_c6_a2)/len(ft_p1_c6_a2)]}\n",
        "  },\n",
        "  \"problem_2\": {\n",
        "    \"coef_3\": {\"approach_1\": [sum(ft_p2_c3_a1)/len(ft_p2_c3_a1)], \"approach_2\": [sum(ft_p2_c3_a2)/len(ft_p2_c3_a2)]},\n",
        "    \"coef_5\": {\"approach_1\": [sum(ft_p2_c5_a1)/len(ft_p2_c5_a1)], \"approach_2\": [sum(ft_p2_c5_a2)/len(ft_p2_c5_a2)]},\n",
        "    \"coef_6\": {\"approach_1\": [sum(ft_p2_c6_a1)/len(ft_p2_c6_a1)], \"approach_2\": [sum(ft_p2_c6_a2)/len(ft_p2_c6_a2)]}\n",
        "  },\n",
        "  \"problem_3\": {\n",
        "    \"coef_3\": {\"approach_1\": [sum(ft_p3_c3_a1)/len(ft_p3_c3_a1)], \"approach_2\": [sum(ft_p3_c3_a2)/len(ft_p3_c3_a2)]},\n",
        "    \"coef_5\": {\"approach_1\": [sum(ft_p3_c5_a1)/len(ft_p3_c5_a1)], \"approach_2\": [sum(ft_p3_c5_a2)/len(ft_p3_c5_a2)]},\n",
        "    \"coef_6\": {\"approach_1\": [sum(ft_p3_c6_a1)/len(ft_p3_c6_a1)], \"approach_2\": [sum(ft_p3_c6_a2)/len(ft_p3_c6_a2)]}\n",
        "  },\n",
        "  \"problem_4\": {\n",
        "    \"coef_3\": {\"approach_1\": [sum(ft_p4_c3_a1)/len(ft_p4_c3_a1)], \"approach_2\": [sum(ft_p4_c3_a2)/len(ft_p4_c3_a2)]},\n",
        "    \"coef_5\": {\"approach_1\": [sum(ft_p4_c5_a1)/len(ft_p4_c5_a1)], \"approach_2\": [sum(ft_p4_c5_a2)/len(ft_p4_c5_a2)]},\n",
        "    \"coef_6\": {\"approach_1\": [sum(ft_p4_c6_a1)/len(ft_p4_c6_a1)], \"approach_2\": [sum(ft_p4_c6_a2)/len(ft_p4_c6_a2)]}\n",
        "  }\n",
        "}"
      ],
      "execution_count": null,
      "outputs": []
    },
    {
      "cell_type": "markdown",
      "metadata": {
        "id": "fbcTXZqM4sgs"
      },
      "source": [
        "#Aaaa"
      ]
    },
    {
      "cell_type": "code",
      "metadata": {
        "id": "pXLelEPXdJHM"
      },
      "source": [
        "path_base_3 = f\"drive/MyDrive/PSO_execs/Kacem/exec{1}/problem{1}/cof{3}\"\n",
        "p_gbest           = f\"{path_base_3}/gbest_aprout{1}_exec{1}.npy\"\n",
        "p_fitness         = f\"{path_base_3}/fitness_aprout{1}_exec{1}.npy\"\n",
        "p_solution        = f\"{path_base_3}/solution_aprout{1}_exec{1}.npy\"\n",
        "p_history         = f\"{path_base_3}/particles_positions_history{1}_exec{1}.npy\"\n",
        "p_solution_space  = f\"{path_base_3}/solution_space.npy\"\n",
        "p_population      = f\"{path_base_3}/population.npy\"\n",
        "p_gbest_inical    = f\"{path_base_3}/gbest_inical.npy\""
      ],
      "execution_count": null,
      "outputs": []
    },
    {
      "cell_type": "code",
      "metadata": {
        "id": "yzmmU26cazm6"
      },
      "source": [
        "#gb_3_1 = np.load(f\"{path_base_3}/gbest_aprout{1}_exec{1}.npy\")\n",
        "#print(gb_3_1)\n",
        "#his = np.load(f\"{path_base_3}/particles_positions_history{1}_exec{1}.npy\")\n",
        "gbest = np.load(p_gbest)\n",
        "fitness = np.load(p_fitness)\n",
        "solution  = np.load(p_solution)\n",
        "history = np.load(p_history)\n",
        "solution_space  = np.load(p_solution_space)\n",
        "#population  = np.load(p_population, allow_pickle=True)\n",
        "gbest_inical  = np.load(p_gbest_inical)"
      ],
      "execution_count": null,
      "outputs": []
    },
    {
      "cell_type": "code",
      "metadata": {
        "id": "Xs2YJmmzecQj"
      },
      "source": [
        "rodadas = history.shape[0]\n",
        "tamanho_populacao = history.shape[1]-1 # o ultimo é o gbest\n",
        "gb_hist = history[:,-1]\n",
        "\n",
        "print(gb_hist)\n",
        "\n",
        "#print(gb_hist)"
      ],
      "execution_count": null,
      "outputs": []
    },
    {
      "cell_type": "code",
      "metadata": {
        "id": "agICzikBadHZ"
      },
      "source": [
        "population_history = {\n",
        "  \"problem_1\": {\n",
        "    \"coef_3\": {\"approach_1\": [], \"approach_2\": []},\n",
        "    \"coef_5\": {\"approach_1\": [], \"approach_2\": []},\n",
        "    \"coef_6\": {\"approach_1\": [], \"approach_2\": []}\n",
        "  },\n",
        "  \"problem_2\": {\n",
        "    \"coef_3\": {\"approach_1\": [], \"approach_2\": []},\n",
        "    \"coef_5\": {\"approach_1\": [], \"approach_2\": []},\n",
        "    \"coef_6\": {\"approach_1\": [], \"approach_2\": []}\n",
        "  },\n",
        "  \"problem_3\": {\n",
        "    \"coef_3\": {\"approach_1\": [], \"approach_2\": []},\n",
        "    \"coef_5\": {\"approach_1\": [], \"approach_2\": []},\n",
        "    \"coef_6\": {\"approach_1\": [], \"approach_2\": []}\n",
        "  },\n",
        "  \"problem_4\": {\n",
        "    \"coef_3\": {\"approach_1\": [], \"approach_2\": []},\n",
        "    \"coef_5\": {\"approach_1\": [], \"approach_2\": []},\n",
        "    \"coef_6\": {\"approach_1\": [], \"approach_2\": []}\n",
        "  }\n",
        "}\n",
        "\n",
        "for e in range(1, 21):\n",
        "  for r in range(1, 21):\n",
        "    for i in range(1, 5):\n",
        "      path_base_3 = f\"drive/MyDrive/PSO_execs/Kacem/exec{r}/problem{i}/cof{3}\"\n",
        "      ph_3_1 = np.load(f\"{path_base_3}/particles_positions_history{1}_exec{e}.npy\")\n",
        "      ph_3_2 = np.load(f\"{path_base_3}/particles_positions_history{2}_exec{e}.npy\")\n",
        "      population_history[f\"problem_{i}\"][f\"coef_{3}\"][f\"approach_{1}\"].append(ph_3_1[()])\n",
        "      population_history[f\"problem_{i}\"][f\"coef_{3}\"][f\"approach_{2}\"].append(ph_3_2[()])\n",
        "\n",
        "      path_base_5 = f\"drive/MyDrive/PSO_execs/Kacem/exec{r}/problem{i}/cof{5}\"\n",
        "      ph_5_1 = np.load(f\"{path_base_5}/particles_positions_history{1}_exec{e}.npy\")\n",
        "      ph_5_2 = np.load(f\"{path_base_5}/particles_positions_history{2}_exec{e}.npy\")\n",
        "      population_history[f\"problem_{i}\"][f\"coef_{5}\"][f\"approach_{1}\"].append(ph_5_1[()])\n",
        "      population_history[f\"problem_{i}\"][f\"coef_{5}\"][f\"approach_{2}\"].append(ph_5_2[()])\n",
        "\n",
        "      path_base_6 = f\"drive/MyDrive/PSO_execs/Kacem/exec{r}/problem{i}/cof{6}\"\n",
        "      ph_6_1 = np.load(f\"{path_base_6}/particles_positions_history{1}_exec{e}.npy\")\n",
        "      ph_6_2 = np.load(f\"{path_base_6}/particles_positions_history{2}_exec{e}.npy\")\n",
        "      population_history[f\"problem_{i}\"][f\"coef_{6}\"][f\"approach_{1}\"].append(ph_6_1[()])\n",
        "      population_history[f\"problem_{i}\"][f\"coef_{6}\"][f\"approach_{2}\"].append(ph_6_2[()])\n",
        "    #\n",
        "  #\n",
        "#\n",
        "\n",
        "np.save(\"population_history.npy\", population_history)"
      ],
      "execution_count": null,
      "outputs": []
    },
    {
      "cell_type": "code",
      "metadata": {
        "id": "21IGPlxOjFpO"
      },
      "source": [
        "population_history = np.load(\"population_history.npy\", allow_pickle=True)"
      ],
      "execution_count": null,
      "outputs": []
    },
    {
      "cell_type": "markdown",
      "metadata": {
        "id": "QWbP6rp4lLOx"
      },
      "source": [
        "Function to Load and Save a data of executions"
      ]
    },
    {
      "cell_type": "code",
      "metadata": {
        "id": "FSO6RWkFlSJ1"
      },
      "source": [
        "def load_and_save(name):\n",
        "  data_struc = {\n",
        "    \"problem_1\": {\n",
        "      \"coef_3\": {\"approach_1\": [], \"approach_2\": []},\n",
        "      \"coef_5\": {\"approach_1\": [], \"approach_2\": []},\n",
        "      \"coef_6\": {\"approach_1\": [], \"approach_2\": []}\n",
        "    },\n",
        "    \"problem_2\": {\n",
        "      \"coef_3\": {\"approach_1\": [], \"approach_2\": []},\n",
        "      \"coef_5\": {\"approach_1\": [], \"approach_2\": []},\n",
        "      \"coef_6\": {\"approach_1\": [], \"approach_2\": []}\n",
        "    },\n",
        "    \"problem_3\": {\n",
        "      \"coef_3\": {\"approach_1\": [], \"approach_2\": []},\n",
        "      \"coef_5\": {\"approach_1\": [], \"approach_2\": []},\n",
        "      \"coef_6\": {\"approach_1\": [], \"approach_2\": []}\n",
        "    },\n",
        "    \"problem_4\": {\n",
        "      \"coef_3\": {\"approach_1\": [], \"approach_2\": []},\n",
        "      \"coef_5\": {\"approach_1\": [], \"approach_2\": []},\n",
        "      \"coef_6\": {\"approach_1\": [], \"approach_2\": []}\n",
        "    }\n",
        "  }\n",
        "\n",
        "  for e in range(1, 21):\n",
        "    for r in range(1, 21):\n",
        "      for i in range(1, 5):\n",
        "        path_base_3 = f\"drive/MyDrive/PSO_execs/Kacem/exec{r}/problem{i}/cof{3}\"\n",
        "        dt_3_1 = np.load(f\"{path_base_3}/{name}{1}_exec{e}.npy\")\n",
        "        dt_3_2 = np.load(f\"{path_base_3}/{name}{2}_exec{e}.npy\")\n",
        "        data_struc[f\"problem_{i}\"][f\"coef_{3}\"][f\"approach_{1}\"].append(dt_3_1[()])\n",
        "        data_struc[f\"problem_{i}\"][f\"coef_{3}\"][f\"approach_{2}\"].append(dt_3_2[()])\n",
        "\n",
        "        path_base_5 = f\"drive/MyDrive/PSO_execs/Kacem/exec{r}/problem{i}/cof{5}\"\n",
        "        dt_5_1 = np.load(f\"{path_base_5}/{name}{1}_exec{e}.npy\")\n",
        "        dt_5_2 = np.load(f\"{path_base_5}/{name}{2}_exec{e}.npy\")\n",
        "        data_struc[f\"problem_{i}\"][f\"coef_{5}\"][f\"approach_{1}\"].append(dt_5_1[()])\n",
        "        data_struc[f\"problem_{i}\"][f\"coef_{5}\"][f\"approach_{2}\"].append(dt_5_2[()])\n",
        "\n",
        "        path_base_6 = f\"drive/MyDrive/PSO_execs/Kacem/exec{r}/problem{i}/cof{6}\"\n",
        "        dt_6_1 = np.load(f\"{path_base_6}/{name}{1}_exec{e}.npy\")\n",
        "        dt_6_2 = np.load(f\"{path_base_6}/{name}{2}_exec{e}.npy\")\n",
        "        data_struc[f\"problem_{i}\"][f\"coef_{6}\"][f\"approach_{1}\"].append(dt_6_1[()])\n",
        "        data_struc[f\"problem_{i}\"][f\"coef_{6}\"][f\"approach_{2}\"].append(dt_6_2[()])\n",
        "      #\n",
        "    #\n",
        "  #\n",
        "\n",
        "  ###\n",
        "  np.save(f\"{name}.npy\", data_struc)\n",
        "####"
      ],
      "execution_count": null,
      "outputs": []
    },
    {
      "cell_type": "code",
      "metadata": {
        "id": "_bzYUHsDmm82"
      },
      "source": [
        "def load_and_save_cenario(name):\n",
        "  data_struc = {\n",
        "    \"problem_1\": {\n",
        "      \"coef_3\": {\"approach_1\": [], \"approach_2\": []},\n",
        "      \"coef_5\": {\"approach_1\": [], \"approach_2\": []},\n",
        "      \"coef_6\": {\"approach_1\": [], \"approach_2\": []}\n",
        "    },\n",
        "    \"problem_2\": {\n",
        "      \"coef_3\": {\"approach_1\": [], \"approach_2\": []},\n",
        "      \"coef_5\": {\"approach_1\": [], \"approach_2\": []},\n",
        "      \"coef_6\": {\"approach_1\": [], \"approach_2\": []}\n",
        "    },\n",
        "    \"problem_3\": {\n",
        "      \"coef_3\": {\"approach_1\": [], \"approach_2\": []},\n",
        "      \"coef_5\": {\"approach_1\": [], \"approach_2\": []},\n",
        "      \"coef_6\": {\"approach_1\": [], \"approach_2\": []}\n",
        "    },\n",
        "    \"problem_4\": {\n",
        "      \"coef_3\": {\"approach_1\": [], \"approach_2\": []},\n",
        "      \"coef_5\": {\"approach_1\": [], \"approach_2\": []},\n",
        "      \"coef_6\": {\"approach_1\": [], \"approach_2\": []}\n",
        "    }\n",
        "  }\n",
        "\n",
        "  for e in range(1, 21):\n",
        "    for r in range(1, 21):\n",
        "      for i in range(1, 5):\n",
        "        path_base_3 = f\"drive/MyDrive/PSO_execs/Kacem/exec{r}/problem{i}/cof{3}\"\n",
        "        dt_3_1 = np.load(f\"{path_base_3}/{name}.npy\")\n",
        "        dt_3_2 = np.load(f\"{path_base_3}/{name}.npy\")\n",
        "        data_struc[f\"problem_{i}\"][f\"coef_{3}\"][f\"approach_{1}\"].append(dt_3_1[()])\n",
        "        data_struc[f\"problem_{i}\"][f\"coef_{3}\"][f\"approach_{2}\"].append(dt_3_2[()])\n",
        "\n",
        "        path_base_5 = f\"drive/MyDrive/PSO_execs/Kacem/exec{r}/problem{i}/cof{5}\"\n",
        "        dt_5_1 = np.load(f\"{path_base_5}/{name}.npy\")\n",
        "        dt_5_2 = np.load(f\"{path_base_5}/{name}.npy\")\n",
        "        data_struc[f\"problem_{i}\"][f\"coef_{5}\"][f\"approach_{1}\"].append(dt_5_1[()])\n",
        "        data_struc[f\"problem_{i}\"][f\"coef_{5}\"][f\"approach_{2}\"].append(dt_5_2[()])\n",
        "\n",
        "        path_base_6 = f\"drive/MyDrive/PSO_execs/Kacem/exec{r}/problem{i}/cof{6}\"\n",
        "        dt_6_1 = np.load(f\"{path_base_6}/{name}.npy\")\n",
        "        dt_6_2 = np.load(f\"{path_base_6}/{name}.npy\")\n",
        "        data_struc[f\"problem_{i}\"][f\"coef_{6}\"][f\"approach_{1}\"].append(dt_6_1[()])\n",
        "        data_struc[f\"problem_{i}\"][f\"coef_{6}\"][f\"approach_{2}\"].append(dt_6_2[()])\n",
        "      #\n",
        "    #\n",
        "  #\n",
        "\n",
        "  ###\n",
        "  np.save(f\"{name}.npy\", data_struc)\n",
        "####"
      ],
      "execution_count": null,
      "outputs": []
    },
    {
      "cell_type": "code",
      "metadata": {
        "id": "a8FwCXJ-lYej"
      },
      "source": [
        "#load_and_save(\"gbest_aprout\")\n",
        "#load_and_save(\"solution_aprout\")\n",
        "load_and_save_cenario(\"solution_space\")\n",
        "load_and_save_cenario(\"population\")\n",
        "load_and_save_cenario(\"gbest_inical\")"
      ],
      "execution_count": null,
      "outputs": []
    }
  ]
}