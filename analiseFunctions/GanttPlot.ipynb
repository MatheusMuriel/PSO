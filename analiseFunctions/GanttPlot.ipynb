{
  "nbformat": 4,
  "nbformat_minor": 0,
  "metadata": {
    "colab": {
      "name": "Untitled4.ipynb",
      "provenance": [],
      "collapsed_sections": [
        "1du5GW5iuwil",
        "_aNbeWaC4CBZ",
        "jgbmfj_9Q3Vf",
        "YtWNObWZNI0M",
        "Aa2ZLAayNRPd",
        "QbxLICc8NWkp",
        "Y45Zx0jXOoG1"
      ]
    },
    "kernelspec": {
      "name": "python3",
      "display_name": "Python 3"
    },
    "language_info": {
      "name": "python"
    }
  },
  "cells": [
    {
      "cell_type": "code",
      "metadata": {
        "id": "rGfItKAj2uha"
      },
      "source": [
        "https://matplotlib.org/stable/api/_as_gen/matplotlib.pyplot.barh.html\n",
        "import matplotlib.pyplot as plt\n",
        "import numpy as np"
      ],
      "execution_count": 6,
      "outputs": []
    },
    {
      "cell_type": "code",
      "metadata": {
        "id": "wHUzo5a0rLzs"
      },
      "source": [
        "sol = np.load(\"/content/drive/MyDrive/PSO_execs/Kacem/exec7/problem1/cof5/solution_aprout2_exec13.npy\")"
      ],
      "execution_count": 229,
      "outputs": []
    },
    {
      "cell_type": "code",
      "metadata": {
        "id": "98hmd0mrS672"
      },
      "source": [
        "tp = decode(sol)\n",
        "np.save(\"sttime.npy\", tp[0])\n",
        "np.save(\"edtime.npy\", tp[1])"
      ],
      "execution_count": 254,
      "outputs": []
    },
    {
      "cell_type": "code",
      "metadata": {
        "id": "-IBscYBBIVsN"
      },
      "source": [
        "start_time = np.load(\"sttime.npy\")\n",
        "end_time = np.load(\"edtime.npy\")\n",
        "plot_data = dict_to_plot_of_solution(start_time, end_time)\n",
        "np.save(\"plot_data.npy\", plot_data)"
      ],
      "execution_count": 255,
      "outputs": []
    },
    {
      "cell_type": "code",
      "metadata": {
        "id": "ylV8QUXgVelY"
      },
      "source": [
        "decode(sol, True)"
      ],
      "execution_count": null,
      "outputs": []
    },
    {
      "cell_type": "code",
      "metadata": {
        "id": "SV7IRY-DIUiB"
      },
      "source": [
        "def dict_to_plot_of_solution(start_time, end_time):\n",
        "  operations = {}\n",
        "  for machine in range( decoder_data[\"quant_of_machines\"] ):\n",
        "    for operation in range( decoder_data[\"half_of_scheduling\"] ):\n",
        "      current_start_time      = start_time[machine][operation]\n",
        "      current_end_time        = end_time[machine][operation]\n",
        "      current_diference_time  = current_end_time - current_start_time\n",
        "      operation_tuple = find_machine_of_a_operation(operation)\n",
        "      operation_data = {\n",
        "        \"id\"              : operation,\n",
        "        \"machine\"         : operation_tuple[0],\n",
        "        \"operation_tuple\" : operation_tuple,\n",
        "        \"start_time\"      : current_start_time,\n",
        "        \"duration\"        : current_diference_time\n",
        "      }\n",
        "      operations[operation] = operation_data\n",
        "  #\n",
        "  return operations"
      ],
      "execution_count": 266,
      "outputs": []
    },
    {
      "cell_type": "code",
      "metadata": {
        "id": "DnABPder2E3H"
      },
      "source": [
        "plot_data = np.load(\"plot_data.npy\", allow_pickle=True)[()]"
      ],
      "execution_count": 263,
      "outputs": []
    },
    {
      "cell_type": "code",
      "metadata": {
        "colab": {
          "base_uri": "https://localhost:8080/"
        },
        "id": "CwOkNUeKVRsS",
        "outputId": "2cf67ef7-e1e5-46d7-b73a-7a6f3a436a0c"
      },
      "source": [
        "print(plot_data)"
      ],
      "execution_count": 261,
      "outputs": [
        {
          "output_type": "stream",
          "name": "stdout",
          "text": [
            "{0: {'id': 0, 'machine': 4, 'operation_tuple': (1, 1), 'start_time': 0, 'duration': 0}, 1: {'id': 1, 'machine': 4, 'operation_tuple': (1, 2), 'start_time': 0, 'duration': 0}, 2: {'id': 2, 'machine': 4, 'operation_tuple': (1, 3), 'start_time': 0, 'duration': 0}, 3: {'id': 3, 'machine': 4, 'operation_tuple': (2, 1), 'start_time': 0, 'duration': 0}, 4: {'id': 4, 'machine': 4, 'operation_tuple': (2, 2), 'start_time': 2, 'duration': 5}, 5: {'id': 5, 'machine': 4, 'operation_tuple': (2, 3), 'start_time': 0, 'duration': 0}, 6: {'id': 6, 'machine': 4, 'operation_tuple': (3, 1), 'start_time': 0, 'duration': 0}, 7: {'id': 7, 'machine': 4, 'operation_tuple': (3, 2), 'start_time': 0, 'duration': 0}, 8: {'id': 8, 'machine': 4, 'operation_tuple': (3, 3), 'start_time': 0, 'duration': 0}, 9: {'id': 9, 'machine': 4, 'operation_tuple': (3, 4), 'start_time': 0, 'duration': 0}, 10: {'id': 10, 'machine': 4, 'operation_tuple': (4, 1), 'start_time': 0, 'duration': 0}, 11: {'id': 11, 'machine': 4, 'operation_tuple': (4, 2), 'start_time': 0, 'duration': 0}}\n"
          ]
        }
      ]
    },
    {
      "cell_type": "code",
      "metadata": {
        "id": "W_w-cwDmU42S"
      },
      "source": [
        "for i in plot_data.items():\n",
        "  print(i)"
      ],
      "execution_count": null,
      "outputs": []
    },
    {
      "cell_type": "code",
      "metadata": {
        "id": "HZ4MTTOn_BeW"
      },
      "source": [
        "r_mac_1 = list(filter(lambda x: x[1]['operation_tuple'][0] == 4, plot_data.items()))\n",
        "for o in r_mac_1:\n",
        "  print(o)"
      ],
      "execution_count": null,
      "outputs": []
    },
    {
      "cell_type": "code",
      "metadata": {
        "id": "fTrvWdoYyS4L"
      },
      "source": [
        "decoder_data = {\n",
        "\t\"quant_of_jobs\":             10,\n",
        "\t\"quant_of_machines\":         10,\n",
        "\t\"quant_operations_per_jobs\": [3, 3, 3, 3, 3, 3, 3, 3, 3, 3],\n",
        "\t\"max_of_operations\":         3,\n",
        "\t\"half_of_scheduling\":        30,\n",
        "\t\"process_times\":             np.load(\"/content/drive/MyDrive/PSO_execs/Kacem/exec7/problem3/cof5/decoder_process_times.npy\")\n",
        "}"
      ],
      "execution_count": null,
      "outputs": []
    },
    {
      "cell_type": "code",
      "metadata": {
        "id": "lkN6GpfBy5mX"
      },
      "source": [
        "#def draw_gatt(start_time, end_time, fig):\n",
        "colors = { 0:'red', 1:'blue', 2:'yellow', 3:'orange', \n",
        "  4:'green', 5:'palegoldenrod',6:'purple', 7:'pink', \n",
        "  8:'Thistle', 9:'Magenta',10:'SlateBlue', 11:'RoyalBlue', \n",
        "  12:'Cyan', 13:'Aqua',14:'floralwhite',15:'ghostwhite'\n",
        "}"
      ],
      "execution_count": 17,
      "outputs": []
    },
    {
      "cell_type": "code",
      "metadata": {
        "colab": {
          "base_uri": "https://localhost:8080/"
        },
        "id": "dDUsM3zPMdsw",
        "outputId": "6b1dbb26-99b2-4e1f-f8cc-4c2ca4f25d46"
      },
      "source": [
        ""
      ],
      "execution_count": 269,
      "outputs": [
        {
          "output_type": "stream",
          "name": "stdout",
          "text": [
            "<bound method ScalarMappable.to_rgba of <matplotlib.cm.ScalarMappable object at 0x7fa8fa559050>>\n"
          ]
        }
      ]
    },
    {
      "cell_type": "code",
      "metadata": {
        "colab": {
          "base_uri": "https://localhost:8080/",
          "height": 320
        },
        "id": "IHGlFckiLc5D",
        "outputId": "9d1b554c-b062-415b-9d51-d088437b29a1"
      },
      "source": [
        "import matplotlib.colors as colors\n",
        "import matplotlib.cm as cmx\n",
        "jet = cm = plt.get_cmap('jet') \n",
        "cNorm  = colors.Normalize(vmin=0, vmax=4)\n",
        "scalarMap = cmx.ScalarMappable(norm=cNorm, cmap=jet)\n",
        "### PLOT Testes cor ###\n",
        "labels = [\"Job 1\", \"Job 2\", \"Job 3\", \"Job 4\"]\n",
        "plots = {\n",
        "    1:[],\n",
        "    2:[],\n",
        "    3:[],\n",
        "    4:[],\n",
        "}\n",
        "fig = plt.figure(figsize=(15,5))\n",
        "for machine in range( decoder_data[\"quant_of_machines\"] ):    # 10\n",
        "  for j in range( decoder_data[\"half_of_scheduling\"] ):       # 30\n",
        "    current_start_time      = start_time[machine][j]\n",
        "    current_end_time        = end_time[machine][j]\n",
        "    current_diference_time  = current_end_time - current_start_time\n",
        "    #if current_diference_time > 0:\n",
        "    if end_time[machine][j] != 0 and end_time[machine][j] - start_time[machine][j] != 0:\n",
        "      operation = find_machine_of_a_operation(j)\n",
        "      bar_left  = current_start_time\n",
        "      bar_width = current_diference_time\n",
        "      #bar_color = colors[count]\n",
        "      bar_str   = operation\n",
        "      bar_str   = operation\n",
        "      job = operation[0]\n",
        "      plot = plt.barh(y=machine, width=bar_width, left=bar_left, color=scalarMap.to_rgba(job), edgecolor='black', label=labels[job-1])\n",
        "      plots[job].append(plot)\n",
        "      plt.text(x=bar_left + 0.1, y=machine, s=bar_str, fontsize=14)\n",
        "      count += 1\n",
        "#\n",
        "#ax.yticks(np.arange(machine + 1), np.arange(1, machine + 2))\n",
        "#plt.legend([1,2,3,4],[\"Job 1\", \"Job 2\", \"Job 3\", \"Job 4\"])\n",
        "jobs = [plots[1][0],plots[2][0],plots[3][0],plots[4][0]]\n",
        "plt.legend(jobs, [r'$Job_{1}$',r'$Job_{2}$',r'$Job_{3}$',r'$Job_{4}$'])\n",
        "plt.yticks(np.arange(machine + 1), np.arange(1, machine + 2))\n",
        "#plt.yticks([0,1,2,3,4,5,6,7,8,9,10], ('M1','M2','M3','M4','M5','M6','M7','M8','M9','M10'))\n",
        "\n",
        "plt.show()"
      ],
      "execution_count": 303,
      "outputs": [
        {
          "output_type": "display_data",
          "data": {
            "image/png": "[encoded data removed]",
            "text/plain": [
              "<Figure size 1080x360 with 1 Axes>"
            ]
          },
          "metadata": {
            "needs_background": "light"
          }
        }
      ]
    },
    {
      "cell_type": "markdown",
      "metadata": {
        "id": "1du5GW5iuwil"
      },
      "source": [
        "#Originais\n"
      ]
    },
    {
      "cell_type": "code",
      "metadata": {
        "id": "nMr3ELwS2P-t"
      },
      "source": [
        "### PLOT Original ###\n",
        "\n",
        "for machine in range( decoder_data[\"quant_of_machines\"] ):    # 10\n",
        "  for j in range( decoder_data[\"half_of_scheduling\"] ):       # 30\n",
        "    current_start_time      = start_time[machine][j]\n",
        "    current_end_time        = end_time[machine][j]\n",
        "    current_diference_time  = current_end_time - current_start_time\n",
        "    #if current_diference_time > 0:\n",
        "    if end_time[machine][j] != 0 and end_time[machine][j] - start_time[machine][j] != 0:\n",
        "      operation = find_machine_of_a_operation(j)\n",
        "      bar_left  = current_start_time\n",
        "      bar_width = current_diference_time\n",
        "      bar_color = colors[operation[0] - 1]\n",
        "      bar_str   = operation\n",
        "      plt.barh(y=machine, width=bar_width, height=0.5, left=bar_left, color=bar_color, edgecolor='black')\n",
        "      plt.text(x=bar_left + 0.1, y=machine, s=bar_str, fontsize=8)\n",
        "#\n",
        "#ax.yticks(np.arange(machine + 1), np.arange(1, machine + 2))\n",
        "#plt.yticks(np.arange(machine + 1), np.arange(1, machine + 2))\n",
        "\n",
        "plt.show()"
      ],
      "execution_count": null,
      "outputs": []
    },
    {
      "cell_type": "markdown",
      "metadata": {
        "id": "_aNbeWaC4CBZ"
      },
      "source": [
        "# Codigos Auxiliares"
      ]
    },
    {
      "cell_type": "markdown",
      "metadata": {
        "id": "jgbmfj_9Q3Vf"
      },
      "source": [
        "### Encoder / Decoder Data"
      ]
    },
    {
      "cell_type": "markdown",
      "metadata": {
        "id": "YtWNObWZNI0M"
      },
      "source": [
        "#### Decoder Data"
      ]
    },
    {
      "cell_type": "code",
      "metadata": {
        "id": "YxIryr58L_Ko"
      },
      "source": [
        "decoder_data = {\n",
        "\t\"quant_of_jobs\":             4,\n",
        "\t\"quant_of_machines\":         5,\n",
        "\t\"quant_operations_per_jobs\": [3, 3, 4, 2],\n",
        "\t\"max_of_operations\":         4,\n",
        "\t\"half_of_scheduling\":        12,\n",
        "\t\"process_times\":             np.load(\"/content/drive/MyDrive/PSO_execs/Kacem/exec7/problem1/cof5/decoder_process_times.npy\")\n",
        "}"
      ],
      "execution_count": 235,
      "outputs": []
    },
    {
      "cell_type": "markdown",
      "metadata": {
        "id": "RUcfmDRjOevK"
      },
      "source": [
        "### Decode Function"
      ]
    },
    {
      "cell_type": "code",
      "metadata": {
        "id": "DWkIrFccOevN"
      },
      "source": [
        "def decode(scheduling, plot_scheduling=False, fig=None):\n",
        "  machines_matrix = np.zeros((decoder_data[\"quant_of_jobs\"], decoder_data[\"max_of_operations\"]), dtype=int)\n",
        "  times_matrix    = np.zeros((decoder_data[\"quant_of_jobs\"], decoder_data[\"max_of_operations\"]), dtype=int)\n",
        "\n",
        "  machines_scheduling   = scheduling[:decoder_data[\"half_of_scheduling\"]]\n",
        "  operations_scheduling = scheduling[decoder_data[\"half_of_scheduling\"]:]\n",
        "\n",
        "  operation_index = 0\n",
        "  for i in range( decoder_data[\"quant_of_jobs\"] ):\n",
        "    for j in range( decoder_data[\"quant_operations_per_jobs\"][i] ):\n",
        "      count = 0\n",
        "      process_time = decoder_data[\"process_times\"][operation_index]\n",
        "\n",
        "      for index in range( len(process_time) ):\n",
        "        if process_time[index] != -1:\n",
        "          count+=1\n",
        "\n",
        "        if count == machines_scheduling[operation_index]:\n",
        "          machines_matrix[i][j] = index+1\n",
        "          times_matrix[i][j]  = process_time[index]\n",
        "          break\n",
        "\n",
        "      operation_index+=1\n",
        "\n",
        "    #print(machines_matrix)\n",
        "    #print(times_matrix)\n",
        "\n",
        "  start_time = np.zeros(\n",
        "    (decoder_data[\"quant_of_machines\"], decoder_data[\"half_of_scheduling\"]),\n",
        "    dtype=int\n",
        "  )\n",
        "\n",
        "  end_time = np.zeros(\n",
        "    (decoder_data[\"quant_of_machines\"], decoder_data[\"half_of_scheduling\"]),\n",
        "    dtype=int\n",
        "  )\n",
        "\n",
        "  op_count_dict = {}\n",
        "  machine_operations = np.zeros(decoder_data[\"quant_of_machines\"], dtype=int)\n",
        "\n",
        "  for os in operations_scheduling:\n",
        "    if os in op_count_dict:\n",
        "      op_count_dict[os] += 1\n",
        "    else:\n",
        "      op_count_dict[os] = 1\n",
        "    #\n",
        "\n",
        "    operation_count = op_count_dict[os]\n",
        "    operation_index = find_one_operation_in_a_machine(os, operation_count)\n",
        "\n",
        "    machine_number     = machines_matrix[os-1][operation_count-1]\n",
        "    pro_time           = times_matrix [os-1][operation_count-1]\n",
        "\n",
        "    machine_operation  = machine_operations[machine_number-1]\n",
        "    current_start_time = start_time[machine_number-1][operation_index]\n",
        "    current_end_time   = end_time  [machine_number-1][operation_index]\n",
        "\n",
        "    previous_operation_index = find_one_operation_in_a_machine(os, operation_count - 1)\n",
        "    previous_machine_number = machines_matrix[os-1][operation_count-2]\n",
        "\n",
        "    if machine_operation == 0 and operation_count == 1 :\n",
        "      current_start_time = 0\n",
        "      current_end_time   = pro_time\n",
        "    #\n",
        "\n",
        "    elif machine_operation == 0 and operation_count > 1 :\n",
        "      prev_m_num          = machines_matrix[os-1][operation_count-2]\n",
        "      prev_end_time       = end_time[prev_m_num-1][previous_operation_index]\n",
        "      current_start_time  = prev_end_time\n",
        "      current_end_time    = prev_end_time + pro_time\n",
        "    #\n",
        "\n",
        "    elif machine_operation > 0:\n",
        "      flag=0\n",
        "      prev_end_time = 0\n",
        "\n",
        "      if operation_count == 1 :\n",
        "        free_start = 0\n",
        "      else:\n",
        "        prev_end_time = end_time[previous_machine_number-1][previous_operation_index]\n",
        "        free_start = prev_end_time\n",
        "      #\n",
        "\n",
        "      order_start_time = np.sort(start_time[machine_number-1][end_time[machine_number-1] > 0])\n",
        "      order_end_time   = np.sort(end_time  [machine_number-1][end_time[machine_number-1] > 0])\n",
        "\n",
        "      for index in range(len(order_start_time)):\n",
        "        if order_start_time[index] - free_start >= pro_time:\n",
        "          current_start_time = free_start\n",
        "          current_end_time   = free_start + pro_time\n",
        "          flag = 1\n",
        "          break\n",
        "        #\n",
        "\n",
        "        if order_end_time[index] - free_start >= 0:\n",
        "          free_start = order_end_time[index]\n",
        "        #\n",
        "      #\n",
        "\n",
        "      if flag == 0:\n",
        "        free_start = max(np.max(end_time[machine_number-1]), prev_end_time)\n",
        "        current_start_time = free_start\n",
        "        current_end_time   = free_start + pro_time\n",
        "      #\n",
        "    #\n",
        "\n",
        "    machine_operation += 1\n",
        "\n",
        "    machine_operations[machine_number - 1]          = machine_operation\n",
        "    start_time[machine_number - 1][operation_index] = current_start_time\n",
        "    end_time  [machine_number - 1][operation_index] = current_end_time\n",
        "  #\n",
        "  \n",
        "  #print(scheduling)\n",
        "  if plot_scheduling:\n",
        "    draw_gatt(start_time, end_time, fig)\n",
        "  #\n",
        "\n",
        "  fitness = np.max(end_time)\n",
        "  #return fitness\n",
        "  return (start_time, end_time)\n",
        "#"
      ],
      "execution_count": 252,
      "outputs": []
    },
    {
      "cell_type": "markdown",
      "metadata": {
        "id": "Aa2ZLAayNRPd"
      },
      "source": [
        "### Gantt Plot Function\n"
      ]
    },
    {
      "cell_type": "code",
      "metadata": {
        "id": "6oSueSmGNbrd"
      },
      "source": [
        "def draw_gatt(start_time, end_time, fig):\n",
        "  colors = { 0:'red', 1:'blue', 2:'yellow', 3:'orange', \n",
        "    4:'green', 5:'palegoldenrod',6:'purple', 7:'pink', \n",
        "    8:'Thistle', 9:'Magenta',10:'SlateBlue', 11:'RoyalBlue', \n",
        "    12:'Cyan', 13:'Aqua',14:'floralwhite',15:'ghostwhite'\n",
        "  }\n",
        "  #ax = plt.figure()\n",
        "  # i = Machine_index ; j = Operation_index\n",
        "  for i in range( decoder_data[\"quant_of_machines\"] ): # Vai de linha em linha do plot (começando do 0)\n",
        "    for j in range( decoder_data[\"half_of_scheduling\"] ):\n",
        "      current_start_time      = start_time[i][j]\n",
        "      current_end_time        = end_time[i][j]\n",
        "      current_diference_time  = current_end_time - current_start_time\n",
        "      #if current_diference_time > 0:\n",
        "      if end_time[i][j] != 0 and end_time[i][j] - start_time[i][j] != 0:\n",
        "        operation = find_machine_of_a_operation(j)\n",
        "        bar_width = current_diference_time\n",
        "        bar_left = current_start_time\n",
        "        bar_color = colors[operation[0] - 1]\n",
        "        #bar_str = operation[0] # Somente o numero do Job\n",
        "        bar_str = operation     # Numero do Job e da Operação\n",
        "\n",
        "        plt.barh(y=i, width=bar_width, height=0.5, left=bar_left, color=bar_color, edgecolor='black')\n",
        "        plt.text(x=bar_left + 0.1, y=i, s=bar_str, fontsize=8)\n",
        "  #\n",
        "  #ax.yticks(np.arange(i + 1), np.arange(1, i + 2))\n",
        "  plt.yticks(np.arange(i + 1), np.arange(1, i + 2))\n",
        "\n",
        "  plt.show()\n",
        "  pass\n",
        "#"
      ],
      "execution_count": 1,
      "outputs": []
    },
    {
      "cell_type": "markdown",
      "metadata": {
        "id": "QbxLICc8NWkp"
      },
      "source": [
        "### Find Operation Function"
      ]
    },
    {
      "cell_type": "code",
      "metadata": {
        "id": "xU0M40s6NcBH"
      },
      "source": [
        "def find_one_operation_in_a_machine(i, j):\n",
        "  if i == 1:\n",
        "    op_index = j - 1\n",
        "  else:\n",
        "    op_index = sum(decoder_data[\"quant_operations_per_jobs\"][:i - 1]) + j - 1\n",
        "\n",
        "  return op_index\n"
      ],
      "execution_count": 2,
      "outputs": []
    },
    {
      "cell_type": "markdown",
      "metadata": {
        "id": "dwI4TUeoOzB2"
      },
      "source": [
        "----"
      ]
    },
    {
      "cell_type": "markdown",
      "metadata": {
        "id": "Y45Zx0jXOoG1"
      },
      "source": [
        "### Find Machine"
      ]
    },
    {
      "cell_type": "code",
      "metadata": {
        "id": "F4LyNNCFOoHl"
      },
      "source": [
        "def find_machine_of_a_operation(operation_index):\n",
        "  job_op_list = [\n",
        "      (i + 1, j + 1) for i in range( decoder_data[\"quant_of_jobs\"] ) for j in range(decoder_data[\"quant_operations_per_jobs\"][i])\n",
        "  ]\n",
        "  job_op = job_op_list[operation_index]\n",
        "  return job_op\n",
        "#"
      ],
      "execution_count": 3,
      "outputs": []
    },
    {
      "cell_type": "markdown",
      "metadata": {
        "id": "myFbG8O0OoHt"
      },
      "source": [
        "----"
      ]
    }
  ]
}