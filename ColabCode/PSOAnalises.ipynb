{
  "nbformat": 4,
  "nbformat_minor": 0,
  "metadata": {
    "colab": {
      "name": "PSOAnalises.ipynb",
      "provenance": [],
      "collapsed_sections": [
        "MqTh_IZT3CSJ",
        "EBwJa5x229T2",
        "_lE4oWh2ND9U",
        "kBjWnFSbNLbT",
        "RUcfmDRjOevK",
        "QbxLICc8NWkp",
        "Y45Zx0jXOoG1",
        "B7S2aPxg21fZ",
        "uWFW5R5Hhgzd"
      ]
    },
    "kernelspec": {
      "name": "python3",
      "display_name": "Python 3"
    },
    "language_info": {
      "name": "python"
    }
  },
  "cells": [
    {
      "cell_type": "code",
      "metadata": {
        "id": "T62OmQYwdOTL"
      },
      "source": [
        "%matplotlib inline\n",
        "import numpy as np\n",
        "import seaborn as sns\n",
        "import matplotlib.pyplot as plt\n",
        "\n",
        "from matplotlib import cm\n",
        "from matplotlib import animation\n",
        "\n",
        "from matplotlib.ticker import LinearLocator, FormatStrFormatter\n",
        "from mpl_toolkits.mplot3d import Axes3D\n",
        "from IPython.display import HTML"
      ],
      "execution_count": null,
      "outputs": []
    },
    {
      "cell_type": "markdown",
      "metadata": {
        "id": "upwE_liW4f4x"
      },
      "source": [
        "#Particulas"
      ]
    },
    {
      "cell_type": "markdown",
      "metadata": {
        "id": "sGbnispnrGvt"
      },
      "source": [
        "###Datasets\n"
      ]
    },
    {
      "cell_type": "code",
      "metadata": {
        "cellView": "code",
        "id": "QWLi16XJdPgJ"
      },
      "source": [
        "positions_history = np.load(\"particles_positions_history.npy\")"
      ],
      "execution_count": null,
      "outputs": []
    },
    {
      "cell_type": "markdown",
      "metadata": {
        "id": "5_N82crtrDGl"
      },
      "source": [
        "### Plotagem\n"
      ]
    },
    {
      "cell_type": "code",
      "metadata": {
        "id": "bjHeuxI3XZLo"
      },
      "source": [
        "def update(i):\n",
        "  scat.set_offsets(positions_history[i])\n",
        "  scat.set_array(colors)\n",
        "  txt_title.set_text(f'Interação: {i+1}')\n",
        "  return scat,\n",
        "\n",
        "colors = np.ones(len(positions_history[0]))\n",
        "colors[len(colors)-1] = 3\n",
        "\n",
        "fig, ax = plt.subplots()\n",
        "ax.set_xlim((0, np.max(positions_history[0])+3))\n",
        "ax.set_ylim((0, np.max(positions_history[0])+3))\n",
        "scat = ax.scatter([],[])\n",
        "\n",
        "txt_title = ax.set_title('')\n",
        "\n",
        "ani = animation.FuncAnimation(fig, update, frames=len(positions_history), interval=200, blit=True)\n",
        "HTML(ani.to_html5_video())"
      ],
      "execution_count": null,
      "outputs": []
    },
    {
      "cell_type": "markdown",
      "metadata": {
        "id": "AlZsIxf32t40"
      },
      "source": [
        "-----\n"
      ]
    },
    {
      "cell_type": "markdown",
      "metadata": {
        "id": "axiWFQIQ2xEa"
      },
      "source": [
        "# Solution Space"
      ]
    },
    {
      "cell_type": "code",
      "metadata": {
        "id": "5PeJGOc5EYGe",
        "colab": {
          "base_uri": "https://localhost:8080/",
          "height": 237
        },
        "outputId": "4f4d2c54-0993-403a-8c40-128f911c4ae0"
      },
      "source": [
        "solution_space = np.load(\"solution_space.npy\")\n",
        "sol = solution_space.reshape((900, 60))\n",
        "#fitness = [{\"fitness\": decode(ss), \"solution\": ss} for ss in sol]\n",
        "#fitness = np.array([[decode(ss),[ss]] for ss in sol])\n",
        "fitness = np.array([decode(ss) for ss in sol])\n",
        "#np.save(\"fitness_solution\", fitness)\n",
        "\n",
        "plt.hist(fitness, bins=np.arange(fitness.min(), fitness.max()+1))\n",
        "\n",
        "print(fitness.min()) #2\n",
        "print(fitness.max()) #65\n",
        "\"\"\"\n",
        "hig_solution = []\n",
        "low_solution = []\n",
        "for s in sol:\n",
        "  fit = decode(s)\n",
        "  if fit < 12:\n",
        "    low_solution.append(s)\n",
        "  if fit > 65:\n",
        "    hig_solution.append(s)\n",
        "  #\n",
        "#\n",
        "#print(len(low_solution))\n",
        "#print(len(hig_solution))\n",
        "#np.save(\"low_solution_range.npy\", low_solution)\n",
        "#np.save(\"hig_solution_range.npy\", hig_solution)\n",
        "\"\"\""
      ],
      "execution_count": null,
      "outputs": [
        {
          "output_type": "error",
          "ename": "NameError",
          "evalue": "ignored",
          "traceback": [
            "\u001b[0;31m---------------------------------------------------------------------------\u001b[0m",
            "\u001b[0;31mNameError\u001b[0m                                 Traceback (most recent call last)",
            "\u001b[0;32m<ipython-input-1-bd24a320afd0>\u001b[0m in \u001b[0;36m<module>\u001b[0;34m()\u001b[0m\n\u001b[0;32m----> 1\u001b[0;31m \u001b[0msolution_space\u001b[0m \u001b[0;34m=\u001b[0m \u001b[0mnp\u001b[0m\u001b[0;34m.\u001b[0m\u001b[0mload\u001b[0m\u001b[0;34m(\u001b[0m\u001b[0;34m\"solution_space.npy\"\u001b[0m\u001b[0;34m)\u001b[0m\u001b[0;34m\u001b[0m\u001b[0;34m\u001b[0m\u001b[0m\n\u001b[0m\u001b[1;32m      2\u001b[0m \u001b[0msol\u001b[0m \u001b[0;34m=\u001b[0m \u001b[0msolution_space\u001b[0m\u001b[0;34m.\u001b[0m\u001b[0mreshape\u001b[0m\u001b[0;34m(\u001b[0m\u001b[0;34m(\u001b[0m\u001b[0;36m900\u001b[0m\u001b[0;34m,\u001b[0m \u001b[0;36m60\u001b[0m\u001b[0;34m)\u001b[0m\u001b[0;34m)\u001b[0m\u001b[0;34m\u001b[0m\u001b[0;34m\u001b[0m\u001b[0m\n\u001b[1;32m      3\u001b[0m \u001b[0;31m#fitness = [{\"fitness\": decode(ss), \"solution\": ss} for ss in sol]\u001b[0m\u001b[0;34m\u001b[0m\u001b[0;34m\u001b[0m\u001b[0;34m\u001b[0m\u001b[0m\n\u001b[1;32m      4\u001b[0m \u001b[0;31m#fitness = np.array([[decode(ss),[ss]] for ss in sol])\u001b[0m\u001b[0;34m\u001b[0m\u001b[0;34m\u001b[0m\u001b[0;34m\u001b[0m\u001b[0m\n\u001b[1;32m      5\u001b[0m \u001b[0mfitness\u001b[0m \u001b[0;34m=\u001b[0m \u001b[0mnp\u001b[0m\u001b[0;34m.\u001b[0m\u001b[0marray\u001b[0m\u001b[0;34m(\u001b[0m\u001b[0;34m[\u001b[0m\u001b[0mdecode\u001b[0m\u001b[0;34m(\u001b[0m\u001b[0mss\u001b[0m\u001b[0;34m)\u001b[0m \u001b[0;32mfor\u001b[0m \u001b[0mss\u001b[0m \u001b[0;32min\u001b[0m \u001b[0msol\u001b[0m\u001b[0;34m]\u001b[0m\u001b[0;34m)\u001b[0m\u001b[0;34m\u001b[0m\u001b[0;34m\u001b[0m\u001b[0m\n",
            "\u001b[0;31mNameError\u001b[0m: name 'np' is not defined"
          ]
        }
      ]
    },
    {
      "cell_type": "code",
      "metadata": {
        "colab": {
          "base_uri": "https://localhost:8080/",
          "height": 282
        },
        "id": "B-A0s2u-FByU",
        "outputId": "b67f76fc-ef48-45fe-e35b-8589e5360085"
      },
      "source": [
        "hg = np.load(\"hig_solution_range.npy\")\n",
        "lw = np.load(\"low_solution_range.npy\")\n",
        "#decode(hg[0], True)\n",
        "#decode(lw[0], True)\n",
        "\n",
        "#f_hg = [{\"fitness\": decode(ss), \"solution\": ss} for ss in hg] #75, 66\n",
        "#f_lw = [{\"fitness\": decode(ss), \"solution\": ss} for ss in lw] #10, 11, 9, 11\n",
        "f_75 = hg[0]\n",
        "f_66 = hg[1]\n",
        "f_11 = lw[0]\n",
        "f_12 = lw[1]\n",
        "f_10 = lw[2]\n",
        "f_09 = lw[3]\n",
        "\n",
        "#decode(f_75, True)\n",
        "#decode(f_66, True)\n",
        "#decode(f_11, True)\n",
        "#decode(f_12, True)\n",
        "#decode(f_10, True)\n",
        "decode(f_09, True)"
      ],
      "execution_count": null,
      "outputs": [
        {
          "output_type": "display_data",
          "data": {
            "image/png": "[encoded data removed]",
            "text/plain": [
              "<Figure size 432x288 with 1 Axes>"
            ]
          },
          "metadata": {
            "needs_background": "light"
          }
        },
        {
          "output_type": "execute_result",
          "data": {
            "text/plain": [
              "11"
            ]
          },
          "metadata": {},
          "execution_count": 112
        }
      ]
    },
    {
      "cell_type": "code",
      "metadata": {
        "id": "QHkzyMzB3oTe"
      },
      "source": [
        "## Informations of execution\n",
        "number_exec = 4"
      ],
      "execution_count": null,
      "outputs": []
    },
    {
      "cell_type": "code",
      "metadata": {
        "colab": {
          "base_uri": "https://localhost:8080/"
        },
        "id": "36Pe9teTuAvd",
        "outputId": "d5472c5a-1c56-46ce-cccc-e47beb59279d"
      },
      "source": [
        "class Teste:\n",
        "  def __init__(self, data):\n",
        "    self.data = data\n",
        "#\n",
        "\n",
        "#np.save(\"teste.npy\", [Teste(1), Teste(2), Teste(3)])\n",
        "#t = np.load(\"teste.npy\", allow_pickle=True)"
      ],
      "execution_count": null,
      "outputs": [
        {
          "output_type": "stream",
          "name": "stdout",
          "text": [
            "1\n",
            "2\n",
            "3\n"
          ]
        }
      ]
    },
    {
      "cell_type": "markdown",
      "metadata": {
        "id": "MqTh_IZT3CSJ"
      },
      "source": [
        "## Dados"
      ]
    },
    {
      "cell_type": "code",
      "metadata": {
        "id": "OPo5dqHk20yj",
        "colab": {
          "base_uri": "https://localhost:8080/",
          "height": 167
        },
        "outputId": "9c1abc73-5efc-40f3-cd03-d297d443f07e"
      },
      "source": [
        "solution_space = np.load(\"solution_space3.npy\")"
      ],
      "execution_count": null,
      "outputs": [
        {
          "output_type": "error",
          "ename": "NameError",
          "evalue": "ignored",
          "traceback": [
            "\u001b[0;31m---------------------------------------------------------------------------\u001b[0m",
            "\u001b[0;31mNameError\u001b[0m                                 Traceback (most recent call last)",
            "\u001b[0;32m<ipython-input-2-14f7d552b9dc>\u001b[0m in \u001b[0;36m<module>\u001b[0;34m()\u001b[0m\n\u001b[0;32m----> 1\u001b[0;31m \u001b[0msolution_space\u001b[0m \u001b[0;34m=\u001b[0m \u001b[0mnp\u001b[0m\u001b[0;34m.\u001b[0m\u001b[0mload\u001b[0m\u001b[0;34m(\u001b[0m\u001b[0;34m\"solution_space3.npy\"\u001b[0m\u001b[0;34m)\u001b[0m\u001b[0;34m\u001b[0m\u001b[0;34m\u001b[0m\u001b[0m\n\u001b[0m",
            "\u001b[0;31mNameError\u001b[0m: name 'np' is not defined"
          ]
        }
      ]
    },
    {
      "cell_type": "markdown",
      "metadata": {
        "id": "EBwJa5x229T2"
      },
      "source": [
        "## Plotagem"
      ]
    },
    {
      "cell_type": "code",
      "metadata": {
        "id": "tbmyLJIc3ml3",
        "colab": {
          "base_uri": "https://localhost:8080/",
          "height": 277
        },
        "outputId": "b53a5c1f-138a-47d2-f731-14e8a53771fb"
      },
      "source": [
        "fig = plt.figure()\n",
        "ax = fig.add_subplot(111, projection='3d')\n",
        "xx = np.arange(0, solution_space.shape[0])\n",
        "yy = np.arange(0, solution_space.shape[0])\n",
        "\n",
        "X, Y = np.meshgrid(xx, yy)\n",
        "\"\"\" Make a list with fitness of all intens of solutions space \"\"\"\n",
        "Z = np.array([[decode(ss) for ss in s] for s in solution_space])\n",
        "\n",
        "ax.plot_surface(X, Y, Z, cmap=cm.coolwarm, linewidth=0, antialiased=True, rcount=800, ccount=800)\n",
        "ax.set_zlabel('Fitness')\n",
        "fig.suptitle('Fitness of Solution Space', fontsize=20)\n",
        "plt.show()"
      ],
      "execution_count": null,
      "outputs": [
        {
          "output_type": "display_data",
          "data": {
            "image/png": "[encoded data removed]",
            "text/plain": [
              "<Figure size 432x288 with 1 Axes>"
            ]
          },
          "metadata": {
            "needs_background": "light"
          }
        }
      ]
    },
    {
      "cell_type": "markdown",
      "metadata": {
        "id": "tFcwXqXw3J58"
      },
      "source": [
        "------"
      ]
    },
    {
      "cell_type": "markdown",
      "metadata": {
        "id": "_aNbeWaC4CBZ"
      },
      "source": [
        "# Codigos Auxiliares"
      ]
    },
    {
      "cell_type": "markdown",
      "metadata": {
        "id": "jgbmfj_9Q3Vf"
      },
      "source": [
        "### Encoder / Decoder Data"
      ]
    },
    {
      "cell_type": "markdown",
      "metadata": {
        "id": "_lE4oWh2ND9U"
      },
      "source": [
        "#### Encoder Data"
      ]
    },
    {
      "cell_type": "code",
      "metadata": {
        "id": "91wOf9s1J9Rq"
      },
      "source": [
        "encoder_data = {\n",
        "\t\"solution_space_size\"       : 441,\n",
        "\t\"quant_operations_per_jobs\" : [3, 3, 3, 3, 3, 3, 3, 3, 3, 3],\n",
        "\t\"quant_of_jobs\"             : 10,\n",
        "\t\"quant_of_machines\"         : 10,\n",
        "\t\"half_of_scheduling\"        : 30,\n",
        "\t\"solution_size\"             : 60,\n",
        "\t\"process_times\"             : np.load(\"encoder_process_times3.npy\")\n",
        "}"
      ],
      "execution_count": null,
      "outputs": []
    },
    {
      "cell_type": "markdown",
      "metadata": {
        "id": "YtWNObWZNI0M"
      },
      "source": [
        "#### Decoder Data"
      ]
    },
    {
      "cell_type": "code",
      "metadata": {
        "id": "YxIryr58L_Ko"
      },
      "source": [
        "decoder_data = {\n",
        "\t\"quant_of_jobs\":             10,\n",
        "\t\"quant_of_machines\":         10,\n",
        "\t\"quant_operations_per_jobs\": [3, 3, 3, 3, 3, 3, 3, 3, 3, 3],\n",
        "\t\"max_of_operations\":         3,\n",
        "\t\"half_of_scheduling\":        30,\n",
        "\t\"process_times\":             np.load(\"decoder_process_times3.npy\")\n",
        "}"
      ],
      "execution_count": null,
      "outputs": []
    },
    {
      "cell_type": "markdown",
      "metadata": {
        "id": "kBjWnFSbNLbT"
      },
      "source": [
        "### Encode Function"
      ]
    },
    {
      "cell_type": "code",
      "metadata": {
        "id": "T0T8zZax4IUn"
      },
      "source": [
        "#Encode function"
      ],
      "execution_count": null,
      "outputs": []
    },
    {
      "cell_type": "markdown",
      "metadata": {
        "id": "RUcfmDRjOevK"
      },
      "source": [
        "### Decode Function"
      ]
    },
    {
      "cell_type": "code",
      "metadata": {
        "id": "DWkIrFccOevN"
      },
      "source": [
        "def decode(scheduling, plot_scheduling=False, fig=None):\n",
        "  machines_matrix = np.zeros((decoder_data[\"quant_of_jobs\"], decoder_data[\"max_of_operations\"]), dtype=int)\n",
        "  times_matrix    = np.zeros((decoder_data[\"quant_of_jobs\"], decoder_data[\"max_of_operations\"]), dtype=int)\n",
        "\n",
        "  machines_scheduling   = scheduling[:decoder_data[\"half_of_scheduling\"]]\n",
        "  operations_scheduling = scheduling[decoder_data[\"half_of_scheduling\"]:]\n",
        "\n",
        "  operation_index = 0\n",
        "  for i in range( decoder_data[\"quant_of_jobs\"] ):\n",
        "    for j in range( decoder_data[\"quant_operations_per_jobs\"][i] ):\n",
        "      count = 0\n",
        "      process_time = decoder_data[\"process_times\"][operation_index]\n",
        "\n",
        "      for index in range( len(process_time) ):\n",
        "        if process_time[index] != -1:\n",
        "          count+=1\n",
        "\n",
        "        if count == machines_scheduling[operation_index]:\n",
        "          machines_matrix[i][j] = index+1\n",
        "          times_matrix[i][j]  = process_time[index]\n",
        "          break\n",
        "\n",
        "      operation_index+=1\n",
        "\n",
        "    #print(machines_matrix)\n",
        "    #print(times_matrix)\n",
        "\n",
        "  start_time = np.zeros(\n",
        "    (decoder_data[\"quant_of_machines\"], decoder_data[\"half_of_scheduling\"]),\n",
        "    dtype=int\n",
        "  )\n",
        "\n",
        "  end_time = np.zeros(\n",
        "    (decoder_data[\"quant_of_machines\"], decoder_data[\"half_of_scheduling\"]),\n",
        "    dtype=int\n",
        "  )\n",
        "\n",
        "  op_count_dict = {}\n",
        "  machine_operations = np.zeros(decoder_data[\"quant_of_machines\"], dtype=int)\n",
        "\n",
        "  for os in operations_scheduling:\n",
        "    if os in op_count_dict:\n",
        "      op_count_dict[os] += 1\n",
        "    else:\n",
        "      op_count_dict[os] = 1\n",
        "    #\n",
        "\n",
        "    operation_count = op_count_dict[os]\n",
        "    operation_index = find_one_operation_in_a_machine(os, operation_count)\n",
        "\n",
        "    machine_number     = machines_matrix[os-1][operation_count-1]\n",
        "    pro_time           = times_matrix [os-1][operation_count-1]\n",
        "\n",
        "    machine_operation  = machine_operations[machine_number-1]\n",
        "    current_start_time = start_time[machine_number-1][operation_index]\n",
        "    current_end_time   = end_time  [machine_number-1][operation_index]\n",
        "\n",
        "    previous_operation_index = find_one_operation_in_a_machine(os, operation_count - 1)\n",
        "    previous_machine_number = machines_matrix[os-1][operation_count-2]\n",
        "\n",
        "    if machine_operation == 0 and operation_count == 1 :\n",
        "      current_start_time = 0\n",
        "      current_end_time   = pro_time\n",
        "    #\n",
        "\n",
        "    elif machine_operation == 0 and operation_count > 1 :\n",
        "      prev_m_num          = machines_matrix[os-1][operation_count-2]\n",
        "      prev_end_time       = end_time[prev_m_num-1][previous_operation_index]\n",
        "      current_start_time  = prev_end_time\n",
        "      current_end_time    = prev_end_time + pro_time\n",
        "    #\n",
        "\n",
        "    elif machine_operation > 0:\n",
        "      flag=0\n",
        "      prev_end_time = 0\n",
        "\n",
        "      if operation_count == 1 :\n",
        "        free_start = 0\n",
        "      else:\n",
        "        prev_end_time = end_time[previous_machine_number-1][previous_operation_index]\n",
        "        free_start = prev_end_time\n",
        "      #\n",
        "\n",
        "      order_start_time = np.sort(start_time[machine_number-1][end_time[machine_number-1] > 0])\n",
        "      order_end_time   = np.sort(end_time  [machine_number-1][end_time[machine_number-1] > 0])\n",
        "\n",
        "      for index in range(len(order_start_time)):\n",
        "        if order_start_time[index] - free_start >= pro_time:\n",
        "          current_start_time = free_start\n",
        "          current_end_time   = free_start + pro_time\n",
        "          flag = 1\n",
        "          break\n",
        "        #\n",
        "\n",
        "        if order_end_time[index] - free_start >= 0:\n",
        "          free_start = order_end_time[index]\n",
        "        #\n",
        "      #\n",
        "\n",
        "      if flag == 0:\n",
        "        free_start = max(np.max(end_time[machine_number-1]), prev_end_time)\n",
        "        current_start_time = free_start\n",
        "        current_end_time   = free_start + pro_time\n",
        "      #\n",
        "    #\n",
        "\n",
        "    machine_operation += 1\n",
        "\n",
        "    machine_operations[machine_number - 1]          = machine_operation\n",
        "    start_time[machine_number - 1][operation_index] = current_start_time\n",
        "    end_time  [machine_number - 1][operation_index] = current_end_time\n",
        "  #\n",
        "\n",
        "  #print(scheduling)\n",
        "  if plot_scheduling:\n",
        "    draw_gatt(start_time, end_time, fig)\n",
        "  #\n",
        "\n",
        "  fitness = np.max(end_time)\n",
        "\n",
        "  return fitness\n",
        "#"
      ],
      "execution_count": null,
      "outputs": []
    },
    {
      "cell_type": "markdown",
      "metadata": {
        "id": "Aa2ZLAayNRPd"
      },
      "source": [
        "### Gantt Plot Function\n"
      ]
    },
    {
      "cell_type": "code",
      "metadata": {
        "id": "6oSueSmGNbrd"
      },
      "source": [
        "def draw_gatt(start_time, end_time, fig):\n",
        "  colors = { 0:'red', 1:'blue', 2:'yellow', 3:'orange', \n",
        "    4:'green', 5:'palegoldenrod',6:'purple', 7:'pink', \n",
        "    8:'Thistle', 9:'Magenta',10:'SlateBlue', 11:'RoyalBlue', \n",
        "    12:'Cyan', 13:'Aqua',14:'floralwhite',15:'ghostwhite'\n",
        "  }\n",
        "  #ax = plt.figure()\n",
        "  # i = Machine_index ; j = Operation_index\n",
        "  for i in range( decoder_data[\"quant_of_machines\"] ): # Vai de linha em linha do plot (começando do 0)\n",
        "    for j in range( decoder_data[\"half_of_scheduling\"] ):\n",
        "      current_start_time      = start_time[i][j]\n",
        "      current_end_time        = end_time[i][j]\n",
        "      current_diference_time  = current_end_time - current_start_time\n",
        "      #if current_diference_time > 0:\n",
        "      if end_time[i][j] != 0 and end_time[i][j] - start_time[i][j] != 0:\n",
        "        operation = find_machine_of_a_operation(j)\n",
        "        bar_width = current_diference_time\n",
        "        bar_left = current_start_time\n",
        "        bar_color = colors[operation[0] - 1]\n",
        "        #bar_str = operation[0] # Somente o numero do Job\n",
        "        bar_str = operation     # Numero do Job e da Operação\n",
        "\n",
        "        plt.barh(y=i, width=bar_width, height=0.5, left=bar_left, color=bar_color, edgecolor='black')\n",
        "        plt.text(x=bar_left + 0.1, y=i, s=bar_str, fontsize=8)\n",
        "  #\n",
        "  #ax.yticks(np.arange(i + 1), np.arange(1, i + 2))\n",
        "  plt.yticks(np.arange(i + 1), np.arange(1, i + 2))\n",
        "\n",
        "  plt.show()\n",
        "  pass\n",
        "#"
      ],
      "execution_count": null,
      "outputs": []
    },
    {
      "cell_type": "markdown",
      "metadata": {
        "id": "QbxLICc8NWkp"
      },
      "source": [
        "### Find Operation Function"
      ]
    },
    {
      "cell_type": "code",
      "metadata": {
        "id": "xU0M40s6NcBH"
      },
      "source": [
        "def find_one_operation_in_a_machine(i, j):\n",
        "  if i == 1:\n",
        "    op_index = j - 1\n",
        "  else:\n",
        "    op_index = sum(decoder_data[\"quant_operations_per_jobs\"][:i - 1]) + j - 1\n",
        "\n",
        "  return op_index\n"
      ],
      "execution_count": null,
      "outputs": []
    },
    {
      "cell_type": "markdown",
      "metadata": {
        "id": "dwI4TUeoOzB2"
      },
      "source": [
        "----"
      ]
    },
    {
      "cell_type": "markdown",
      "metadata": {
        "id": "Y45Zx0jXOoG1"
      },
      "source": [
        "### Find Machine"
      ]
    },
    {
      "cell_type": "code",
      "metadata": {
        "id": "F4LyNNCFOoHl"
      },
      "source": [
        "def find_machine_of_a_operation(operation_index):\n",
        "  job_op_list = [\n",
        "      (i + 1, j + 1) for i in range( decoder_data[\"quant_of_jobs\"] ) for j in range(decoder_data[\"quant_operations_per_jobs\"][i])\n",
        "  ]\n",
        "  job_op = job_op_list[operation_index]\n",
        "  return job_op\n",
        "#"
      ],
      "execution_count": null,
      "outputs": []
    },
    {
      "cell_type": "markdown",
      "metadata": {
        "id": "myFbG8O0OoHt"
      },
      "source": [
        "----"
      ]
    },
    {
      "cell_type": "markdown",
      "metadata": {
        "id": "B7S2aPxg21fZ"
      },
      "source": [
        "#Testes"
      ]
    },
    {
      "cell_type": "code",
      "metadata": {
        "id": "LlWiAekMeODr"
      },
      "source": [
        "for pos in data:\n",
        "  x_coordinates = [x[0] for x in pos]\n",
        "  y_coordinates = [x[1] for x in pos]\n",
        "  plt.scatter(x_coordinates, y_coordinates)\n",
        "  plt.show()"
      ],
      "execution_count": null,
      "outputs": []
    },
    {
      "cell_type": "code",
      "metadata": {
        "colab": {
          "base_uri": "https://localhost:8080/"
        },
        "id": "4H27dDM1nBLV",
        "outputId": "d4fe1de9-0b7e-4952-b220-f4b917de4bd9"
      },
      "source": [
        "arr1 = np.array([1, 2, 3, 4, 5])\n",
        "arr2 = np.array([10,20,30,40,50])\n",
        "#arrm = (arr1 + arr2)/2\n",
        "arrm = np.gradient([1, 3, 8, 10, 14])\n",
        "\n",
        "print(arrm)"
      ],
      "execution_count": null,
      "outputs": [
        {
          "output_type": "stream",
          "name": "stdout",
          "text": [
            "[2.  3.5 3.5 3.  4. ]\n"
          ]
        }
      ]
    },
    {
      "cell_type": "code",
      "metadata": {
        "colab": {
          "base_uri": "https://localhost:8080/"
        },
        "id": "yusWTBXGDZYO",
        "outputId": "9d05d69d-b82a-42dc-eda1-0c7ece7d18fb"
      },
      "source": [
        "innitial_position = np.array([31, 17])\n",
        "g_best_vector     = np.array([24, 11])\n",
        "p_best_vector     = np.array([30, 5])\n",
        "\n",
        "median_best_vector = ((p_best_vector + g_best_vector)/2)\n",
        "\n",
        "\n",
        "#inertia_vector = (innitial_position * 0.5)\n",
        "final_vector = (median_best_vector * 0.5)\n",
        "print(median_best_vector)\n",
        "print(final_vector)"
      ],
      "execution_count": null,
      "outputs": [
        {
          "output_type": "stream",
          "name": "stdout",
          "text": [
            "[27.  8.]\n",
            "[13.5  4. ]\n"
          ]
        }
      ]
    },
    {
      "cell_type": "code",
      "metadata": {
        "id": "RAIHvZao2qkw"
      },
      "source": [
        "ar = np.empty((900,24))\n",
        "v = 30\n",
        "br = ar.reshape(v,v,24)\n",
        "#print(br)"
      ],
      "execution_count": null,
      "outputs": []
    },
    {
      "cell_type": "code",
      "metadata": {
        "colab": {
          "base_uri": "https://localhost:8080/"
        },
        "id": "kh65rXuVeasp",
        "outputId": "19b3eacb-15f6-4048-9801-99fcd839d353"
      },
      "source": [
        "def update(i):\n",
        "  scat.set_offsets(l[i])\n",
        "  return scat,\n",
        "\n",
        "l = [[1,2],[3,2],[1,2],[3,2],[1,2],[3,2]]\n",
        "\n",
        "fig, ax = plt.subplots()\n",
        "ax.set_xlim((0, 5))\n",
        "ax.set_ylim((0, 5))\n",
        "scat = ax.scatter([],[])\n",
        "#scat.set_offsets([1,2,3],[1,2,3])\n",
        "#scat.set_offsets([[1,1],[2,2],[3,3],[4,4],[5,5]])\n",
        "scat.set_offsets([[i,i] for i in range(5)])\n",
        "#scat.set_offsets([[4,4],[6,6]])\n",
        "#scat.set_array([[4,4],[6,6]])\n",
        "scat.set_array(np.array([i for i in range(5)]))\n",
        "#ani = animation.FuncAnimation(fig, update, frames=5, interval=5, blit=True)\n",
        "#HTML(ani.to_html5_video())"
      ],
      "execution_count": null,
      "outputs": [
        {
          "output_type": "display_data",
          "data": {
            "image/png": "[encoded data removed]",
            "text/plain": [
              "<Figure size 432x288 with 1 Axes>"
            ]
          },
          "metadata": {
            "needs_background": "light"
          }
        }
      ]
    },
    {
      "cell_type": "markdown",
      "metadata": {
        "id": "uWFW5R5Hhgzd"
      },
      "source": [
        "## Test Plot"
      ]
    },
    {
      "cell_type": "code",
      "metadata": {
        "id": "T5sfQzkthf77"
      },
      "source": [
        "# create a figure and axes\n",
        "fig = plt.figure(figsize=(10,5))\n",
        "ax1 = plt.subplot(1,2,1)   \n",
        "\n",
        "# set up the subplots as needed\n",
        "ax1.set_xlabel('Time')\n",
        "ax1.set_ylabel('Magnitude')\n",
        "\n",
        "# create objects that will change in the animation. These are\n",
        "# initially empty, and will be given new values for each frame\n",
        "# in the animation.\n",
        "txt_title = ax1.set_title('')\n",
        "#line1, = ax1.plot([], [], 'b', lw=2)     # ax.plot returns a list of 2D line objects\n",
        "state1, = ax1.scatter([], [])\n",
        "#line2, = ax1.plot([], [], 'r', lw=2)\n",
        "\n",
        "ax1.legend(['sin','cos']);"
      ],
      "execution_count": null,
      "outputs": []
    },
    {
      "cell_type": "code",
      "metadata": {
        "id": "0BkUuqChfu8h"
      },
      "source": [
        "# create a figure and axes\n",
        "fig = plt.figure(figsize=(10,5))\n",
        "ax1 = plt.subplot(1,2,1)   \n",
        "\n",
        "# set up the subplots as needed\n",
        "ax1.set_xlim(( 0, 2))            \n",
        "ax1.set_ylim((-2, 2))\n",
        "ax1.set_xlabel('Time')\n",
        "ax1.set_ylabel('Magnitude')\n",
        "\n",
        "# create objects that will change in the animation. These are\n",
        "# initially empty, and will be given new values for each frame\n",
        "# in the animation.\n",
        "txt_title = ax1.set_title('')\n",
        "line1, = ax1.plot([], [], 'b', lw=2)     # ax.plot returns a list of 2D line objects\n",
        "line2, = ax1.plot([], [], 'r', lw=2)\n",
        "\n",
        "ax1.legend(['sin','cos']);"
      ],
      "execution_count": null,
      "outputs": []
    },
    {
      "cell_type": "code",
      "metadata": {
        "id": "EdA5cyUtf49-"
      },
      "source": [
        "# animation function. This is called sequentially\n",
        "def drawframe(n):\n",
        "  x = np.linspace(0, 2, 1000)\n",
        "\n",
        "  y1 = np.sin(2 * np.pi * (x - 0.01 * n))\n",
        "  line1.set_data(x, y1)\n",
        "\n",
        "  y2 = np.cos(2 * np.pi * (x - 0.01 * n))\n",
        "  line2.set_data(x, y2)\n",
        "\n",
        "  txt_title.set_text('Frame = {0:4d}'.format(n))\n",
        "  return (line1,line2)"
      ],
      "execution_count": null,
      "outputs": []
    },
    {
      "cell_type": "code",
      "metadata": {
        "id": "sXwpeAzugNm8"
      },
      "source": [
        "anim = animation.FuncAnimation(fig, drawframe, frames=100, interval=20, blit=True)"
      ],
      "execution_count": null,
      "outputs": []
    },
    {
      "cell_type": "code",
      "metadata": {
        "id": "6iLXREVAga7n"
      },
      "source": [
        "\n",
        "HTML(anim.to_html5_video())"
      ],
      "execution_count": null,
      "outputs": []
    },
    {
      "cell_type": "code",
      "metadata": {
        "id": "a8zV29_2kqy1"
      },
      "source": [
        "def update(i):\n",
        "  \"\"\"Update the scatter plot.\"\"\"\n",
        "  #print(i)\n",
        "  #print(l[i])\n",
        "  scat.set_offsets(l[i])\n",
        "  #data = next(stream)\n",
        "  # Set x and y data...\n",
        "  #scat.set_offsets(data)\n",
        "  # Set sizes...\n",
        "  #scat.set_sizes(300 * abs(data[:, 2])**1.5 + 100)\n",
        "  # Set colors..\n",
        "  #scat.set_array(data[:, 3])\n",
        "\n",
        "  # We need to return the updated artist for FuncAnimation to draw..\n",
        "  # Note that it expects a sequence of artists, thus the trailing comma.\n",
        "  #return l[i],\n",
        "  return scat,\n",
        "\n",
        "\n",
        "#count = 0\n",
        "\n",
        "#stream = data_stream()\n",
        "\n",
        "#fig, ax = plt.subplots()\n",
        "#fig = plt.figure(figsize=(5,5))\n",
        "#ax = plt.subplot()\n",
        "\n",
        "l = [[1,2],[3,2],[1,2],[3,2],[1,2],[3,2]]\n",
        "\n",
        "fig, ax = plt.subplots()\n",
        "ax.set_xlim((0, 10))\n",
        "ax.set_ylim((0, 10))\n",
        "#scat = ax.scatter([1,1],[3,3])\n",
        "scat = ax.scatter([],[])\n",
        "#scat.set_offsets([1,2,3],[1,2,3])\n",
        "#scat.set_offsets([[1,1],[2,2]])\n",
        "#scat.set_offsets([[4,4],[6,6]])\n",
        "ani = animation.FuncAnimation(fig, update, frames=5, interval=5, blit=True)\n",
        "HTML(ani.to_html5_video())"
      ],
      "execution_count": null,
      "outputs": []
    }
  ]
}