{
  "nbformat": 4,
  "nbformat_minor": 0,
  "metadata": {
    "colab": {
      "name": "AnalisesExecutePSO.ipynb",
      "provenance": [],
      "collapsed_sections": [
        "bQmj1ZZVKEvv",
        "yt9tuaefSNV1",
        "npZyoIchJxre",
        "Zlbkg7nqJTl_",
        "1OKMi8PSJOjk"
      ],
      "toc_visible": true
    },
    "kernelspec": {
      "name": "python3",
      "display_name": "Python 3"
    },
    "language_info": {
      "name": "python"
    }
  },
  "cells": [
    {
      "cell_type": "code",
      "metadata": {
        "id": "mWAiddCATQDX"
      },
      "source": [
        "#!pip install matplotlib==3.4\n",
        "import matplotlib.pyplot as plt\n",
        "import numpy as np\n",
        "%matplotlib inline"
      ],
      "execution_count": 1,
      "outputs": []
    },
    {
      "cell_type": "markdown",
      "metadata": {
        "id": "DTDCjpoXYzct"
      },
      "source": [
        "#Load Data"
      ]
    },
    {
      "cell_type": "code",
      "metadata": {
        "id": "aGA9MuUbHNLy"
      },
      "source": [
        "### Paths ###\n",
        "base_path = \"/content/drive/MyDrive/PSO_execs/FilteredDataSets/\"\n",
        "fitness_path = f\"{base_path}/fitness.npy\""
      ],
      "execution_count": 5,
      "outputs": []
    },
    {
      "cell_type": "code",
      "metadata": {
        "id": "0OuhGn55Yhma"
      },
      "source": [
        "fitness = np.load(fitness_path, allow_pickle=True)[()]"
      ],
      "execution_count": 6,
      "outputs": []
    },
    {
      "cell_type": "markdown",
      "metadata": {
        "id": "Y3mXJCSlSwum"
      },
      "source": [
        "# Plotagem"
      ]
    },
    {
      "cell_type": "markdown",
      "metadata": {
        "id": "Iv0crU1sKAgr"
      },
      "source": [
        "## Parametros"
      ]
    },
    {
      "cell_type": "code",
      "metadata": {
        "id": "pb2yLWVJH1-x"
      },
      "source": [
        "limits                = [(9,15), (10,23), (6,19), (15,29)]\n",
        "figsize               = (18,4)\n",
        "approach_1_label      = \"PSO Base\"\n",
        "approach_2_label      = \"Inércia Dinâmica\"\n",
        "xlabel                = \"Makespan\"\n",
        "ylabel                = \"Frequência\""
      ],
      "execution_count": 46,
      "outputs": []
    },
    {
      "cell_type": "markdown",
      "metadata": {
        "id": "bQmj1ZZVKEvv"
      },
      "source": [
        "## Execuções"
      ]
    },
    {
      "cell_type": "code",
      "metadata": {
        "id": "8ubKZPvQV3AX"
      },
      "source": [
        "#plot_fitness_analise_by_num(p_num=1, with_legend=True, save=False)\n",
        "#plot_fitness_analise_by_num(p_num=2, with_legend=True, save=False)\n",
        "#plot_fitness_analise_by_num(p_num=3, with_legend=True, save=False)\n",
        "plot_fitness_analise_by_num(p_num=4, with_legend=True, save=False, format=\"jpg\")"
      ],
      "execution_count": null,
      "outputs": []
    },
    {
      "cell_type": "markdown",
      "metadata": {
        "id": "KlxYXBtzIIQf"
      },
      "source": [
        "# Função de Plot\n",
        "\n",
        "Docs: [MathTex](https://matplotlib.org/stable/tutorials/text/mathtext.html)\n"
      ]
    },
    {
      "cell_type": "code",
      "metadata": {
        "id": "VcPBrKjk9pGl"
      },
      "source": [
        "def plot_fitness_analise_by_num(p_num, with_legend, save, format):\n",
        "  fig = plt.figure(figsize=figsize)\n",
        "  ax = fig.subplots(nrows=1, ncols=3)\n",
        "  fig.suptitle(f\"Problema {p_num}\", fontsize=20)\n",
        "  plt.subplots_adjust(top=0.85)\n",
        "\n",
        "  lim   = limits[p_num-1]\n",
        "  sizes = [50,70,90]\n",
        "  cofs  = [3,5,6]\n",
        "\n",
        "  ######################################\n",
        "  for i in range(len(sizes)):\n",
        "    ft1 = fitness[f\"problem_{p_num}\"][f\"coef_{cofs[i]}\"][f\"approach_{1}\"]\n",
        "    ft2 = fitness[f\"problem_{p_num}\"][f\"coef_{cofs[i]}\"][f\"approach_{2}\"]\n",
        "    ft1u, ft1c = np.unique(ft1, return_counts=True)\n",
        "    ft2u, ft2c = np.unique(ft2, return_counts=True)\n",
        "    frec1 = dict(zip(ft1u, ft1c))\n",
        "    frec2 = dict(zip(ft2u, ft2c))\n",
        "\n",
        "    label1 = '\\n'.join((\n",
        "      r'%s'                   % (approach_1_label),\n",
        "      r'$\\overline{x}=%.2f$'  % (np.average(ft1)),\n",
        "      r'$\\sigma=%.2f$'        % (np.std(ft1)),\n",
        "      r'')\n",
        "    )\n",
        "\n",
        "    label2 = '\\n'.join((\n",
        "      r'%s'                   % (approach_2_label),\n",
        "      r'$\\overline{x}=%.2f$'  % (np.average(ft2)),\n",
        "      r'$\\sigma=%.2f$'        % (np.std(ft2)))\n",
        "    )\n",
        "  \n",
        "    labels = np.unique(np.concatenate((ft1,ft2)))\n",
        "    pop1 = [(frec1[x] if x in frec1 else 0) for x in labels]\n",
        "    pop2 = [(frec2[x] if x in frec2 else 0) for x in labels]\n",
        "    X_axis = np.arange(len(labels))\n",
        "    ax[i].bar(X_axis-0.2, pop1, 0.4, label=label1)\n",
        "    ax[i].bar(X_axis+0.2, pop2, 0.4, label=label2)\n",
        "    ax[i].set_xticks(X_axis)\n",
        "    ax[i].set_xticklabels(labels)\n",
        "    ax[i].set_xlabel(xlabel)\n",
        "    ax[i].set_ylabel(ylabel)\n",
        "    ax[i].title.set_text(f\"{sizes[i]}x{sizes[i]}\")\n",
        "    if with_legend:\n",
        "      ax[i].legend(fontsize=10, loc='upper right')\n",
        "  if save:\n",
        "    plt.savefig(f\"problem_{p_num}.{format}\")\n",
        "  ######################################\n",
        "  plt.show()\n",
        "####"
      ],
      "execution_count": 42,
      "outputs": []
    },
    {
      "cell_type": "markdown",
      "metadata": {
        "id": "yt9tuaefSNV1"
      },
      "source": [
        "#Teste Estatisticas"
      ]
    },
    {
      "cell_type": "code",
      "metadata": {
        "id": "n6LPLT9-bzoh"
      },
      "source": [
        "ft1 = fitness[f\"problem_{4}\"][f\"coef_{6}\"][f\"approach_{1}\"]\n",
        "ft2 = fitness[f\"problem_{4}\"][f\"coef_{6}\"][f\"approach_{2}\"]\n",
        "get_statistics(ft1)\n",
        "#get_statistics(ft2)"
      ],
      "execution_count": null,
      "outputs": []
    },
    {
      "cell_type": "code",
      "metadata": {
        "id": "k0PpWlBktBqf"
      },
      "source": [
        "def get_statistics(fit):\n",
        "  print(f\"Média .........................=> {np.average(fit)}\")\n",
        "  print(f\"Média Aritmética ..............=> {np.mean(fit)}\")\n",
        "  print(f\"Mediana .......................=> {np.median(fit)}\")\n",
        "  print(f\"Desvio Padrão .................=> {np.std(fit)}\")\n",
        "  print(f\"Variância .....................=> {np.var(fit)}\")\n",
        "  print(f\"Mínimo ........................=> {np.min(fit)}\")\n",
        "  print(f\"Máximo ........................=> {np.max(fit)}\")\n",
        "  print(f\"Valores Únicos ................=> {np.unique(fit)}\")\n",
        "  print(f\"Quantidade de Valores Únicos ..=> {len(np.unique(fit))}\")"
      ],
      "execution_count": null,
      "outputs": []
    },
    {
      "cell_type": "markdown",
      "metadata": {
        "id": "0Tpa0BMcFBxY"
      },
      "source": [
        "# :: Archived ::"
      ]
    },
    {
      "cell_type": "markdown",
      "metadata": {
        "id": "rjKxTLm8IHl7"
      },
      "source": [
        "#Plot no formato antigo"
      ]
    },
    {
      "cell_type": "markdown",
      "metadata": {
        "id": "qPnADjcpISLJ"
      },
      "source": [
        "##Parametros"
      ]
    },
    {
      "cell_type": "code",
      "metadata": {
        "id": "IhKB91E7IBMn"
      },
      "source": [
        "limits_p1             = np.arange(9,15)\n",
        "limits_p2             = np.arange(10,23)\n",
        "limits_p3             = np.arange(6,19)\n",
        "limits_p4             = np.arange(15,29)\n",
        "limits                = [limits_p1, limits_p2, limits_p3, limits_p4]\n",
        "figsize               = (18,4)\n",
        "label_back            = \"PSO Base\"\n",
        "label_front           = \"Inércia Dinâmica\"\n",
        "largura_bar_back      = 1.0\n",
        "largura_bar_front     = 0.5\n",
        "edgecolor_front       = \"black\"\n",
        "color_back            = \"red\"\n",
        "color_front           = \"blue\"\n",
        "alpha_back            = 1\n",
        "alpha_front           = 0.7\n",
        "\n",
        "\n",
        "#plot_fitness_analise()\n",
        "#plot_fitness_analise_problema1()\n",
        "#plot_fitness_analise_by_num(4)"
      ],
      "execution_count": null,
      "outputs": []
    },
    {
      "cell_type": "markdown",
      "metadata": {
        "id": "-EnuMkymIViq"
      },
      "source": [
        "##Funções"
      ]
    },
    {
      "cell_type": "markdown",
      "metadata": {
        "id": "npZyoIchJxre"
      },
      "source": [
        "### Com legendas"
      ]
    },
    {
      "cell_type": "code",
      "metadata": {
        "id": "c3rfV-cyxOg-",
        "colab": {
          "base_uri": "https://localhost:8080/",
          "height": 284
        },
        "outputId": "f88a82c3-ff81-4c16-9fdc-2ad3e915cc5f"
      },
      "source": [
        "Formato antigo com legendas\n",
        "def plot_fitness_analise_by_num2(p_num):\n",
        "  fig = plt.figure(figsize=figsize)\n",
        "  ax = fig.subplots(nrows=1, ncols=3)\n",
        "  fig.suptitle(f\"Problema {p_num}\")\n",
        "\n",
        "  lim=limits[p_num-1]\n",
        "  sizes = [50,70,90]\n",
        "  cofs  = [3,5,6]\n",
        "\n",
        "  ######################################\n",
        "  for i in range(len(sizes)):\n",
        "    ft1 = fitness[f\"problem_{p_num}\"][f\"coef_{cofs[i]}\"][f\"approach_{1}\"]\n",
        "    ft2 = fitness[f\"problem_{p_num}\"][f\"coef_{cofs[i]}\"][f\"approach_{2}\"]\n",
        "    mft1 = np.round(np.average(ft1), 2)\n",
        "    mft2 = np.round(np.average(ft2), 2)\n",
        "    dvpft1 = np.round(np.std(ft1), 2)\n",
        "    dvpft2 = np.round(np.std(ft2), 2)\n",
        "    #legs = [f\"m = {mft1}\", f\"m = {mft2}\", f\"σ = {dvpft1}\", f\"σ = {dvpft2}\"]\n",
        "    textstr = '\\n'.join((\n",
        "      r'$\\mathrm{median}=%.2f$' % (mft2, ),\n",
        "      r'$\\sigma=%.2f$' % (dvpft1, ))\n",
        "    )\n",
        "    legs = [f\"m = {mft1}\", f\"m = {mft2}\"]\n",
        "    ax[i].title.set_text(f\"{sizes[i]}x{sizes[i]}\")\n",
        "    ax[i].hist(ft1, bins=lim, alpha=alpha_back,  color=color_back,  rwidth=largura_bar_back,  edgecolor=edgecolor_front)\n",
        "    ax[i].hist(ft2, bins=lim, alpha=alpha_front, color=color_front, rwidth=largura_bar_front, edgecolor=edgecolor_front)\n",
        "    ax[i].set_xlabel('Makespan')\n",
        "    ax[i].set_ylabel('Frequência')\n",
        "    ax[i].legend([label_back, label_front], loc='upper right')\n",
        "    props = dict(boxstyle='round', facecolor='white', alpha=0.5)\n",
        "    ax[i].text(0.05, 0.95, textstr, transform=ax[i].transAxes, fontsize=10,\n",
        "        verticalalignment='top', bbox=props)\n",
        "  ######################################\n",
        "  plt.show()\n",
        "plot_fitness_analise_by_num2(1)"
      ],
      "execution_count": 12,
      "outputs": [
        {
          "output_type": "display_data",
          "data": {
            "image/png": "[encoded data removed]",
            "text/plain": [
              "<Figure size 1296x288 with 3 Axes>"
            ]
          },
          "metadata": {
            "needs_background": "light"
          }
        }
      ]
    },
    {
      "cell_type": "markdown",
      "metadata": {
        "id": "Hx5SNfhBJh7x"
      },
      "source": [
        "### Por Numero"
      ]
    },
    {
      "cell_type": "code",
      "metadata": {
        "colab": {
          "base_uri": "https://localhost:8080/",
          "height": 284
        },
        "id": "vgDv0p1jjN1S",
        "outputId": "6a536609-5b9d-4f1b-ce40-cb8129c44512"
      },
      "source": [
        "#Formato antigo por numero\n",
        "def plot_fitness_analise_by_num(p_num):\n",
        "  fig = plt.figure(figsize=figsize)\n",
        "  ax = fig.subplots(nrows=1, ncols=3)\n",
        "  fig.suptitle(f\"Problema {p_num}\")\n",
        "\n",
        "  lim=limits[p_num-1]\n",
        "  sizes = [50,70,90]\n",
        "  cofs  = [3,5,6]\n",
        "\n",
        "  ######################################\n",
        "  for i in range(len(sizes)):\n",
        "    ft1 = fitness[f\"problem_{p_num}\"][f\"coef_{cofs[i]}\"][f\"approach_{1}\"]\n",
        "    ft2 = fitness[f\"problem_{p_num}\"][f\"coef_{cofs[i]}\"][f\"approach_{2}\"]\n",
        "    mft1 = np.round(np.average(ft1), 2)\n",
        "    mft2 = np.round(np.average(ft2), 2)\n",
        "    dvpft1 = np.round(np.std(ft1), 2)\n",
        "    dvpft2 = np.round(np.std(ft2), 2)\n",
        "    #legs = [f\"m = {mft1}\", f\"m = {mft2}\", f\"σ = {dvpft1}\", f\"σ = {dvpft2}\"]\n",
        "    legs = [f\"m = {mft1}\", f\"m = {mft2}\"]\n",
        "    ax[i].title.set_text(f\"{sizes[i]}x{sizes[i]}\")\n",
        "    ax[i].hist(ft1, bins=lim, alpha=alpha_back,  color=color_back,  rwidth=largura_bar_back,  edgecolor=edgecolor_front)\n",
        "    ax[i].hist(ft2, bins=lim, alpha=alpha_front, color=color_front, rwidth=largura_bar_front, edgecolor=edgecolor_front)\n",
        "    ax[i].set_xlabel('Makespan')\n",
        "    ax[i].set_ylabel('Frequência')\n",
        "    leg_med = ax[i].legend(legs, loc='upper left')\n",
        "    ax[i].legend([label_back, label_front], loc='upper right')\n",
        "    ax[i].add_artist(leg_med)\n",
        "  ######################################\n",
        "  plt.show()\n",
        "plot_fitness_analise_by_num(1)"
      ],
      "execution_count": 11,
      "outputs": [
        {
          "output_type": "display_data",
          "data": {
            "image/png": "[encoded data removed]",
            "text/plain": [
              "<Figure size 1296x288 with 3 Axes>"
            ]
          },
          "metadata": {
            "needs_background": "light"
          }
        }
      ]
    },
    {
      "cell_type": "markdown",
      "metadata": {
        "id": "Zlbkg7nqJTl_"
      },
      "source": [
        "### Todos os problemas"
      ]
    },
    {
      "cell_type": "code",
      "metadata": {
        "id": "UKfuY6W9cvuP"
      },
      "source": [
        "#https://matplotlib.org/stable/api/_as_gen/matplotlib.pyplot.hist.html\n",
        "# Formato antigo | todos os problemas\n",
        "def plot_fitness_analise():\n",
        "  fig = plt.figure(figsize=figsize)\n",
        "  ax = fig.subplots(nrows=1, ncols=3)\n",
        "\n",
        "  fig.suptitle(\"Problema 1\")\n",
        "  ######################################\n",
        "  ax[0].title.set_text(\"50x50\")\n",
        "  ax[0].hist(ft_p1_c3_a1, bins=limits_p1, alpha=alpha_back,  color=color_back,  rwidth=largura_bar_back,  label=label_back)\n",
        "  ax[0].hist(ft_p1_c3_a2, bins=limits_p1, alpha=alpha_front, color=color_front, rwidth=largura_bar_front, label=label_front, edgecolor=edgecolor_front)\n",
        "  ax[0].set_xlabel('Makespan')\n",
        "  ax[0].set_ylabel('Frequência')\n",
        "  ax[0].legend(loc='upper right')\n",
        "\n",
        "  ax[1].title.set_text(\"70x70\")\n",
        "  ax[1].hist(ft_p1_c5_a1, bins=limits_p1, alpha=alpha_back,  color=color_back,  rwidth=largura_bar_back,  label=label_back)\n",
        "  ax[1].hist(ft_p1_c5_a2, bins=limits_p1, alpha=alpha_front, color=color_front, rwidth=largura_bar_front, label=label_front, edgecolor=edgecolor_front)\n",
        "  ax[1].set_xlabel('Makespan')\n",
        "  ax[1].set_ylabel('Frequência')\n",
        "  ax[1].legend(loc='upper right')\n",
        "\n",
        "  ax[2].title.set_text(\"90x90\")\n",
        "  ax[2].hist(ft_p1_c6_a1, bins=limits_p1, alpha=alpha_back,  color=color_back,  rwidth=largura_bar_back,  label=label_back)\n",
        "  ax[2].hist(ft_p1_c6_a2, bins=limits_p1, alpha=alpha_front, color=color_front, rwidth=largura_bar_front, label=label_front, edgecolor=edgecolor_front)\n",
        "  ax[2].set_xlabel('Makespan')\n",
        "  ax[2].set_ylabel('Frequência')\n",
        "  ax[2].legend(loc='upper right')\n",
        "  ######################################\n",
        "  plt.show()\n",
        "  ######################################\n",
        "\n",
        "\n",
        "  fig = plt.figure(figsize=figsize)\n",
        "  ax = fig.subplots(nrows=1, ncols=3)\n",
        "  fig.suptitle(\"Problema 2\")\n",
        "  ######################################\n",
        "  ax[0].title.set_text(\"50x50\")\n",
        "  ax[0].hist(ft_p2_c3_a1, bins=limits_p2, alpha=alpha_back,  color=color_back,  rwidth=largura_bar_back,  label=label_back)\n",
        "  ax[0].hist(ft_p2_c3_a2, bins=limits_p2, alpha=alpha_front, color=color_front, rwidth=largura_bar_front, label=label_front, edgecolor=edgecolor_front)\n",
        "  ax[0].set_xlabel('Makespan')\n",
        "  ax[0].set_ylabel('Frequência')\n",
        "  ax[0].legend(loc='upper right')\n",
        "\n",
        "  ax[1].title.set_text(\"70x70\")\n",
        "  ax[1].hist(ft_p2_c5_a1, bins=limits_p2, alpha=alpha_back,  color=color_back,  rwidth=largura_bar_back,  label=label_back)\n",
        "  ax[1].hist(ft_p2_c5_a2, bins=limits_p2, alpha=alpha_front, color=color_front, rwidth=largura_bar_front, label=label_front, edgecolor=edgecolor_front)\n",
        "  ax[1].legend(loc='upper right')\n",
        "\n",
        "  ax[2].title.set_text(\"90x90\")\n",
        "  ax[2].hist(ft_p2_c6_a1, bins=limits_p2, alpha=alpha_back,  color=color_back,  rwidth=largura_bar_back,  label=label_back)\n",
        "  ax[2].hist(ft_p2_c6_a2, bins=limits_p2, alpha=alpha_front, color=color_front, rwidth=largura_bar_front, label=label_front, edgecolor=edgecolor_front)\n",
        "  ax[2].set_xlabel('Makespan')\n",
        "  ax[2].set_ylabel('Frequência')\n",
        "  ax[2].legend(loc='upper right')\n",
        "  ######################################\n",
        "  plt.show()\n",
        "  ######################################\n",
        "\n",
        "  \n",
        "  fig = plt.figure(figsize=figsize)\n",
        "  ax = fig.subplots(nrows=1, ncols=3)\n",
        "  fig.suptitle(\"Problema 3\")\n",
        "  ######################################\n",
        "  ax[0].title.set_text(\"50x50\")\n",
        "  ax[0].hist(ft_p3_c3_a1, bins=limits_p3, alpha=alpha_back,  color=color_back,  rwidth=largura_bar_back,  label=label_back)\n",
        "  ax[0].hist(ft_p3_c3_a2, bins=limits_p3, alpha=alpha_front, color=color_front, rwidth=largura_bar_front, label=label_front, edgecolor=edgecolor_front)\n",
        "  ax[0].set_xlabel('Makespan')\n",
        "  ax[0].set_ylabel('Frequência')\n",
        "  ax[0].legend(loc='upper right')\n",
        "\n",
        "  ax[1].title.set_text(\"70x70\")\n",
        "  ax[1].hist(ft_p3_c5_a1, bins=limits_p3, alpha=alpha_back,  color=color_back,  rwidth=largura_bar_back,  label=label_back)\n",
        "  ax[1].hist(ft_p3_c5_a2, bins=limits_p3, alpha=alpha_front, color=color_front, rwidth=largura_bar_front, label=label_front, edgecolor=edgecolor_front)\n",
        "  ax[1].set_xlabel('Makespan')\n",
        "  ax[1].set_ylabel('Frequência')\n",
        "  ax[1].legend(loc='upper right')\n",
        "\n",
        "  ax[2].title.set_text(\"90x90\")\n",
        "  ax[2].hist(ft_p3_c6_a1, bins=limits_p3, alpha=alpha_back,  color=color_back,  rwidth=largura_bar_back,  label=label_back)\n",
        "  ax[2].hist(ft_p3_c6_a2, bins=limits_p3, alpha=alpha_front, color=color_front, rwidth=largura_bar_front, label=label_front, edgecolor=edgecolor_front)\n",
        "  ax[2].set_xlabel('Makespan')\n",
        "  ax[2].set_ylabel('Frequência')\n",
        "  ax[2].legend(loc='upper right')\n",
        "  ######################################\n",
        "  plt.show()\n",
        "  ######################################\n",
        "\n",
        "\n",
        "  fig = plt.figure(figsize=figsize)\n",
        "  ax = fig.subplots(nrows=1, ncols=3)\n",
        "  fig.suptitle(\"Problema 4\")\n",
        "  ######################################\n",
        "  ax[0].title.set_text(\"50x50\")\n",
        "  ax[0].hist(ft_p4_c3_a1, bins=limits_p4, alpha=alpha_back,  color=color_back,  rwidth=largura_bar_back,  label=label_back)\n",
        "  ax[0].hist(ft_p4_c3_a2, bins=limits_p4, alpha=alpha_front, color=color_front, rwidth=largura_bar_front, label=label_front, edgecolor=edgecolor_front)\n",
        "  ax[0].set_xlabel('Makespan')\n",
        "  ax[0].set_ylabel('Frequência')\n",
        "  ax[0].legend(loc='upper right')\n",
        "\n",
        "  ax[1].title.set_text(\"70x70\")\n",
        "  ax[1].hist(ft_p4_c5_a1, bins=limits_p4, alpha=alpha_back,  color=color_back,  rwidth=largura_bar_back,  label=label_back)\n",
        "  ax[1].hist(ft_p4_c5_a2, bins=limits_p4, alpha=alpha_front, color=color_front, rwidth=largura_bar_front, label=label_front, edgecolor=edgecolor_front)\n",
        "  ax[1].set_xlabel('Makespan')\n",
        "  ax[1].set_ylabel('Frequência')\n",
        "  ax[1].legend(loc='upper right')\n",
        "\n",
        "  ax[2].title.set_text(\"90x90\")\n",
        "  ax[2].hist(ft_p4_c6_a1, bins=limits_p4, alpha=alpha_back,  color=color_back,  rwidth=largura_bar_back,  label=label_back)\n",
        "  ax[2].hist(ft_p4_c6_a2, bins=limits_p4, alpha=alpha_front, color=color_front, rwidth=largura_bar_front, label=label_front, edgecolor=edgecolor_front)\n",
        "  ax[2].set_xlabel('Makespan')\n",
        "  ax[2].set_ylabel('Frequência')\n",
        "  ax[2].legend(loc='upper right')\n",
        "  ######################################\n",
        "  plt.show()"
      ],
      "execution_count": 17,
      "outputs": []
    },
    {
      "cell_type": "markdown",
      "metadata": {
        "id": "1OKMi8PSJOjk"
      },
      "source": [
        "### Problema Unico"
      ]
    },
    {
      "cell_type": "code",
      "metadata": {
        "colab": {
          "base_uri": "https://localhost:8080/",
          "height": 284
        },
        "id": "Uhorh3DA6zQr",
        "outputId": "7014800c-1fc3-4704-c09d-3c85fbab2492"
      },
      "source": [
        "# Formato antigo | problema unico\n",
        "def plot_fitness_analise_problema1():\n",
        "  fig = plt.figure(figsize=figsize)\n",
        "  ax = fig.subplots(nrows=1, ncols=3)\n",
        "\n",
        "  fig.suptitle(\"Problema 1\")\n",
        "  ######################################\n",
        "  mft_p1_c3_a1 = np.round(sum(ft_p1_c3_a1)/len(ft_p1_c3_a1), 2)\n",
        "  mft_p1_c3_a2 = np.round(sum(ft_p1_c3_a2)/len(ft_p1_c3_a2), 2)\n",
        "  ax[0].title.set_text(\"50x50\")\n",
        "  ax[0].hist(ft_p1_c3_a1, bins=limits_p1, alpha=alpha_back,  color=color_back,  rwidth=largura_bar_back)\n",
        "  ax[0].hist(ft_p1_c3_a2, bins=limits_p1, alpha=alpha_front, color=color_front, rwidth=largura_bar_front, edgecolor=edgecolor_front)\n",
        "  ax[0].set_xlabel('Makespan')\n",
        "  ax[0].set_ylabel('Frequência')\n",
        "  leg1 = ax[0].legend([f\"m = {mft_p1_c3_a1}\", f\"m = {mft_p1_c3_a2}\"], loc='upper left')\n",
        "  ax[0].legend([label_back, label_front], loc='upper right')\n",
        "  #ax[0].legend(loc='upper right')\n",
        "  ax[0].add_artist(leg1)\n",
        "\n",
        "  ax[1].title.set_text(\"70x70\")\n",
        "  mft_p1_c5_a1 = np.round(sum(ft_p1_c5_a1)/len(ft_p1_c5_a1), 2)\n",
        "  mft_p1_c5_a2 = np.round(sum(ft_p1_c5_a2)/len(ft_p1_c5_a2), 2)\n",
        "  ax[1].hist(ft_p1_c5_a1, bins=limits_p1, alpha=alpha_back,  color=color_back,  rwidth=largura_bar_back,  label=label_back, )\n",
        "  ax[1].hist(ft_p1_c5_a2, bins=limits_p1, alpha=alpha_front, color=color_front, rwidth=largura_bar_front, label=label_front, edgecolor=edgecolor_front)\n",
        "  ax[1].set_xlabel('Makespan')\n",
        "  ax[1].set_ylabel('Frequência')\n",
        "  ax[1].legend(loc='upper right')\n",
        "\n",
        "  ax[2].title.set_text(\"90x90\")\n",
        "  ax[2].hist(ft_p1_c6_a1, bins=limits_p1, alpha=alpha_back,  color=color_back,  rwidth=largura_bar_back,  label=label_back)\n",
        "  ax[2].hist(ft_p1_c6_a2, bins=limits_p1, alpha=alpha_front, color=color_front, rwidth=largura_bar_front, label=label_front, edgecolor=edgecolor_front)\n",
        "  ax[2].set_xlabel('Makespan')\n",
        "  ax[2].set_ylabel('Frequência')\n",
        "  ax[2].legend(loc='upper right')\n",
        "  ######################################\n",
        "  plt.show()\n",
        "plot_fitness_analise_problema1()\n"
      ],
      "execution_count": 20,
      "outputs": [
        {
          "output_type": "display_data",
          "data": {
            "image/png": "[encoded data removed]",
            "text/plain": [
              "<Figure size 1296x288 with 3 Axes>"
            ]
          },
          "metadata": {
            "needs_background": "light"
          }
        }
      ]
    },
    {
      "cell_type": "markdown",
      "metadata": {
        "id": "zLEjFFmRBfWx"
      },
      "source": [
        "##Import and Save Fitness"
      ]
    },
    {
      "cell_type": "code",
      "metadata": {
        "id": "aMRa3qJ-FJBE"
      },
      "source": [
        "#problem_x / coef_x / approach_x\n",
        "#fitness[f\"problem_{}\"][f\"coef_{}\"][f\"approach_{}\"].append()\n",
        "fitness = {\n",
        "\"problem_1\": {\n",
        "  \"coef_3\": {\"approach_1\": [], \"approach_2\": []},\n",
        "  \"coef_5\": {\"approach_1\": [],\"approach_2\": []},\n",
        "  \"coef_6\": {\"approach_1\": [], \"approach_2\": []}},\n",
        "\"problem_2\": {\n",
        "  \"coef_3\": {\"approach_1\": [], \"approach_2\": []},\n",
        "  \"coef_5\": {\"approach_1\": [],\"approach_2\": []},\n",
        "  \"coef_6\": {\"approach_1\": [], \"approach_2\": []}},\n",
        "\"problem_3\": {\n",
        "  \"coef_3\": {\"approach_1\": [], \"approach_2\": []},\n",
        "  \"coef_5\": {\"approach_1\": [],\"approach_2\": []},\n",
        "  \"coef_6\": {\"approach_1\": [], \"approach_2\": []}},\n",
        "\"problem_4\": {\n",
        "  \"coef_3\": {\"approach_1\": [], \"approach_2\": []},\n",
        "  \"coef_5\": {\"approach_1\": [],\"approach_2\": []},\n",
        "  \"coef_6\": {\"approach_1\": [], \"approach_2\": []}}\n",
        "}\n",
        "\n",
        "for e in range(1,15):\n",
        "  for r in range(1, 21):\n",
        "    for i in range(1, 5):\n",
        "      path_base_3 = f\"drive/MyDrive/PSO_execs/Kacem/exec{r}/problem{i}/cof{3}\"\n",
        "      ft_3_1 = np.load(f\"{path_base_3}/fitness_aprout{1}_exec{e}.npy\")\n",
        "      ft_3_2 = np.load(f\"{path_base_3}/fitness_aprout{2}_exec{e}.npy\")\n",
        "      fitness[f\"problem_{i}\"][f\"coef_{3}\"][f\"approach_{1}\"].append(ft_3_1[()])\n",
        "      fitness[f\"problem_{i}\"][f\"coef_{3}\"][f\"approach_{2}\"].append(ft_3_2[()])\n",
        "\n",
        "      path_base_5 = f\"drive/MyDrive/PSO_execs/Kacem/exec{r}/problem{i}/cof{5}\"\n",
        "      ft_5_1 = np.load(f\"{path_base_5}/fitness_aprout{1}_exec{e}.npy\")\n",
        "      ft_5_2 = np.load(f\"{path_base_5}/fitness_aprout{2}_exec{e}.npy\")\n",
        "      fitness[f\"problem_{i}\"][f\"coef_{5}\"][f\"approach_{1}\"].append(ft_5_1[()])\n",
        "      fitness[f\"problem_{i}\"][f\"coef_{5}\"][f\"approach_{2}\"].append(ft_5_2[()])\n",
        "\n",
        "      path_base_6 = f\"drive/MyDrive/PSO_execs/Kacem/exec{r}/problem{i}/cof{6}\"\n",
        "      ft_6_1 = np.load(f\"{path_base_6}/fitness_aprout{1}_exec{e}.npy\")\n",
        "      ft_6_2 = np.load(f\"{path_base_6}/fitness_aprout{2}_exec{e}.npy\")\n",
        "      fitness[f\"problem_{i}\"][f\"coef_{6}\"][f\"approach_{1}\"].append(ft_6_1[()])\n",
        "      fitness[f\"problem_{i}\"][f\"coef_{6}\"][f\"approach_{2}\"].append(ft_6_2[()])\n",
        "    #\n",
        "  #\n",
        "#\n",
        "\n",
        "#ft1 = fitness[f\"problem_{1}\"][f\"coef_{3}\"][f\"approach_{1}\"]\n",
        "#ft2 = fitness[f\"problem_{1}\"][f\"coef_{3}\"][f\"approach_{2}\"]\n",
        "\n",
        "np.save(\"fitness.npy\", fitness)"
      ],
      "execution_count": null,
      "outputs": []
    },
    {
      "cell_type": "code",
      "metadata": {
        "id": "1gTsCZFzang-"
      },
      "source": [
        "fitness_min_max = {\n",
        "    \"ft_p1_c3_a1\":{\"min\": min(ft_p1_c3_a1), \"max\": max(ft_p1_c3_a1)},\n",
        "    \"ft_p1_c3_a2\":{\"min\": min(ft_p1_c3_a2), \"max\": max(ft_p1_c3_a2)},\n",
        "    \"ft_p1_c5_a1\":{\"min\": min(ft_p1_c5_a1), \"max\": max(ft_p1_c5_a1)},\n",
        "    \"ft_p1_c5_a2\":{\"min\": min(ft_p1_c5_a2), \"max\": max(ft_p1_c5_a2)},\n",
        "    \"ft_p1_c6_a1\":{\"min\": min(ft_p1_c6_a1), \"max\": max(ft_p1_c6_a1)},\n",
        "    \"ft_p1_c6_a2\":{\"min\": min(ft_p1_c6_a2), \"max\": max(ft_p1_c6_a2)},\n",
        "    \"ft_p2_c3_a1\":{\"min\": min(ft_p2_c3_a1), \"max\": max(ft_p2_c3_a1)},\n",
        "    \"ft_p2_c3_a2\":{\"min\": min(ft_p2_c3_a2), \"max\": max(ft_p2_c3_a2)},\n",
        "    \"ft_p2_c5_a1\":{\"min\": min(ft_p2_c5_a1), \"max\": max(ft_p2_c5_a1)},\n",
        "    \"ft_p2_c5_a2\":{\"min\": min(ft_p2_c5_a2), \"max\": max(ft_p2_c5_a2)},\n",
        "    \"ft_p2_c6_a1\":{\"min\": min(ft_p2_c6_a1), \"max\": max(ft_p2_c6_a1)},\n",
        "    \"ft_p2_c6_a2\":{\"min\": min(ft_p2_c6_a2), \"max\": max(ft_p2_c6_a2)},\n",
        "    \"ft_p3_c3_a1\":{\"min\": min(ft_p3_c3_a1), \"max\": max(ft_p3_c3_a1)},\n",
        "    \"ft_p3_c3_a2\":{\"min\": min(ft_p3_c3_a2), \"max\": max(ft_p3_c3_a2)},\n",
        "    \"ft_p3_c5_a1\":{\"min\": min(ft_p3_c5_a1), \"max\": max(ft_p3_c5_a1)},\n",
        "    \"ft_p3_c5_a2\":{\"min\": min(ft_p3_c5_a2), \"max\": max(ft_p3_c5_a2)},\n",
        "    \"ft_p3_c6_a1\":{\"min\": min(ft_p3_c6_a1), \"max\": max(ft_p3_c6_a1)},\n",
        "    \"ft_p3_c6_a2\":{\"min\": min(ft_p3_c6_a2), \"max\": max(ft_p3_c6_a2)},\n",
        "    \"ft_p4_c3_a1\":{\"min\": min(ft_p4_c3_a1), \"max\": max(ft_p4_c3_a1)},\n",
        "    \"ft_p4_c3_a2\":{\"min\": min(ft_p4_c3_a2), \"max\": max(ft_p4_c3_a2)},\n",
        "    \"ft_p4_c5_a1\":{\"min\": min(ft_p4_c5_a1), \"max\": max(ft_p4_c5_a1)},\n",
        "    \"ft_p4_c5_a2\":{\"min\": min(ft_p4_c5_a2), \"max\": max(ft_p4_c5_a2)},\n",
        "    \"ft_p4_c6_a1\":{\"min\": min(ft_p4_c6_a1), \"max\": max(ft_p4_c6_a1)},\n",
        "    \"ft_p4_c6_a2\":{\"min\": min(ft_p4_c6_a2), \"max\": max(ft_p4_c6_a2)}\n",
        "}\n",
        "#np.save(\"fitness_min_max.npy\", fitness_min_max)"
      ],
      "execution_count": null,
      "outputs": []
    },
    {
      "cell_type": "code",
      "metadata": {
        "id": "qh_F9uUP0SGO"
      },
      "source": [
        "#@title\n",
        "median_fitness = {\n",
        "  \"problem_1\": {\n",
        "    \"coef_3\": {\"approach_1\": [sum(ft_p1_c3_a1)/len(ft_p1_c3_a1)], \"approach_2\": [sum(ft_p1_c3_a2)/len(ft_p1_c3_a2)]},\n",
        "    \"coef_5\": {\"approach_1\": [sum(ft_p1_c5_a1)/len(ft_p1_c5_a1)], \"approach_2\": [sum(ft_p1_c5_a2)/len(ft_p1_c5_a2)]},\n",
        "    \"coef_6\": {\"approach_1\": [sum(ft_p1_c6_a1)/len(ft_p1_c6_a1)], \"approach_2\": [sum(ft_p1_c6_a2)/len(ft_p1_c6_a2)]}\n",
        "  },\n",
        "  \"problem_2\": {\n",
        "    \"coef_3\": {\"approach_1\": [sum(ft_p2_c3_a1)/len(ft_p2_c3_a1)], \"approach_2\": [sum(ft_p2_c3_a2)/len(ft_p2_c3_a2)]},\n",
        "    \"coef_5\": {\"approach_1\": [sum(ft_p2_c5_a1)/len(ft_p2_c5_a1)], \"approach_2\": [sum(ft_p2_c5_a2)/len(ft_p2_c5_a2)]},\n",
        "    \"coef_6\": {\"approach_1\": [sum(ft_p2_c6_a1)/len(ft_p2_c6_a1)], \"approach_2\": [sum(ft_p2_c6_a2)/len(ft_p2_c6_a2)]}\n",
        "  },\n",
        "  \"problem_3\": {\n",
        "    \"coef_3\": {\"approach_1\": [sum(ft_p3_c3_a1)/len(ft_p3_c3_a1)], \"approach_2\": [sum(ft_p3_c3_a2)/len(ft_p3_c3_a2)]},\n",
        "    \"coef_5\": {\"approach_1\": [sum(ft_p3_c5_a1)/len(ft_p3_c5_a1)], \"approach_2\": [sum(ft_p3_c5_a2)/len(ft_p3_c5_a2)]},\n",
        "    \"coef_6\": {\"approach_1\": [sum(ft_p3_c6_a1)/len(ft_p3_c6_a1)], \"approach_2\": [sum(ft_p3_c6_a2)/len(ft_p3_c6_a2)]}\n",
        "  },\n",
        "  \"problem_4\": {\n",
        "    \"coef_3\": {\"approach_1\": [sum(ft_p4_c3_a1)/len(ft_p4_c3_a1)], \"approach_2\": [sum(ft_p4_c3_a2)/len(ft_p4_c3_a2)]},\n",
        "    \"coef_5\": {\"approach_1\": [sum(ft_p4_c5_a1)/len(ft_p4_c5_a1)], \"approach_2\": [sum(ft_p4_c5_a2)/len(ft_p4_c5_a2)]},\n",
        "    \"coef_6\": {\"approach_1\": [sum(ft_p4_c6_a1)/len(ft_p4_c6_a1)], \"approach_2\": [sum(ft_p4_c6_a2)/len(ft_p4_c6_a2)]}\n",
        "  }\n",
        "}"
      ],
      "execution_count": null,
      "outputs": []
    }
  ]
}