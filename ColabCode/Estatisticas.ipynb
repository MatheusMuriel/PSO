{
  "nbformat": 4,
  "nbformat_minor": 0,
  "metadata": {
    "colab": {
      "name": "Estatisticas.ipynb",
      "provenance": [],
      "collapsed_sections": []
    },
    "kernelspec": {
      "name": "python3",
      "display_name": "Python 3"
    },
    "language_info": {
      "name": "python"
    }
  },
  "cells": [
    {
      "cell_type": "code",
      "metadata": {
        "id": "qlvhb8x3FCJc"
      },
      "source": [
        "import numpy as np"
      ],
      "execution_count": null,
      "outputs": []
    },
    {
      "cell_type": "code",
      "metadata": {
        "colab": {
          "base_uri": "https://localhost:8080/"
        },
        "id": "bmxKBP_9FLQ7",
        "outputId": "64c6f6e6-38bc-422b-80c3-4a1fc6a2d306"
      },
      "source": [
        "fits = np.array([1.16, 4.07, 6.23,  4.14])\n",
        "desv = np.array([40,   4.08, 10.38, 12.06])\n",
        "vars = np.array([62.5, 7.83, 19.94, 44.77])\n",
        "\n",
        "\n",
        "print(f\"Makes: {np.average(fits)}\")\n",
        "print(f\"Desvs: {np.average(desv)}\")\n",
        "print(f\"Vars : {np.average(vars)}\")"
      ],
      "execution_count": null,
      "outputs": [
        {
          "output_type": "stream",
          "name": "stdout",
          "text": [
            "Makes: 3.9000000000000004\n",
            "Desvs: 16.63\n",
            "Vars : 33.76\n"
          ]
        }
      ]
    },
    {
      "cell_type": "code",
      "metadata": {
        "colab": {
          "base_uri": "https://localhost:8080/"
        },
        "id": "nGdCmyYyPGQc",
        "outputId": "3353593d-776d-459d-d806-ba27d701bee5"
      },
      "source": [
        "fits = np.array([4.07, 6.23,  4.14])\n",
        "desv = np.array([4.08, 10.38, 12.06])\n",
        "vars = np.array([7.83, 19.94, 44.77])\n",
        "\n",
        "\n",
        "print(f\"Makes: {np.average(fits)}\")\n",
        "print(f\"Desvs: {np.average(desv)}\")\n",
        "print(f\"Vars : {np.average(vars)}\")"
      ],
      "execution_count": null,
      "outputs": [
        {
          "output_type": "stream",
          "name": "stdout",
          "text": [
            "Makes: 4.8133333333333335\n",
            "Desvs: 8.840000000000002\n",
            "Vars : 24.180000000000003\n"
          ]
        }
      ]
    },
    {
      "cell_type": "code",
      "metadata": {
        "colab": {
          "base_uri": "https://localhost:8080/"
        },
        "id": "xoYNb9G9Hqrk",
        "outputId": "1720257e-60f9-4afa-fcef-1fe439d62a29"
      },
      "source": [
        "# Approuch 1\n",
        "med1 = [11.25, 11.20, 11.12]\n",
        "std1 = [0.44,  0.40,  0.35 ]\n",
        "\n",
        "# Approuch 2\n",
        "med2 = [11.06, 11.09, 11.04]\n",
        "std2 = [0.25,  0.29,  0.19 ]\n",
        "\n",
        "\n",
        "print(f\"Approunch 1: m={np.round(np.mean(med1), 2)} | d={np.round(np.mean(std1), 2)}\")\n",
        "print(f\"Approunch 2: m={np.round(np.mean(med2), 2)} | d={np.round(np.mean(std2), 2)}\")"
      ],
      "execution_count": null,
      "outputs": [
        {
          "output_type": "stream",
          "name": "stdout",
          "text": [
            "Approunch 1: m=11.19 | d=0.4\n",
            "Approunch 2: m=11.06 | d=0.24\n"
          ]
        }
      ]
    },
    {
      "cell_type": "markdown",
      "metadata": {
        "id": "QpY1xeDVJGSw"
      },
      "source": [
        "Média .........................=> 11.19047619047619  \n",
        "Média Aritmética ..............=> 11.19047619047619  \n",
        "Mediana .......................=> 11.0  \n",
        "Desvio Padrão .................=> 0.40166885425774007  \n",
        "Variância .....................=> 0.16133786848072562  \n",
        "Mínimo ........................=> 11  \n",
        "Máximo ........................=> 13  \n",
        "Valores Únicos ................=> [11 12 13]  \n",
        "Quantidade de Valores Únicos ..=> 3  "
      ]
    }
  ]
}